{
 "cells": [
  {
   "cell_type": "code",
   "execution_count": null,
   "metadata": {
    "collapsed": true
   },
   "outputs": [],
   "source": [
    "# encoding:utf-8\n",
    "import sys\n",
    "\n",
    "# Title: Pow(x, n)\n",
    "# Url: https://leetcode.com/problems/powx-n/\n",
    "# Difficulty: Medium\n",
    "\n",
    "# Problem Content:\n",
    "\"\"\"\n",
    "Implement pow(x, n).\n",
    "Subscribe to see which companies asked this question\n",
    "Show Tags\n",
    "Binary Search\n",
    "Math\n",
    "Show Similar Problems\n",
    " (M) Sqrt(x)\n",
    " (M) Super Pow\n",
    "\"\"\""
   ]
  },
  {
   "cell_type": "code",
   "execution_count": 4,
   "metadata": {
    "collapsed": true
   },
   "outputs": [],
   "source": [
    "class Solution(object):\n",
    "    def myPow(self, x, n):\n",
    "        \"\"\"\n",
    "        :type x: float\n",
    "        :type n: int\n",
    "        :rtype: float\n",
    "        \"\"\"\n",
    "        if n<0:\n",
    "            return 1/self.power(x,-n)\n",
    "        else:\n",
    "            return self.power(x,n)\n",
    "    def power(self,x,n):\n",
    "        if n==0:\n",
    "            return 1\n",
    "        elif n==1:\n",
    "            return x\n",
    "        p=self.power(x,n>>1)\n",
    "        if n&1:\n",
    "            return p*p*x\n",
    "        else:\n",
    "            return p*p"
   ]
  },
  {
   "cell_type": "code",
   "execution_count": null,
   "metadata": {
    "collapsed": true
   },
   "outputs": [],
   "source": [
    " "
   ]
  },
  {
   "cell_type": "code",
   "execution_count": 5,
   "metadata": {
    "collapsed": true
   },
   "outputs": [],
   "source": [
    "s=Solution()"
   ]
  },
  {
   "cell_type": "code",
   "execution_count": 6,
   "metadata": {
    "collapsed": false
   },
   "outputs": [
    {
     "data": {
      "text/plain": [
       "8"
      ]
     },
     "execution_count": 6,
     "metadata": {},
     "output_type": "execute_result"
    }
   ],
   "source": [
    "s.myPow(2,3)"
   ]
  },
  {
   "cell_type": "code",
   "execution_count": 7,
   "metadata": {
    "collapsed": false
   },
   "outputs": [
    {
     "data": {
      "text/plain": [
       "14641"
      ]
     },
     "execution_count": 7,
     "metadata": {},
     "output_type": "execute_result"
    }
   ],
   "source": [
    "s.myPow(11,4)"
   ]
  },
  {
   "cell_type": "code",
   "execution_count": null,
   "metadata": {
    "collapsed": true
   },
   "outputs": [],
   "source": []
  }
 ],
 "metadata": {
  "kernelspec": {
   "display_name": "Python [py2]",
   "language": "python",
   "name": "Python [py2]"
  },
  "language_info": {
   "codemirror_mode": {
    "name": "ipython",
    "version": 2
   },
   "file_extension": ".py",
   "mimetype": "text/x-python",
   "name": "python",
   "nbconvert_exporter": "python",
   "pygments_lexer": "ipython2",
   "version": "2.7.12"
  }
 },
 "nbformat": 4,
 "nbformat_minor": 0
}
