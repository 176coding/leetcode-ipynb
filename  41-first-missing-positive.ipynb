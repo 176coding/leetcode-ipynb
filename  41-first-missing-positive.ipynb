{
 "cells": [
  {
   "cell_type": "code",
   "execution_count": null,
   "metadata": {
    "collapsed": true
   },
   "outputs": [],
   "source": [
    "# encoding:utf-8\n",
    "import sys\n",
    "\n",
    "# Title: First Missing Positive\n",
    "# Url: https://leetcode.com/problems/first-missing-positive/\n",
    "# Difficulty: Hard\n",
    "\n",
    "# Problem Content:\n",
    "\"\"\"\n",
    "Given an unsorted integer array, find the first missing positive integer.\n",
    "For example,\n",
    "Given [1,2,0] return 3,\n",
    "and [3,4,-1,1] return 2.\n",
    "Your algorithm should run in O(n) time and uses constant space.\n",
    "Subscribe to see which companies asked this question\n",
    "Show Tags\n",
    "numsrray\n",
    "Show Similar Problems\n",
    " (M) Missing Number\n",
    " (H) Find the Duplicate Number\n",
    "\"\"\""
   ]
  },
  {
   "cell_type": "code",
   "execution_count": 11,
   "metadata": {
    "collapsed": false
   },
   "outputs": [],
   "source": [
    "class Solution(object):\n",
    "    def firstMissingPositive(self, nums):\n",
    "        \"\"\"\n",
    "        :type nums: List[int]\n",
    "        :rtype: int\n",
    "        \"\"\"\n",
    "        i,n=0,len(nums)\n",
    "        while i<n:\n",
    "            if 1<=nums[i]<=n and nums[nums[i]-1]!=nums[i]:\n",
    "                tmp=nums[i]\n",
    "                nums[i]=nums[tmp-1]\n",
    "                nums[tmp-1]=tmp\n",
    "            else:\n",
    "                i+=1\n",
    "        i=0\n",
    "        while i<n:\n",
    "            if nums[i]!=i+1:\n",
    "                return i+1\n",
    "            i+=1\n",
    "        return n+1\n",
    "        "
   ]
  },
  {
   "cell_type": "code",
   "execution_count": 8,
   "metadata": {
    "collapsed": true
   },
   "outputs": [],
   "source": [
    "s=Solution()"
   ]
  },
  {
   "cell_type": "code",
   "execution_count": 10,
   "metadata": {
    "collapsed": false
   },
   "outputs": [
    {
     "name": "stdout",
     "output_type": "stream",
     "text": [
      "[1, 3, 4, 5]\n"
     ]
    },
    {
     "data": {
      "text/plain": [
       "0"
      ]
     },
     "execution_count": 10,
     "metadata": {},
     "output_type": "execute_result"
    }
   ],
   "source": [
    "s.firstMissingPositive([3,4,5,1])"
   ]
  },
  {
   "cell_type": "code",
   "execution_count": 14,
   "metadata": {
    "collapsed": false
   },
   "outputs": [
    {
     "data": {
      "text/plain": [
       "4"
      ]
     },
     "execution_count": 14,
     "metadata": {},
     "output_type": "execute_result"
    }
   ],
   "source": [
    "s.firstMissingPositive([1,2,3])"
   ]
  }
 ],
 "metadata": {
  "anaconda-cloud": {},
  "kernelspec": {
   "display_name": "Python [py2]",
   "language": "python",
   "name": "Python [py2]"
  },
  "language_info": {
   "codemirror_mode": {
    "name": "ipython",
    "version": 2
   },
   "file_extension": ".py",
   "mimetype": "text/x-python",
   "name": "python",
   "nbconvert_exporter": "python",
   "pygments_lexer": "ipython2",
   "version": "2.7.12"
  }
 },
 "nbformat": 4,
 "nbformat_minor": 0
}
