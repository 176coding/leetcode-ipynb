{
 "cells": [
  {
   "cell_type": "code",
   "execution_count": null,
   "metadata": {
    "collapsed": true
   },
   "outputs": [],
   "source": [
    "# encoding:utf-8\n",
    "import sys\n",
    "\n",
    "# Title: 3Sum Closest\n",
    "# Url: https://leetcode.com/problems/3sum-closest/\n",
    "# Difficulty: Medium\n",
    "\n",
    "# Problem Content:\n",
    "\"\"\"\n",
    "Given an array S of n integers, find three integers in S such that the sum is closest to a given number, target. Return the sum of the three integers. You may assume that each input would have exactly one solution.\n",
    "    For example, given array S = {-1 2 1 -4}, and target = 1.\n",
    "    The sum that is closest to the target is 2. (-1 + 2 + 1 = 2).\n",
    "Subscribe to see which companies asked this question\n",
    "Show Tags\n",
    "Array\n",
    "Two Pointers\n",
    "Show Similar Problems\n",
    " (M) 3Sum\n",
    " (M) 3Sum Smaller\n",
    "\"\"\""
   ]
  },
  {
   "cell_type": "code",
   "execution_count": 17,
   "metadata": {
    "collapsed": true
   },
   "outputs": [],
   "source": [
    "class Solution(object):\n",
    "    def threeSumClosest(self, nums, target):\n",
    "        \"\"\"\n",
    "        :type nums: List[int]\n",
    "        :type target: int\n",
    "        :rtype: int\n",
    "        \"\"\"\n",
    "        min_df,ln,nums=99999,len(nums),sorted(nums)\n",
    "        for i in range(ln-2):\n",
    "            j,k=i+1,ln-1\n",
    "            while j<k:\n",
    "                s=nums[i]+nums[j]+nums[k]\n",
    "                if s==target:\n",
    "                    return s\n",
    "                df=abs(s-target)\n",
    "                if df<min_df:\n",
    "                    min_df,res=df,s\n",
    "                if s<target:\n",
    "                    j+=1\n",
    "                if s>target:\n",
    "                    k-=1\n",
    "        return res"
   ]
  },
  {
   "cell_type": "code",
   "execution_count": 18,
   "metadata": {
    "collapsed": false
   },
   "outputs": [
    {
     "data": {
      "text/plain": [
       "2"
      ]
     },
     "execution_count": 18,
     "metadata": {},
     "output_type": "execute_result"
    }
   ],
   "source": [
    "s=Solution()\n",
    "s.threeSumClosest([-1,2,1,-4],1)"
   ]
  },
  {
   "cell_type": "code",
   "execution_count": null,
   "metadata": {
    "collapsed": true
   },
   "outputs": [],
   "source": []
  }
 ],
 "metadata": {
  "anaconda-cloud": {},
  "kernelspec": {
   "display_name": "Python [py27]",
   "language": "python",
   "name": "Python [py27]"
  },
  "language_info": {
   "codemirror_mode": {
    "name": "ipython",
    "version": 2
   },
   "file_extension": ".py",
   "mimetype": "text/x-python",
   "name": "python",
   "nbconvert_exporter": "python",
   "pygments_lexer": "ipython2",
   "version": "2.7.12"
  }
 },
 "nbformat": 4,
 "nbformat_minor": 0
}
