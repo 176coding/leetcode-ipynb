{
 "cells": [
  {
   "cell_type": "code",
   "execution_count": null,
   "metadata": {
    "collapsed": true
   },
   "outputs": [],
   "source": [
    "# encoding:utf-8\n",
    "import sys\n",
    "\n",
    "# Title: Construct Binary Tree from Preorder and Inorder Traversal\n",
    "# Url: https://leetcode.com/problems/construct-binary-tree-from-preorder-and-inorder-traversal/\n",
    "# Difficulty: Medium\n",
    "\n",
    "# Problem Content:\n",
    "\"\"\"\n",
    "Given preorder and inorder traversal of a tree, construct the binary tree.\n",
    "Note:\n",
    "You may assume that duplicates do not exist in the tree.\n",
    "Subscribe to see which companies asked this question\n",
    "Show Tags\n",
    "Tree\n",
    "Array\n",
    "Depth-first Search\n",
    "Show Similar Problems\n",
    " (M) Construct Binary Tree from Inorder and Postorder Traversal\n",
    "\"\"\""
   ]
  },
  {
   "cell_type": "code",
   "execution_count": 1,
   "metadata": {
    "collapsed": true
   },
   "outputs": [],
   "source": [
    "# Definition for a binary tree node.\n",
    "class TreeNode(object):\n",
    "    def __init__(self, x):\n",
    "        self.val = x\n",
    "        self.left = None\n",
    "        self.right = None"
   ]
  },
  {
   "cell_type": "code",
   "execution_count": 17,
   "metadata": {
    "collapsed": true
   },
   "outputs": [],
   "source": [
    "#mle\n",
    "class Solution(object):\n",
    "    def buildTree(self, preorder, inorder):\n",
    "        \"\"\"\n",
    "        :type preorder: List[int]\n",
    "        :type inorder: List[int]\n",
    "        :rtype: TreeNode\n",
    "        \"\"\"\n",
    "        if not inorder:\n",
    "            return None\n",
    "        root_val=preorder[0]\n",
    "        root=TreeNode(root_val)\n",
    "        idx=inorder.index(root_val)\n",
    "        root.left=self.buildTree(preorder[1:],inorder[:idx])\n",
    "        root.right=self.buildTree(preorder[idx+1:],inorder[idx+1:])\n",
    "        return root"
   ]
  },
  {
   "cell_type": "code",
   "execution_count": 18,
   "metadata": {
    "collapsed": true
   },
   "outputs": [],
   "source": [
    "class Solution(object):\n",
    "    def buildTree(self,preorder,inorder):\n",
    "        if inorder:\n",
    "            val=preorder.pop(0)\n",
    "            idx=inorder.index(val)\n",
    "            root=TreeNode(val)\n",
    "            root.left=self.buildTree(preorder,inorder[:idx])\n",
    "            root.right=self.buildTree(preorder,inorder[idx+1:])\n",
    "            return root"
   ]
  },
  {
   "cell_type": "code",
   "execution_count": 19,
   "metadata": {
    "collapsed": true
   },
   "outputs": [],
   "source": [
    "s=Solution()"
   ]
  },
  {
   "cell_type": "code",
   "execution_count": 20,
   "metadata": {
    "collapsed": false
   },
   "outputs": [],
   "source": [
    "root=s.buildTree([1,2,4,3],[4,2,1,3])"
   ]
  },
  {
   "cell_type": "code",
   "execution_count": 21,
   "metadata": {
    "collapsed": false
   },
   "outputs": [
    {
     "data": {
      "text/plain": [
       "(1, 2, 3, 4)"
      ]
     },
     "execution_count": 21,
     "metadata": {},
     "output_type": "execute_result"
    }
   ],
   "source": [
    "root.val,root.left.val,root.right.val,root.left.left.val"
   ]
  },
  {
   "cell_type": "code",
   "execution_count": null,
   "metadata": {
    "collapsed": true
   },
   "outputs": [],
   "source": []
  }
 ],
 "metadata": {
  "kernelspec": {
   "display_name": "Python [py2]",
   "language": "python",
   "name": "Python [py2]"
  },
  "language_info": {
   "codemirror_mode": {
    "name": "ipython",
    "version": 2
   },
   "file_extension": ".py",
   "mimetype": "text/x-python",
   "name": "python",
   "nbconvert_exporter": "python",
   "pygments_lexer": "ipython2",
   "version": "2.7.12"
  }
 },
 "nbformat": 4,
 "nbformat_minor": 0
}
