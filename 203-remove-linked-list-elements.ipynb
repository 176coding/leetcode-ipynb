{
 "cells": [
  {
   "cell_type": "code",
   "execution_count": null,
   "metadata": {
    "collapsed": true
   },
   "outputs": [],
   "source": [
    "# encoding:utf-8\n",
    "import sys\n",
    "\n",
    "# Title: Remove Linked List Elements\n",
    "# Url: https://leetcode.com/problems/remove-linked-list-elements/\n",
    "# Difficulty: Easy\n",
    "\n",
    "# Problem Content:\n",
    "\"\"\"\n",
    "Remove all elements from a linked list of integers that have value val.\n",
    "Example\n",
    "Given: 1 --> 2 --> 6 --> 3 --> 4 --> 5 --> 6,  val = 6\n",
    "Return: 1 --> 2 --> 3 --> 4 --> 5\n",
    "Credits:Special thanks to @mithmatt for adding this problem and creating all test cases.\n",
    "Subscribe to see which companies asked this question\n",
    "Show Tags\n",
    "Linked List\n",
    "Show Similar Problems\n",
    " (E) Remove Element\n",
    " (E) Delete Node in a Linked List\n",
    "\"\"\""
   ]
  },
  {
   "cell_type": "code",
   "execution_count": 13,
   "metadata": {
    "collapsed": true
   },
   "outputs": [],
   "source": [
    "# Definition for singly-linked list.\n",
    "class ListNode(object):\n",
    "    def __init__(self, x):\n",
    "        self.val = x\n",
    "        self.next = None\n",
    "    def __repr__(self):\n",
    "        if not self:\n",
    "            return None\n",
    "        return '{}->{}'.format(self.val,repr(self.next))\n",
    "class Solution(object):\n",
    "    def removeElements(self, head, val):\n",
    "        \"\"\"\n",
    "        :type head: ListNode\n",
    "        :type val: int\n",
    "        :rtype: ListNode\n",
    "        \"\"\"\n",
    "        queue=[]\n",
    "        while head:\n",
    "            if head.val!=val:\n",
    "                queue.append(head)\n",
    "            head=head.next\n",
    "        dummy=ListNode(-1)\n",
    "        pre=dummy\n",
    "        for node in queue:\n",
    "            pre.next=node\n",
    "            pre=node\n",
    "        pre.next=None #important\n",
    "        return dummy.next\n",
    "            "
   ]
  },
  {
   "cell_type": "code",
   "execution_count": 17,
   "metadata": {
    "collapsed": true
   },
   "outputs": [],
   "source": [
    "class Solution(object):\n",
    "    def removeElements(self,head,val):\n",
    "        dummy=ListNode(0)\n",
    "        dummy.next=head\n",
    "        pre,curr=dummy,head\n",
    "        while curr:\n",
    "            if curr.val==val:\n",
    "                pre.next=curr.next\n",
    "            else:\n",
    "                pre=curr\n",
    "            curr=curr.next\n",
    "        return dummy.next"
   ]
  },
  {
   "cell_type": "code",
   "execution_count": 18,
   "metadata": {
    "collapsed": true
   },
   "outputs": [],
   "source": [
    "s=Solution()"
   ]
  },
  {
   "cell_type": "code",
   "execution_count": 19,
   "metadata": {
    "collapsed": false
   },
   "outputs": [
    {
     "data": {
      "text/plain": [
       "2->3->None"
      ]
     },
     "execution_count": 19,
     "metadata": {},
     "output_type": "execute_result"
    }
   ],
   "source": [
    "a,a.next,a.next.next,a.next.next.next=ListNode(1),ListNode(2),ListNode(3),ListNode(1)\n",
    "s.removeElements(a,1)"
   ]
  },
  {
   "cell_type": "code",
   "execution_count": 20,
   "metadata": {
    "collapsed": true
   },
   "outputs": [],
   "source": [
    "a,a.next,a.next.next,a.next.next.next=ListNode(1),ListNode(1),ListNode(1),ListNode(1)\n",
    "s.removeElements(a,1)"
   ]
  },
  {
   "cell_type": "code",
   "execution_count": null,
   "metadata": {
    "collapsed": true
   },
   "outputs": [],
   "source": []
  }
 ],
 "metadata": {
  "anaconda-cloud": {},
  "kernelspec": {
   "display_name": "Python [py2]",
   "language": "python",
   "name": "Python [py2]"
  },
  "language_info": {
   "codemirror_mode": {
    "name": "ipython",
    "version": 2
   },
   "file_extension": ".py",
   "mimetype": "text/x-python",
   "name": "python",
   "nbconvert_exporter": "python",
   "pygments_lexer": "ipython2",
   "version": "2.7.12"
  }
 },
 "nbformat": 4,
 "nbformat_minor": 0
}
