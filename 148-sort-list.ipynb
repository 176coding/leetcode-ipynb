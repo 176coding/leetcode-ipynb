{
 "cells": [
  {
   "cell_type": "code",
   "execution_count": null,
   "metadata": {
    "collapsed": true
   },
   "outputs": [],
   "source": [
    "# encoding:utf-8\n",
    "import sys\n",
    "\n",
    "# Title: Sort List\n",
    "# Url: https://leetcode.com/problems/sort-list/\n",
    "# Difficulty: Medium\n",
    "\n",
    "# Problem Content:\n",
    "\"\"\"\n",
    "Sort a linked list in O(n log n) time using constant space complexity.\n",
    "Subscribe to see which companies asked this question\n",
    "Show Tags\n",
    "Linked List\n",
    "Sort\n",
    "Show Similar Problems\n",
    " (E) Merge Two Sorted Lists\n",
    " (M) Sort Colors\n",
    " (M) Insertion Sort List\n",
    "\"\"\""
   ]
  },
  {
   "cell_type": "code",
   "execution_count": 1,
   "metadata": {
    "collapsed": true
   },
   "outputs": [],
   "source": [
    "# Definition for singly-linked list.\n",
    "class ListNode(object):\n",
    "    def __init__(self, x):\n",
    "        self.val = x\n",
    "        self.next = None\n",
    "    def __repr__(self):\n",
    "        if not self:\n",
    "            return None\n",
    "        return '{}->{}'.format(self.val,repr(self.next))"
   ]
  },
  {
   "cell_type": "code",
   "execution_count": 3,
   "metadata": {
    "collapsed": true
   },
   "outputs": [],
   "source": [
    "class Solution(object):\n",
    "    def sortList(self, head):\n",
    "        \"\"\"\n",
    "        :type head: ListNode\n",
    "        :rtype: ListNode\n",
    "        \"\"\"\n",
    "        if not head:\n",
    "            return head\n",
    "        vals,cur=[],head\n",
    "        while cur:\n",
    "            vals.append(cur.val)\n",
    "            cur=cur.next\n",
    "        vals=sorted(vals)\n",
    "        cur=head\n",
    "        for v in vals:\n",
    "            cur.val=v\n",
    "            cur=cur.next\n",
    "        return head\n"
   ]
  },
  {
   "cell_type": "code",
   "execution_count": 6,
   "metadata": {
    "collapsed": true
   },
   "outputs": [],
   "source": [
    "class Solution(object):\n",
    "    def merge(self,left,right):\n",
    "        dummy=ListNode(1)\n",
    "        cur=dummy\n",
    "        while left and right:\n",
    "            if left.val<right.val:\n",
    "                cur.next,cur,left=left,left,left.next\n",
    "            else:\n",
    "                cur.next,cur,right=right,right,right.next\n",
    "        if left:\n",
    "            cur.next=left\n",
    "        if right:\n",
    "            cur.next=right\n",
    "        return dummy.next\n",
    "            \n",
    "    def sortList(self,head):\n",
    "        if not head or not head.next:\n",
    "            return head\n",
    "        pre,slow,fast=None,head,head\n",
    "        while fast and fast.next:\n",
    "            pre,slow,fast=slow,slow.next,fast.next.next\n",
    "        pre.next=None\n",
    "        left=self.sortList(head)\n",
    "        right=self.sortList(slow)\n",
    "        return self.merge(left,right)"
   ]
  },
  {
   "cell_type": "code",
   "execution_count": 8,
   "metadata": {
    "collapsed": true
   },
   "outputs": [],
   "source": [
    "s=Solution()"
   ]
  },
  {
   "cell_type": "code",
   "execution_count": 10,
   "metadata": {
    "collapsed": false
   },
   "outputs": [
    {
     "data": {
      "text/plain": [
       "1->2->3->29->None"
      ]
     },
     "execution_count": 10,
     "metadata": {},
     "output_type": "execute_result"
    }
   ],
   "source": [
    "head=ListNode(3)\n",
    "head.next=ListNode(2)\n",
    "head.next.next=ListNode(29)\n",
    "head.next.next.next=ListNode(1)\n",
    "s.sortList(head)"
   ]
  },
  {
   "cell_type": "code",
   "execution_count": null,
   "metadata": {
    "collapsed": true
   },
   "outputs": [],
   "source": []
  }
 ],
 "metadata": {
  "kernelspec": {
   "display_name": "Python [py2]",
   "language": "python",
   "name": "Python [py2]"
  },
  "language_info": {
   "codemirror_mode": {
    "name": "ipython",
    "version": 2
   },
   "file_extension": ".py",
   "mimetype": "text/x-python",
   "name": "python",
   "nbconvert_exporter": "python",
   "pygments_lexer": "ipython2",
   "version": "2.7.12"
  }
 },
 "nbformat": 4,
 "nbformat_minor": 0
}
