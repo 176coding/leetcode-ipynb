{
 "cells": [
  {
   "cell_type": "code",
   "execution_count": null,
   "metadata": {
    "collapsed": true
   },
   "outputs": [],
   "source": [
    "# encoding:utf-8\n",
    "import sys\n",
    "\n",
    "# Title: Search a 2D Matrix\n",
    "# Url: https://leetcode.com/problems/search-a-2d-matrix/\n",
    "# Difficulty: Medium\n",
    "\n",
    "# Problem Content:\n",
    "\"\"\"\n",
    "Write an efficient algorithm that searches for a value in an m x n matrix. This matrix has the following properties:\n",
    "Integers in each row are sorted from left to right.\n",
    "The first integer of each row is greater than the last integer of the previous row.\n",
    "For example,\n",
    "Consider the following matrix:\n",
    "[\n",
    "  [1,   3,  5,  7],\n",
    "  [10, 11, 16, 20],\n",
    "  [23, 30, 34, 50]\n",
    "]\n",
    "Given target = 3, return true.\n",
    "Subscribe to see which companies asked this question\n",
    "Show Tags\n",
    "Array\n",
    "Binary Search\n",
    "Show Similar Problems\n",
    " (M) Search a 2D Matrix II\n",
    "\"\"\""
   ]
  },
  {
   "cell_type": "code",
   "execution_count": 1,
   "metadata": {
    "collapsed": true
   },
   "outputs": [],
   "source": [
    "class Solution(object):\n",
    "    def searchMatrix(self, matrix, target):\n",
    "        \"\"\"\n",
    "        :type matrix: List[List[int]]\n",
    "        :type target: int\n",
    "        :rtype: bool\n",
    "        \"\"\"\n",
    "        if not matrix or not matrix[0]:\n",
    "            return False\n",
    "        m,n=len(matrix),len(matrix[0])\n",
    "        for i in range(m):\n",
    "            for j in range(n):\n",
    "                if matrix[i][j]==target:\n",
    "                    return True\n",
    "        return False"
   ]
  },
  {
   "cell_type": "code",
   "execution_count": 5,
   "metadata": {
    "collapsed": true
   },
   "outputs": [],
   "source": [
    "class Solution(object):\n",
    "    def searchMatrix(self,matrix,target):\n",
    "        if not matrix or not matrix[0]:\n",
    "            return False\n",
    "        m,n=len(matrix),len(matrix[0])\n",
    "        row,col=0,n-1\n",
    "        while row<m and col>=0:\n",
    "            if target==matrix[row][col]:\n",
    "                return True\n",
    "            elif target>matrix[row][col]:\n",
    "                row+=1\n",
    "            else:\n",
    "                col-=1\n",
    "        return False"
   ]
  },
  {
   "cell_type": "code",
   "execution_count": 26,
   "metadata": {
    "collapsed": false
   },
   "outputs": [],
   "source": [
    "class Solution(object):\n",
    "    def searchMatrix(self,matrix,target):\n",
    "        if not matrix or not matrix[0]:\n",
    "            return False\n",
    "        m,n=len(matrix),len(matrix[0])\n",
    "        low,high=0,m*n-1 #m*n may overflow\n",
    "        while low<=high:\n",
    "            mid=(high+low)>>1\n",
    "            row=mid/n\n",
    "            col=mid%n\n",
    "            if target==matrix[row][col]:\n",
    "                return True\n",
    "            elif target>matrix[row][col]:\n",
    "                low=mid+1\n",
    "            else:\n",
    "                high=mid-1\n",
    "        return False"
   ]
  },
  {
   "cell_type": "code",
   "execution_count": 40,
   "metadata": {
    "collapsed": true
   },
   "outputs": [],
   "source": [
    "class Solution(object):\n",
    "    def searchMatrix(self,matrix,target):\n",
    "        if not matrix or not matrix[0]:\n",
    "            return False\n",
    "        m,n=len(matrix),len(matrix[0])\n",
    "        low,high=0,m-1\n",
    "        while low<=high:\n",
    "            mid=(low+high)>>1\n",
    "            if matrix[mid][0]==target:\n",
    "                return True\n",
    "            elif matrix[mid][0]>target:\n",
    "                high=mid-1\n",
    "            else:\n",
    "                low=mid+1\n",
    "        row=high\n",
    "        if row<0:\n",
    "            return False\n",
    "        low,high=0,n-1\n",
    "        while low<=high:\n",
    "            mid=(low+high)>>1\n",
    "            if matrix[row][mid]==target:\n",
    "                return True\n",
    "            elif matrix[row][mid]>target:\n",
    "                high=mid-1\n",
    "            else:\n",
    "                low=mid+1\n",
    "        return False"
   ]
  },
  {
   "cell_type": "code",
   "execution_count": 41,
   "metadata": {
    "collapsed": true
   },
   "outputs": [],
   "source": [
    "s=Solution()"
   ]
  },
  {
   "cell_type": "code",
   "execution_count": 42,
   "metadata": {
    "collapsed": false
   },
   "outputs": [
    {
     "name": "stdout",
     "output_type": "stream",
     "text": [
      "0\n"
     ]
    },
    {
     "data": {
      "text/plain": [
       "True"
      ]
     },
     "execution_count": 42,
     "metadata": {},
     "output_type": "execute_result"
    }
   ],
   "source": [
    "m=[\n",
    "  [1,   3,  5,  7],\n",
    "  [10, 11, 16, 20],\n",
    "  [23, 30, 34, 50]\n",
    "]\n",
    "target=3\n",
    "s.searchMatrix(m,target)"
   ]
  },
  {
   "cell_type": "code",
   "execution_count": 43,
   "metadata": {
    "collapsed": false,
    "scrolled": true
   },
   "outputs": [
    {
     "data": {
      "text/plain": [
       "False"
      ]
     },
     "execution_count": 43,
     "metadata": {},
     "output_type": "execute_result"
    }
   ],
   "source": [
    "m=[[1]]\n",
    "s.searchMatrix(m,0)"
   ]
  },
  {
   "cell_type": "code",
   "execution_count": 25,
   "metadata": {
    "collapsed": false
   },
   "outputs": [
    {
     "data": {
      "text/plain": [
       "3"
      ]
     },
     "execution_count": 25,
     "metadata": {},
     "output_type": "execute_result"
    }
   ],
   "source": [
    "4+3>>1"
   ]
  }
 ],
 "metadata": {
  "kernelspec": {
   "display_name": "Python [py2]",
   "language": "python",
   "name": "Python [py2]"
  },
  "language_info": {
   "codemirror_mode": {
    "name": "ipython",
    "version": 2
   },
   "file_extension": ".py",
   "mimetype": "text/x-python",
   "name": "python",
   "nbconvert_exporter": "python",
   "pygments_lexer": "ipython2",
   "version": "2.7.12"
  }
 },
 "nbformat": 4,
 "nbformat_minor": 0
}
