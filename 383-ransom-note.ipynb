{
 "cells": [
  {
   "cell_type": "code",
   "execution_count": null,
   "metadata": {
    "collapsed": true
   },
   "outputs": [],
   "source": [
    "# encoding:utf-8\n",
    "import sys\n",
    "\n",
    "# Title: Ransom Note\n",
    "# Url: https://leetcode.com/problems/ransom-note/\n",
    "# Difficulty: Easy\n",
    "\n",
    "# Problem Content:\n",
    "\"\"\"\n",
    "Given ",
    " an  ",
    "arbitrary ",
    " ransom ",
    " note ",
    " string  ",
    "and  ",
    "another  ",
    "string  ",
    "containing  ",
    "letters from ",
    " all  ",
    "the  ",
    "magazines, ",
    " write  ",
    "a  ",
    "function  ",
    "that  ",
    "will  ",
    "return  ",
    "true  ",
    "if  ",
    "the  ",
    "ransom  ",
    "\n",
    "note  ",
    "can  ",
    "be  ",
    "constructed  ",
    "from  ",
    "the  ",
    "magazines ;  ",
    "otherwise,  ",
    "it  ",
    "will  ",
    "return  ",
    "false.  ",
    " ",
    "\n",
    "Each  ",
    "letter ",
    " in ",
    " the ",
    " magazine  ",
    "string  ",
    "can ",
    " only  ",
    "be ",
    " used  ",
    "once ",
    " in ",
    " your  ",
    "ransom ",
    " note.\n",
    "Note:\n",
    "You may assume that both strings contain only lowercase letters.\n",
    "canConstruct(\"a\", \"b\") -> false\n",
    "canConstruct(\"aa\", \"ab\") -> false\n",
    "canConstruct(\"aa\", \"aab\") -> true\n",
    "Subscribe to see which companies asked this question\n",
    "Show Tags\n",
    "String\n",
    "\"\"\""
   ]
  },
  {
   "cell_type": "code",
   "execution_count": 1,
   "metadata": {
    "collapsed": true
   },
   "outputs": [],
   "source": [
    "class Solution(object):\n",
    "    def canConstruct(self, ransomNote, magazine):\n",
    "        \"\"\"\n",
    "        :type ransomNote: str\n",
    "        :type magazine: str\n",
    "        :rtype: bool\n",
    "        \"\"\"\n",
    "        for i in ransomNote:\n",
    "            if i not in magazine:\n",
    "                return False\n",
    "        return True"
   ]
  },
  {
   "cell_type": "code",
   "execution_count": 3,
   "metadata": {
    "collapsed": false
   },
   "outputs": [
    {
     "data": {
      "text/plain": [
       "True"
      ]
     },
     "execution_count": 3,
     "metadata": {},
     "output_type": "execute_result"
    }
   ],
   "source": [
    "s=Solution()\n",
    "s.canConstruct('aa','aab')"
   ]
  }
 ],
 "metadata": {
  "anaconda-cloud": {},
  "kernelspec": {
   "display_name": "Python [py2]",
   "language": "python",
   "name": "Python [py2]"
  },
  "language_info": {
   "codemirror_mode": {
    "name": "ipython",
    "version": 2
   },
   "file_extension": ".py",
   "mimetype": "text/x-python",
   "name": "python",
   "nbconvert_exporter": "python",
   "pygments_lexer": "ipython2",
   "version": "2.7.12"
  }
 },
 "nbformat": 4,
 "nbformat_minor": 0
}
