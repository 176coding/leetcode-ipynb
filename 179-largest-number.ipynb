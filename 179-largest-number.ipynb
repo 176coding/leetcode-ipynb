{
 "cells": [
  {
   "cell_type": "code",
   "execution_count": null,
   "metadata": {
    "collapsed": true
   },
   "outputs": [],
   "source": [
    "# encoding:utf-8\n",
    "import sys\n",
    "\n",
    "# Title: Largest Number\n",
    "# Url: https://leetcode.com/problems/largest-number/\n",
    "# Difficulty: Medium\n",
    "\n",
    "# Problem Content:\n",
    "\"\"\"\n",
    "Given a list of non negative integers, arrange them such that they form the largest number.\n",
    "For example, given [3, 30, 34, 5, 9], the largest formed number is 9534330.\n",
    "Note: The result may be very large, so you need to return a string instead of an integer.\n",
    "Credits:Special thanks to @ts for adding this problem and creating all test cases.\n",
    "Subscribe to see which companies asked this question\n",
    "Show Tags\n",
    "Sort\n",
    "\"\"\""
   ]
  },
  {
   "cell_type": "code",
   "execution_count": 15,
   "metadata": {
    "collapsed": true
   },
   "outputs": [],
   "source": [
    "class Solution:\n",
    "    # @param {integer[]} nums\n",
    "    # @return {string}\n",
    "    def largestNumber(self, nums):\n",
    "        nums=[str(i) for i in nums]\n",
    "        nums.sort(cmp=lambda x,y:cmp(x+y,y+x),reverse=True)\n",
    "        res= ''.join(nums)\n",
    "        return res.lstrip('0') or '0'"
   ]
  },
  {
   "cell_type": "code",
   "execution_count": 16,
   "metadata": {
    "collapsed": true
   },
   "outputs": [],
   "source": [
    "s=Solution()"
   ]
  },
  {
   "cell_type": "code",
   "execution_count": 17,
   "metadata": {
    "collapsed": false
   },
   "outputs": [
    {
     "data": {
      "text/plain": [
       "'9534330'"
      ]
     },
     "execution_count": 17,
     "metadata": {},
     "output_type": "execute_result"
    }
   ],
   "source": [
    "s.largestNumber([3, 30, 34, 5, 9])"
   ]
  },
  {
   "cell_type": "code",
   "execution_count": 18,
   "metadata": {
    "collapsed": false
   },
   "outputs": [
    {
     "data": {
      "text/plain": [
       "'0'"
      ]
     },
     "execution_count": 18,
     "metadata": {},
     "output_type": "execute_result"
    }
   ],
   "source": [
    "s.largestNumber([0,0])"
   ]
  },
  {
   "cell_type": "code",
   "execution_count": 19,
   "metadata": {
    "collapsed": false
   },
   "outputs": [
    {
     "data": {
      "text/plain": [
       "'0'"
      ]
     },
     "execution_count": 19,
     "metadata": {},
     "output_type": "execute_result"
    }
   ],
   "source": [
    "s.largestNumber([0,0,0])"
   ]
  },
  {
   "cell_type": "code",
   "execution_count": null,
   "metadata": {
    "collapsed": true
   },
   "outputs": [],
   "source": []
  }
 ],
 "metadata": {
  "kernelspec": {
   "display_name": "Python [py2]",
   "language": "python",
   "name": "Python [py2]"
  },
  "language_info": {
   "codemirror_mode": {
    "name": "ipython",
    "version": 2
   },
   "file_extension": ".py",
   "mimetype": "text/x-python",
   "name": "python",
   "nbconvert_exporter": "python",
   "pygments_lexer": "ipython2",
   "version": "2.7.12"
  }
 },
 "nbformat": 4,
 "nbformat_minor": 0
}
