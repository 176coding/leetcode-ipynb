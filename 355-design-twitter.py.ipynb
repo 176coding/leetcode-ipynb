{
 "cells": [
  {
   "cell_type": "code",
   "execution_count": null,
   "metadata": {
    "collapsed": true
   },
   "outputs": [],
   "source": [
    "# encoding:utf-8\n",
    "import sys\n",
    "\n",
    "# Title: Design Twitter\n",
    "# Url: https://leetcode.com/problems/design-twitter/\n",
    "# Difficulty: Medium\n",
    "\n",
    "# Problem Content:\n",
    "\"\"\"\n",
    "Design a simplified version of Twitter where users can post tweets, follow/unfollow another user and is able to see the 10 most recent tweets in the user's news feed. Your design should support the following methods:\n",
    "postTweet(userId, tweetId): Compose a new tweet.\n",
    "getNewsFeed(userId): Retrieve the 10 most recent tweet ids in the user's news feed. Each item in the news feed must be posted by users who the user followed or by the user herself. Tweets must be ordered from most recent to least recent.\n",
    "follow(followerId, followeeId): Follower follows a followee.\n",
    "unfollow(followerId, followeeId): Follower unfollows a followee.\n",
    "Example:\n",
    "Twitter twitter = new Twitter();\n",
    "// User 1 posts a new tweet (id = 5).\n",
    "twitter.postTweet(1, 5);\n",
    "// User 1's news feed should return a list with 1 tweet id -> [5].\n",
    "twitter.getNewsFeed(1);\n",
    "// User 1 follows user 2.\n",
    "twitter.follow(1, 2);\n",
    "// User 2 posts a new tweet (id = 6).\n",
    "twitter.postTweet(2, 6);\n",
    "// User 1's news feed should return a list with 2 tweet ids -> [6, 5].\n",
    "// Tweet id 6 should precede tweet id 5 because it is posted after tweet id 5.\n",
    "twitter.getNewsFeed(1);\n",
    "// User 1 unfollows user 2.\n",
    "twitter.unfollow(1, 2);\n",
    "// User 1's news feed should return a list with 1 tweet id -> [5],\n",
    "// since user 1 is no longer following user 2.\n",
    "twitter.getNewsFeed(1);\n",
    "Subscribe to see which companies asked this question\n",
    "Show Tags\n",
    "Hash Table\n",
    "Heap\n",
    "Design\n",
    "\"\"\""
   ]
  },
  {
   "cell_type": "code",
   "execution_count": 68,
   "metadata": {
    "collapsed": false
   },
   "outputs": [],
   "source": [
    "from collections import defaultdict\n",
    "from heapq import  heappop,heappush\n",
    "class Twitter(object):\n",
    "    def __init__(self):\n",
    "        \"\"\"\n",
    "        Initialize your data structure here.\n",
    "        \"\"\"\n",
    "        self._time=0\n",
    "        self._tweets=defaultdict(list)\n",
    "        self._following=defaultdict(set)\n",
    "        \n",
    "    def postTweet(self, userId, tweetId):\n",
    "        \"\"\"\n",
    "        Compose a new tweet.\n",
    "        :type userId: int\n",
    "        :type tweetId: int\n",
    "        :rtype: void\n",
    "        \"\"\"\n",
    "        self._time+=1\n",
    "        self._following[userId].add(userId)#follow myself\n",
    "        self._tweets[userId].append((self._time,tweetId))\n",
    "        \n",
    "    def getNewsFeed(self, userId):\n",
    "        \"\"\"\n",
    "        Retrieve the 10 most recent tweet ids in the user's news feed. Each item in the news feed must be posted by users who the user followed or by the user herself. Tweets must be ordered from most recent to least recent.\n",
    "        :type userId: int\n",
    "        :rtype: List[int]\n",
    "        \"\"\"\n",
    "        heap=[]\n",
    "        for u in self._following[userId]:\n",
    "            for time,tweet in self._tweets[u]:\n",
    "                heappush(heap,(time,tweet))\n",
    "        while len(heap)>10:\n",
    "            heappop(heap)\n",
    "        res=[]\n",
    "        while heap:\n",
    "            time,tweet=heappop(heap)\n",
    "            res.append(tweet)\n",
    "        return res[::-1]\n",
    "        \n",
    "        \n",
    "    def follow(self, followerId, followeeId):\n",
    "        \"\"\"\n",
    "        Follower follows a followee. If the operation is invalid, it should be a no-op.\n",
    "        :type followerId: int\n",
    "        :type followeeId: int\n",
    "        :rtype: void\n",
    "        \"\"\"\n",
    "        self._following[followerId].add(followeeId)\n",
    "        \n",
    "    def unfollow(self, followerId, followeeId):\n",
    "        \"\"\"\n",
    "        Follower unfollows a followee. If the operation is invalid, it should be a no-op.\n",
    "        :type followerId: int\n",
    "        :type followeeId: int\n",
    "        :rtype: void\n",
    "        \"\"\"\n",
    "        if followerId!=followeeId:\n",
    "            self._following[followerId].discard(followeeId)\n",
    "        "
   ]
  },
  {
   "cell_type": "code",
   "execution_count": 69,
   "metadata": {
    "collapsed": true
   },
   "outputs": [],
   "source": [
    "twitter=Twitter()"
   ]
  },
  {
   "cell_type": "code",
   "execution_count": 70,
   "metadata": {
    "collapsed": false
   },
   "outputs": [
    {
     "data": {
      "text/plain": [
       "[5]"
      ]
     },
     "execution_count": 70,
     "metadata": {},
     "output_type": "execute_result"
    }
   ],
   "source": [
    "# User 1 posts a new tweet (id = 5).\n",
    "twitter.postTweet(1, 5)\n",
    "# User 1's news feed should return a list with 1 tweet id -> [5].\n",
    "twitter.getNewsFeed(1)"
   ]
  },
  {
   "cell_type": "code",
   "execution_count": 71,
   "metadata": {
    "collapsed": false
   },
   "outputs": [
    {
     "data": {
      "text/plain": [
       "[6, 5]"
      ]
     },
     "execution_count": 71,
     "metadata": {},
     "output_type": "execute_result"
    }
   ],
   "source": [
    "# User 1 follows user 2.\n",
    "twitter.follow(1, 2)\n",
    "# User 2 posts a new tweet (id = 6).\n",
    "twitter.postTweet(2, 6)\n",
    "# User 1's news feed should return a list with 2 tweet ids -> [6, 5].\n",
    "# Tweet id 6 should precede tweet id 5 because it is posted after tweet id 5.\n",
    "twitter.getNewsFeed(1)"
   ]
  },
  {
   "cell_type": "code",
   "execution_count": 72,
   "metadata": {
    "collapsed": false
   },
   "outputs": [
    {
     "data": {
      "text/plain": [
       "[5]"
      ]
     },
     "execution_count": 72,
     "metadata": {},
     "output_type": "execute_result"
    }
   ],
   "source": [
    "# User 1 unfollows user 2.\n",
    "twitter.unfollow(1, 2)\n",
    "# User 1's news feed should return a list with 1 tweet id -> [5],\n",
    "# since user 1 is no longer following user 2.\n",
    "twitter.getNewsFeed(1)"
   ]
  },
  {
   "cell_type": "code",
   "execution_count": null,
   "metadata": {
    "collapsed": true
   },
   "outputs": [],
   "source": []
  }
 ],
 "metadata": {
  "kernelspec": {
   "display_name": "Python [py2]",
   "language": "python",
   "name": "Python [py2]"
  },
  "language_info": {
   "codemirror_mode": {
    "name": "ipython",
    "version": 2
   },
   "file_extension": ".py",
   "mimetype": "text/x-python",
   "name": "python",
   "nbconvert_exporter": "python",
   "pygments_lexer": "ipython2",
   "version": "2.7.12"
  }
 },
 "nbformat": 4,
 "nbformat_minor": 0
}
