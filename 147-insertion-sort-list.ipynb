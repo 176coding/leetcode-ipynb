{
 "cells": [
  {
   "cell_type": "code",
   "execution_count": null,
   "metadata": {
    "collapsed": true
   },
   "outputs": [],
   "source": [
    "# encoding:utf-8\n",
    "import sys\n",
    "\n",
    "# Title: Insertion Sort List\n",
    "# Url: https://leetcode.com/problems/insertion-sort-list/\n",
    "# Difficulty: Medium\n",
    "\n",
    "# Problem Content:\n",
    "\"\"\"\n",
    "Sort a linked list using insertion sort.\n",
    "Subscribe to see which companies asked this question\n",
    "Show Tags\n",
    "Linked List\n",
    "Sort\n",
    "Show Similar Problems\n",
    " (M) Sort List\n",
    "\"\"\""
   ]
  },
  {
   "cell_type": "code",
   "execution_count": 1,
   "metadata": {
    "collapsed": true
   },
   "outputs": [],
   "source": [
    "# Definition for singly-linked list.\n",
    "class ListNode(object):\n",
    "    def __init__(self, x):\n",
    "        self.val = x\n",
    "        self.next = None\n",
    "    def __repr__(self):\n",
    "        if not self:\n",
    "            return None\n",
    "        return '{}->{}'.format(self.val,repr(self.next))"
   ]
  },
  {
   "cell_type": "code",
   "execution_count": 15,
   "metadata": {
    "collapsed": true
   },
   "outputs": [],
   "source": [
    "class Solution(object):\n",
    "    def insertionSortList(self, head):\n",
    "        \"\"\"\n",
    "        :type head: ListNode\n",
    "        :rtype: ListNode\n",
    "        \"\"\"\n",
    "        if not head or not head.next:\n",
    "            return head\n",
    "        dummy=ListNode(-1)\n",
    "        dummy.next,cur,head.next=head,head.next,None\n",
    "        while cur:\n",
    "            pre,p=dummy,dummy.next\n",
    "            while p and cur.val>p.val:\n",
    "                pre,p=p,p.next\n",
    "            pre.next,cur.next,cur=cur,p,cur.next\n",
    "        return dummy.next\n",
    "                "
   ]
  },
  {
   "cell_type": "code",
   "execution_count": 16,
   "metadata": {
    "collapsed": true
   },
   "outputs": [],
   "source": [
    "s=Solution()"
   ]
  },
  {
   "cell_type": "code",
   "execution_count": 17,
   "metadata": {
    "collapsed": false
   },
   "outputs": [
    {
     "data": {
      "text/plain": [
       "0->1->2->3->None"
      ]
     },
     "execution_count": 17,
     "metadata": {},
     "output_type": "execute_result"
    }
   ],
   "source": [
    "head=ListNode(1)\n",
    "head.next=ListNode(3)\n",
    "head.next.next=ListNode(2)\n",
    "head.next.next.next=ListNode(0)\n",
    "s.insertionSortList(head)"
   ]
  },
  {
   "cell_type": "code",
   "execution_count": null,
   "metadata": {
    "collapsed": true
   },
   "outputs": [],
   "source": []
  }
 ],
 "metadata": {
  "anaconda-cloud": {},
  "kernelspec": {
   "display_name": "Python [py2]",
   "language": "python",
   "name": "Python [py2]"
  },
  "language_info": {
   "codemirror_mode": {
    "name": "ipython",
    "version": 2
   },
   "file_extension": ".py",
   "mimetype": "text/x-python",
   "name": "python",
   "nbconvert_exporter": "python",
   "pygments_lexer": "ipython2",
   "version": "2.7.12"
  }
 },
 "nbformat": 4,
 "nbformat_minor": 0
}
