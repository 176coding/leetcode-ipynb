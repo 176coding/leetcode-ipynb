{
 "cells": [
  {
   "cell_type": "code",
   "execution_count": null,
   "metadata": {
    "collapsed": true
   },
   "outputs": [],
   "source": [
    "Given two non-negative numbers numa and numb represented as string, return the sum of numa and numb.\n",
    "\n",
    "Note:\n",
    "\n",
    "The length of both numa and numb is < 5100.\n",
    "Both numa and numb contains only digits 0-9.\n",
    "Both numa and numb does not contain any leading zero.\n",
    "You must not use any built-in BigInteger library or convert the inputs to integer directly."
   ]
  },
  {
   "cell_type": "code",
   "execution_count": 13,
   "metadata": {
    "collapsed": true
   },
   "outputs": [],
   "source": [
    "class Solution(object):\n",
    "    def addStrings(self, numa, numb):\n",
    "        \"\"\"\n",
    "        :type numa: str\n",
    "        :type numb: str\n",
    "        :rtype: str\n",
    "        \"\"\"\n",
    "        if not numa and not numb:\n",
    "            return ''\n",
    "        elif not numa:\n",
    "            return numb\n",
    "        elif not numb:\n",
    "            return numa\n",
    "        res,c,i,j='',0,len(numa)-1,len(numb)-1\n",
    "        while i>=0 and j>=0:\n",
    "            c+=int(numa[i])+int(numb[j])\n",
    "            res=str(c%10)+res\n",
    "            c,i,j=c/10,i-1,j-1\n",
    "        while i>=0:\n",
    "            c+=int(numa[i])\n",
    "            res=str(c%10)+res\n",
    "            c,i=c/10,i-1\n",
    "        while j>=0:\n",
    "            c+=int(numb[j])\n",
    "            res=str(c%10)+res\n",
    "            c,j=c/10,j-1\n",
    "        if c:\n",
    "            res='1'+res\n",
    "        return res\n",
    "            \n",
    "            \n",
    "        \n",
    "        "
   ]
  },
  {
   "cell_type": "code",
   "execution_count": 18,
   "metadata": {
    "collapsed": true
   },
   "outputs": [],
   "source": [
    "class Solution(object):\n",
    "    def addStrings(self,numa,numb):\n",
    "        res,c,i,j='',0,len(numa)-1,len(numb)-1\n",
    "        while i>=0 or j>=0 or c:\n",
    "            if i>=0:\n",
    "                c+=int(numa[i])\n",
    "                i-=1\n",
    "            if j>=0:\n",
    "                c+=int(numb[j])\n",
    "                j-=1\n",
    "            res=str(c%10)+res\n",
    "            c/=10\n",
    "        return res"
   ]
  },
  {
   "cell_type": "code",
   "execution_count": 19,
   "metadata": {
    "collapsed": true
   },
   "outputs": [],
   "source": [
    "s=Solution()"
   ]
  },
  {
   "cell_type": "code",
   "execution_count": 20,
   "metadata": {
    "collapsed": false
   },
   "outputs": [
    {
     "data": {
      "text/plain": [
       "'2222'"
      ]
     },
     "execution_count": 20,
     "metadata": {},
     "output_type": "execute_result"
    }
   ],
   "source": [
    "s.addStrings('1111','1111')"
   ]
  },
  {
   "cell_type": "code",
   "execution_count": 21,
   "metadata": {
    "collapsed": false
   },
   "outputs": [
    {
     "data": {
      "text/plain": [
       "'11110'"
      ]
     },
     "execution_count": 21,
     "metadata": {},
     "output_type": "execute_result"
    }
   ],
   "source": [
    "s.addStrings('1111','9999')"
   ]
  },
  {
   "cell_type": "code",
   "execution_count": null,
   "metadata": {
    "collapsed": true
   },
   "outputs": [],
   "source": []
  }
 ],
 "metadata": {
  "kernelspec": {
   "display_name": "Python [py2]",
   "language": "python",
   "name": "Python [py2]"
  },
  "language_info": {
   "codemirror_mode": {
    "name": "ipython",
    "version": 2
   },
   "file_extension": ".py",
   "mimetype": "text/x-python",
   "name": "python",
   "nbconvert_exporter": "python",
   "pygments_lexer": "ipython2",
   "version": "2.7.12"
  }
 },
 "nbformat": 4,
 "nbformat_minor": 0
}
