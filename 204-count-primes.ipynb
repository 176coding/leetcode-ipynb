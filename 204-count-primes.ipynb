{
 "cells": [
  {
   "cell_type": "code",
   "execution_count": null,
   "metadata": {
    "collapsed": true
   },
   "outputs": [],
   "source": [
    "# encoding:utf-8\n",
    "import sys\n",
    "\n",
    "# Title: Count Primes\n",
    "# Url: https://leetcode.com/problems/count-primes/\n",
    "# Difficulty: Easy\n",
    "\n",
    "# Problem Content:\n",
    "\"\"\"\n",
    "Description:\n",
    "Count the number of prime numbers less than a non-negative number, n.\n",
    "Credits:Special thanks to @mithmatt for adding this problem and creating all test cases.\n",
    "Let's start with a isPrime function. To determine if a number is prime, we need to check if it is not divisible by any number less than n. The runtime complexity of isPrime function would be O(n) and hence counting the total prime numbers up to n would be O(n2). Could we do better?\n",
    "As we know the number must not be divisible by any number > n / 2, we can immediately cut the total iterations half by dividing only up to n / 2. Could we still do better?\n",
    "Let's write down all of 12's factors:\n",
    "2 × 6 = 12\n",
    "3 × 4 = 12\n",
    "4 × 3 = 12\n",
    "6 × 2 = 12\n",
    "As you can see, calculations of 4 × 3 and 6 × 2 are not necessary. Therefore, we only need to consider factors up to √n because, if n is divisible by some number p, then n = p × q and since p ≤ q, we could derive that p ≤ √n.\n",
    "Our total runtime has now improved to O(n1.5), which is slightly better. Is there a faster approach?\n",
    "public int countPrimes(int n) {\n",
    "   int count = 0;\n",
    "   for (int i = 1; i < n; i++) {\n",
    "      if (isPrime(i)) count++;\n",
    "   }\n",
    "   return count;\n",
    "}\n",
    "private boolean isPrime(int num) {\n",
    "   if (num <= 1) return false;\n",
    "   // Loop's ending condition is i * i <= num instead of i <= sqrt(num)\n",
    "   // to avoid repeatedly calling an expensive function sqrt().\n",
    "   for (int i = 2; i * i <= num; i++) {\n",
    "      if (num % i == 0) return false;\n",
    "   }\n",
    "   return true;\n",
    "}\n",
    "The Sieve of Eratosthenes is one of the most efficient ways to find all prime numbers up to n. But don't let that name scare you, I promise that the concept is surprisingly simple.\n",
    "Sieve of Eratosthenes: algorithm steps for primes below 121. \"Sieve of Eratosthenes Animation\" by SKopp is licensed under CC BY 2.0.\n",
    "We start off with a table of n numbers. Let's look at the first number, 2. We know all multiples of 2 must not be primes, so we mark them off as non-primes. Then we look at the next number, 3. Similarly, all multiples of 3 such as 3 × 2 = 6, 3 × 3 = 9, ... must not be primes, so we mark them off as well. Now we look at the next number, 4, which was already marked off. What does this tell you? Should you mark off all multiples of 4 as well?\n",
    "4 is not a prime because it is divisible by 2, which means all multiples of 4 must also be divisible by 2 and were already marked off. So we can skip 4 immediately and go to the next number, 5. Now, all multiples of 5 such as 5 × 2 = 10, 5 × 3 = 15, 5 × 4 = 20, 5 × 5 = 25, ... can be marked off. There is a slight optimization here, we do not need to start from 5 × 2 = 10. Where should we start marking off?\n",
    "In fact, we can mark off multiples of 5 starting at 5 × 5 = 25, because 5 × 2 = 10 was already marked off by multiple of 2, similarly 5 × 3 = 15 was already marked off by multiple of 3. Therefore, if the current number is p, we can always mark off multiples of p starting at p2, then in increments of p: p2 + p, p2 + 2p, ... Now what should be the terminating loop condition?\n",
    "It is easy to say that the terminating loop condition is p < n, which is certainly correct but not efficient. Do you still remember Hint #3?\n",
    "Yes, the terminating loop condition can be p < √n, as all non-primes ≥ √n must have already been marked off. When the loop terminates, all the numbers in the table that are non-marked are prime.\n",
    "The Sieve of Eratosthenes uses an extra O(n) memory and its runtime complexity is O(n log log n). For the more mathematically inclined readers, you can read more about its algorithm complexity on Wikipedia.\n",
    "public int countPrimes(int n) {\n",
    "   boolean[] isPrime = new boolean[n];\n",
    "   for (int i = 2; i < n; i++) {\n",
    "      isPrime[i] = true;\n",
    "   }\n",
    "   // Loop's ending condition is i * i < n instead of i < sqrt(n)\n",
    "   // to avoid repeatedly calling an expensive function sqrt().\n",
    "   for (int i = 2; i * i < n; i++) {\n",
    "      if (!isPrime[i]) continue;\n",
    "      for (int j = i * i; j < n; j += i) {\n",
    "         isPrime[j] = false;\n",
    "      }\n",
    "   }\n",
    "   int count = 0;\n",
    "   for (int i = 2; i < n; i++) {\n",
    "      if (isPrime[i]) count++;\n",
    "   }\n",
    "   return count;\n",
    "}\n",
    "Subscribe to see which companies asked this question\n",
    "Show Tags\n",
    "Hash Table\n",
    "Math\n",
    "Show Similar Problems\n",
    " (E) Ugly Number\n",
    " (M) Ugly Number II\n",
    " (M) Perfect Squares\n",
    "\"\"\""
   ]
  },
  {
   "cell_type": "code",
   "execution_count": 18,
   "metadata": {
    "collapsed": true
   },
   "outputs": [],
   "source": [
    "#tle\n",
    "import math\n",
    "class Solution(object):\n",
    "    def isPrime(self,x):\n",
    "        if x<=1:\n",
    "            return False\n",
    "        for i in range(2,int(math.sqrt(x))+1):\n",
    "            if x%i==0:\n",
    "                return False\n",
    "        return True\n",
    "    def countPrimes(self, n):\n",
    "        \"\"\"\n",
    "        :type n: int\n",
    "        :rtype: int\n",
    "        \"\"\"\n",
    "        cnt=0\n",
    "        for i in range(n):\n",
    "            if self.isPrime(i):\n",
    "                cnt+=1\n",
    "        return cnt\n",
    "        "
   ]
  },
  {
   "cell_type": "code",
   "execution_count": 35,
   "metadata": {
    "collapsed": true
   },
   "outputs": [],
   "source": [
    "import math\n",
    "class Solution(object):\n",
    "    def isPrime(self,x):\n",
    "        if x<2:\n",
    "            return False\n",
    "        for i in range(2,int(math.sqrt(x))+1):\n",
    "            if x%i==0:\n",
    "                return False\n",
    "        return True\n",
    "    def countPrimes(self,n):\n",
    "        arr=[True]*n\n",
    "        for i in range(2,int(math.sqrt(n))+1):\n",
    "            if not self.isPrime(i):\n",
    "                continue\n",
    "            for j in range(i*i,n,i):\n",
    "                arr[j]=False\n",
    "        cnt=0\n",
    "        for i in range(2,n):\n",
    "            if arr[i]:\n",
    "                cnt+=1\n",
    "        return cnt"
   ]
  },
  {
   "cell_type": "code",
   "execution_count": 41,
   "metadata": {
    "collapsed": true
   },
   "outputs": [],
   "source": [
    "import math\n",
    "class Solution(object):\n",
    "    def countPrimes(self,n):\n",
    "        if n<=2:\n",
    "            return 0\n",
    "        is_prime=[True]*n\n",
    "        for i in range(2,int(math.sqrt(n))+1):\n",
    "            if not is_prime[i]:\n",
    "                continue\n",
    "            for j in range(i*i,n,i):\n",
    "                is_prime[j]=False\n",
    "        cnt=0\n",
    "        for i in range(2,n):\n",
    "            if is_prime[i]:\n",
    "                cnt+=1\n",
    "        return cnt"
   ]
  },
  {
   "cell_type": "code",
   "execution_count": 42,
   "metadata": {
    "collapsed": true
   },
   "outputs": [],
   "source": [
    "s=Solution()"
   ]
  },
  {
   "cell_type": "code",
   "execution_count": 43,
   "metadata": {
    "collapsed": false
   },
   "outputs": [
    {
     "data": {
      "text/plain": [
       "0"
      ]
     },
     "execution_count": 43,
     "metadata": {},
     "output_type": "execute_result"
    }
   ],
   "source": [
    "s.countPrimes(1)"
   ]
  },
  {
   "cell_type": "code",
   "execution_count": 44,
   "metadata": {
    "collapsed": false
   },
   "outputs": [
    {
     "data": {
      "text/plain": [
       "0"
      ]
     },
     "execution_count": 44,
     "metadata": {},
     "output_type": "execute_result"
    }
   ],
   "source": [
    "s.countPrimes(2)"
   ]
  },
  {
   "cell_type": "code",
   "execution_count": 45,
   "metadata": {
    "collapsed": false
   },
   "outputs": [
    {
     "data": {
      "text/plain": [
       "1"
      ]
     },
     "execution_count": 45,
     "metadata": {},
     "output_type": "execute_result"
    }
   ],
   "source": [
    "s.countPrimes(3)"
   ]
  },
  {
   "cell_type": "code",
   "execution_count": 46,
   "metadata": {
    "collapsed": false
   },
   "outputs": [
    {
     "data": {
      "text/plain": [
       "41537"
      ]
     },
     "execution_count": 46,
     "metadata": {},
     "output_type": "execute_result"
    }
   ],
   "source": [
    "s.countPrimes(499979)"
   ]
  },
  {
   "cell_type": "code",
   "execution_count": null,
   "metadata": {
    "collapsed": true
   },
   "outputs": [],
   "source": []
  }
 ],
 "metadata": {
  "anaconda-cloud": {},
  "kernelspec": {
   "display_name": "Python [py2]",
   "language": "python",
   "name": "Python [py2]"
  },
  "language_info": {
   "codemirror_mode": {
    "name": "ipython",
    "version": 2
   },
   "file_extension": ".py",
   "mimetype": "text/x-python",
   "name": "python",
   "nbconvert_exporter": "python",
   "pygments_lexer": "ipython2",
   "version": "2.7.12"
  }
 },
 "nbformat": 4,
 "nbformat_minor": 0
}
