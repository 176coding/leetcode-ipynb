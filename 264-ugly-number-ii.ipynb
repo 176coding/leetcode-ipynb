{
 "cells": [
  {
   "cell_type": "code",
   "execution_count": null,
   "metadata": {
    "collapsed": true
   },
   "outputs": [],
   "source": [
    "# encoding:utf-8\n",
    "import sys\n",
    "\n",
    "# Title: Ugly Number II\n",
    "# Url: https://leetcode.com/problems/ugly-number-ii/\n",
    "# Difficulty: Medium\n",
    "\n",
    "# Problem Content:\n",
    "\"\"\"\n",
    "Write a program to find the n-th ugly number.\n",
    "Ugly numbers are positive numbers whose prime factors only include 2, 3, 5. For example, 1, 2, 3, 4, 5, 6, 8, 9, 10, 12 is the sequence of the first 10 ugly numbers.\n",
    "Note that 1 is typically treated as an ugly number.\n",
    "The naive approach is to call isUgly for every number until you reach the nth one. Most numbers are not ugly. Try to focus your effort on generating only the ugly ones.\n",
    "An ugly number must be multiplied by either 2, 3, or 5 from a smaller ugly number.\n",
    "The key is how to maintain the order of the ugly numbers. Try a similar approach of merging from three sorted lists: L1, L2, and L3.\n",
    "Assume you have Uk, the kth ugly number. Then Uk+1 must be Min(L1 * 2, L2 * 3, L3 * 5).\n",
    "Credits:Special thanks to @jianchao.li.fighter for adding this problem and creating all test cases.\n",
    "Subscribe to see which companies asked this question\n",
    "Show Tags\n",
    "Dynamic Programming\n",
    "Heap\n",
    "Math\n",
    "Show Similar Problems\n",
    " (H) Merge k Sorted Lists\n",
    " (E) Count Primes\n",
    " (E) Ugly Number\n",
    " (M) Perfect Squares\n",
    " (M) Super Ugly Number\n",
    "\"\"\""
   ]
  },
  {
   "cell_type": "code",
   "execution_count": 14,
   "metadata": {
    "collapsed": true
   },
   "outputs": [],
   "source": [
    "#tle\n",
    "class Solution(object):\n",
    "    def isUgly(self,num):\n",
    "        for i in [2,3,5]:\n",
    "            while num%i==0:\n",
    "                num/=i\n",
    "        return num==1\n",
    "    def nthUglyNumber(self, n):\n",
    "        \"\"\"\n",
    "        :type n: int\n",
    "        :rtype: int\n",
    "        \"\"\"\n",
    "        num,cnt=1,0\n",
    "        while True:\n",
    "            if self.isUgly(num):\n",
    "                cnt+=1\n",
    "                if cnt==n:\n",
    "                    return num\n",
    "            num+=1\n",
    "        "
   ]
  },
  {
   "cell_type": "code",
   "execution_count": 78,
   "metadata": {
    "collapsed": false
   },
   "outputs": [],
   "source": [
    "class Solution(object):\n",
    "    def nthUglyNumber(self,n):\n",
    "        data=[1]*n\n",
    "        idx2,idx3,idx5=0,0,0\n",
    "        for i in range(1,n):\n",
    "            tmp2,tmp3,tmp5=data[idx2]*2,data[idx3]*3,data[idx5]*5\n",
    "            tmp=min(tmp2,tmp3,tmp5)\n",
    "            data[i]=tmp\n",
    "            if tmp==tmp2:\n",
    "                idx2+=1\n",
    "            if tmp==tmp3:\n",
    "                idx3+=1\n",
    "            if tmp==tmp5:\n",
    "                idx5+=1\n",
    "        return data[-1]"
   ]
  },
  {
   "cell_type": "code",
   "execution_count": 101,
   "metadata": {
    "collapsed": true
   },
   "outputs": [],
   "source": [
    "#tle\n",
    "from heapq import heappop,heappush\n",
    "class Solution(object):\n",
    "    def nthUglyNumber(self,n):\n",
    "        hq=[1]\n",
    "        for _ in range(1,n):\n",
    "            min_val=heappop(hq)\n",
    "            tmp2,tmp3,tmp5=min_val*2,min_val*3,min_val*5\n",
    "            for tmp in [tmp2,tmp3,tmp5]:\n",
    "                if tmp not in hq:\n",
    "                    heappush(hq,tmp)\n",
    "        return hq[0]"
   ]
  },
  {
   "cell_type": "code",
   "execution_count": 106,
   "metadata": {
    "collapsed": true
   },
   "outputs": [],
   "source": [
    "from heapq import  heappop,heappush\n",
    "class Solution(object):\n",
    "    def nthUglyNumber(self,n):\n",
    "        hq=[1]\n",
    "        for _ in range(1,n):\n",
    "            tmp=heappop(hq)\n",
    "            tmp2,tmp3,tmp5=tmp*2,tmp*3,tmp*5\n",
    "            if tmp%2==0:\n",
    "                heappush(hq,tmp2)\n",
    "            elif tmp%3==0:\n",
    "                heappush(hq,tmp2)\n",
    "                heappush(hq,tmp3)\n",
    "            else:\n",
    "                heappush(hq,tmp2)\n",
    "                heappush(hq,tmp3)\n",
    "                heappush(hq,tmp5)\n",
    "        return hq[0]"
   ]
  },
  {
   "cell_type": "code",
   "execution_count": 107,
   "metadata": {
    "collapsed": true
   },
   "outputs": [],
   "source": [
    "s=Solution()"
   ]
  },
  {
   "cell_type": "code",
   "execution_count": 108,
   "metadata": {
    "collapsed": false
   },
   "outputs": [
    {
     "data": {
      "text/plain": [
       "8"
      ]
     },
     "execution_count": 108,
     "metadata": {},
     "output_type": "execute_result"
    }
   ],
   "source": [
    "s.nthUglyNumber(7)"
   ]
  },
  {
   "cell_type": "code",
   "execution_count": 109,
   "metadata": {
    "collapsed": false
   },
   "outputs": [
    {
     "data": {
      "text/plain": [
       "12"
      ]
     },
     "execution_count": 109,
     "metadata": {},
     "output_type": "execute_result"
    }
   ],
   "source": [
    "s.nthUglyNumber(10)"
   ]
  },
  {
   "cell_type": "code",
   "execution_count": 110,
   "metadata": {
    "collapsed": false
   },
   "outputs": [
    {
     "name": "stdout",
     "output_type": "stream",
     "text": [
      "1\n",
      "2\n",
      "3\n",
      "4\n",
      "5\n",
      "6\n",
      "8\n",
      "9\n",
      "10\n",
      "12\n"
     ]
    }
   ],
   "source": [
    "for i in range(1,11):\n",
    "    print s.nthUglyNumber(i)"
   ]
  },
  {
   "cell_type": "code",
   "execution_count": null,
   "metadata": {
    "collapsed": true
   },
   "outputs": [],
   "source": []
  }
 ],
 "metadata": {
  "anaconda-cloud": {},
  "kernelspec": {
   "display_name": "Python [py2]",
   "language": "python",
   "name": "Python [py2]"
  },
  "language_info": {
   "codemirror_mode": {
    "name": "ipython",
    "version": 2
   },
   "file_extension": ".py",
   "mimetype": "text/x-python",
   "name": "python",
   "nbconvert_exporter": "python",
   "pygments_lexer": "ipython2",
   "version": "2.7.12"
  }
 },
 "nbformat": 4,
 "nbformat_minor": 0
}
