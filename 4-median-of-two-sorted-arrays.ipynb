{
 "cells": [
  {
   "cell_type": "code",
   "execution_count": 1,
   "metadata": {
    "collapsed": false
   },
   "outputs": [
    {
     "name": "stdout",
     "output_type": "stream",
     "text": [
      "\f",
      "\n"
     ]
    }
   ],
   "source": [
    "# Title: Median of Two Sorted Arrays\n",
    "# Url: https://leetcode.com/problems/median-of-two-sorted-arrays/\n",
    "# Difficulty: Hard\n",
    "\n",
    "# Problem Content:\n",
    "\"\"\"\n",
    "There are two sorted arrays nums1 and nums2 of size m and n respectively.\n",
    "Find the median of the two sorted arrays. The overall run time complexity should be O(log (m+n)).\n",
    "Example 1:\n",
    "nums1 = [1, 3]\n",
    "nums2 = [2]\n",
    "The median is 2.0\n",
    "Example 2:\n",
    "nums1 = [1, 2]\n",
    "nums2 = [3, 4]\n",
    "The median is (2 + 3)/2 = 2.5\n",
    "Subscribe to see which companies asked this question\n",
    "Show Tags\n",
    "Binary Search\n",
    "Array\n",
    "Divide and Conquer\n",
    "\"\"\"\n",
    "%cls"
   ]
  },
  {
   "cell_type": "code",
   "execution_count": 1,
   "metadata": {
    "collapsed": true
   },
   "outputs": [],
   "source": [
    "#merge first, then get median\n",
    "class Solution(object):\n",
    "    def findMedianSortedArrays(self, nums1, nums2):\n",
    "        \"\"\"\n",
    "        :type nums1: List[int]\n",
    "        :type nums2: List[int]\n",
    "        :rtype: float\n",
    "        \"\"\"\n",
    "        len1,len2=len(nums1),len(nums2)\n",
    "        i,j=0,0\n",
    "        nums=[]\n",
    "        while i<len1 and j<len2:\n",
    "            if nums1[i]<nums2[j]:\n",
    "                nums.append(nums1[i])\n",
    "                i+=1\n",
    "            else:\n",
    "                nums.append(nums2[j])\n",
    "                j+=1\n",
    "        nums.extend(nums1[i:])\n",
    "        nums.extend(nums2[j:])\n",
    "        ln=len1+len2\n",
    "        m=ln>>1\n",
    "        if ln&1:\n",
    "            res=nums[m]\n",
    "        else:\n",
    "            res=(nums[m]+nums[m-1])/2.0\n",
    "        return float(res)"
   ]
  },
  {
   "cell_type": "code",
   "execution_count": 10,
   "metadata": {
    "collapsed": false
   },
   "outputs": [],
   "source": [
    "#find kth element in a sorted array\n",
    "class Solution(object):\n",
    "    def findMedianSortedArrays(self, nums1, nums2):\n",
    "        ln=len(nums1)+len(nums2)\n",
    "        if ln&1:\n",
    "            return self.kth(nums1,nums2,ln>>1)\n",
    "        else:\n",
    "            return (self.kth(nums1,nums2,ln>>1)+self.kth(nums1,nums2,(ln>>1)-1))/2.0\n",
    "        pass\n",
    "    def kth(self,nums1,nums2,k):\n",
    "        if not nums1:\n",
    "            return nums2[k]\n",
    "        if not nums2:\n",
    "            return nums1[k]\n",
    "        len1,len2=len(nums1),len(nums2)\n",
    "        m1,m2=len1>>1,len2>>1\n",
    "        v1,v2=nums1[m1],nums2[m2]\n",
    "        if m1+m2<k:#when k is bigger than half a and b's median indices\n",
    "            if v1>v2:#if a's median is bigger than b's, then b's first half not include k\n",
    "                return self.kth(nums1,nums2[m2+1:],k-m2-1)\n",
    "            else:\n",
    "                return self.kth(nums1[m1+1:],nums2,k-m1-1)\n",
    "        else:\n",
    "            if v1>v2:#if a's median is bigger than b's, then a's second half not include k\n",
    "                return self.kth(nums1[:m1],nums2,k)\n",
    "            else:\n",
    "                return self.kth(nums1,nums2[:m2],k)\n"
   ]
  },
  {
   "cell_type": "code",
   "execution_count": 12,
   "metadata": {
    "collapsed": false
   },
   "outputs": [
    {
     "data": {
      "text/plain": [
       "2"
      ]
     },
     "execution_count": 12,
     "metadata": {},
     "output_type": "execute_result"
    }
   ],
   "source": [
    "s = Solution()\n",
    "s.findMedianSortedArrays([1,3],[2])"
   ]
  },
  {
   "cell_type": "code",
   "execution_count": 13,
   "metadata": {
    "collapsed": false
   },
   "outputs": [
    {
     "data": {
      "text/plain": [
       "2.5"
      ]
     },
     "execution_count": 13,
     "metadata": {},
     "output_type": "execute_result"
    }
   ],
   "source": [
    "s.findMedianSortedArrays([1,2],[3,4])"
   ]
  },
  {
   "cell_type": "code",
   "execution_count": null,
   "metadata": {
    "collapsed": false
   },
   "outputs": [],
   "source": []
  },
  {
   "cell_type": "code",
   "execution_count": null,
   "metadata": {
    "collapsed": true
   },
   "outputs": [],
   "source": []
  }
 ],
 "metadata": {
  "anaconda-cloud": {},
  "kernelspec": {
   "display_name": "Python [py27]",
   "language": "python",
   "name": "Python [py27]"
  },
  "language_info": {
   "codemirror_mode": {
    "name": "ipython",
    "version": 2
   },
   "file_extension": ".py",
   "mimetype": "text/x-python",
   "name": "python",
   "nbconvert_exporter": "python",
   "pygments_lexer": "ipython2",
   "version": "2.7.12"
  }
 },
 "nbformat": 4,
 "nbformat_minor": 1
}
