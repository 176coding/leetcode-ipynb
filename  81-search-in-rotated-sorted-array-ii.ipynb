{
 "cells": [
  {
   "cell_type": "code",
   "execution_count": null,
   "metadata": {
    "collapsed": true
   },
   "outputs": [],
   "source": [
    "# encoding:utf-8\n",
    "import sys\n",
    "\n",
    "# Title: Search in Rotated Sorted Array II\n",
    "# Url: https://leetcode.com/problems/search-in-rotated-sorted-array-ii/\n",
    "# Difficulty: Medium\n",
    "\n",
    "# Problem Content:\n",
    "\"\"\"\n",
    "Follow up for \"Search in Rotated Sorted Array\":\n",
    "What if duplicates are allowed?\n",
    "Would this affect the run-time complexity? How and why?\n",
    "Write a function to determine if a given target is in the array.\n",
    "Subscribe to see which companies asked this question\n",
    "Show Tags\n",
    "Array\n",
    "Binary Search\n",
    "Show Similar Problems\n",
    " (H) Search in Rotated Sorted Array\n",
    "\"\"\""
   ]
  },
  {
   "cell_type": "code",
   "execution_count": 2,
   "metadata": {
    "collapsed": false
   },
   "outputs": [],
   "source": [
    "class Solution(object):\n",
    "    def search(self, nums, target):\n",
    "        \"\"\"\n",
    "        :type nums: List[int]\n",
    "        :type target: int6\n",
    "        :rtype: bool\n",
    "        \"\"\"\n",
    "        start,end=0,len(nums)-1\n",
    "        while start<=end:\n",
    "            mid=(start+end)>>1\n",
    "            if nums[mid]==target:\n",
    "                return True\n",
    "            if nums[mid]<nums[end]:\n",
    "                if nums[mid]<target<=nums[end]:\n",
    "                    start=mid+1\n",
    "                else:\n",
    "                    end=mid-1\n",
    "            elif nums[mid]>nums[end]:\n",
    "                if nums[start]<=target<nums[mid]:\n",
    "                    end=mid-1\n",
    "                else:\n",
    "                    start=mid+1\n",
    "            else: # nums[mid]==nums[end]\n",
    "                end-=1\n",
    "        return False"
   ]
  },
  {
   "cell_type": "code",
   "execution_count": 3,
   "metadata": {
    "collapsed": true
   },
   "outputs": [],
   "source": [
    "s=Solution()"
   ]
  },
  {
   "cell_type": "code",
   "execution_count": 4,
   "metadata": {
    "collapsed": false
   },
   "outputs": [
    {
     "data": {
      "text/plain": [
       "True"
      ]
     },
     "execution_count": 4,
     "metadata": {},
     "output_type": "execute_result"
    }
   ],
   "source": [
    "s.search([1,1,1,2,2,2,3,3,4,5,6,6,7,7,8],3)"
   ]
  },
  {
   "cell_type": "code",
   "execution_count": null,
   "metadata": {
    "collapsed": true
   },
   "outputs": [],
   "source": []
  }
 ],
 "metadata": {
  "kernelspec": {
   "display_name": "Python [py2]",
   "language": "python",
   "name": "Python [py2]"
  },
  "language_info": {
   "codemirror_mode": {
    "name": "ipython",
    "version": 2
   },
   "file_extension": ".py",
   "mimetype": "text/x-python",
   "name": "python",
   "nbconvert_exporter": "python",
   "pygments_lexer": "ipython2",
   "version": "2.7.12"
  }
 },
 "nbformat": 4,
 "nbformat_minor": 0
}
