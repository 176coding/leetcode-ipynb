{
 "cells": [
  {
   "cell_type": "code",
   "execution_count": null,
   "metadata": {
    "collapsed": true
   },
   "outputs": [],
   "source": [
    "# encoding:utf-8\n",
    "import sys\n",
    "\n",
    "# Title: Merge k Sorted Lists\n",
    "# Url: https://leetcode.com/problems/merge-k-sorted-lists/\n",
    "# Difficulty: Hard\n",
    "\n",
    "# Problem Content:\n",
    "\"\"\"\n",
    "Merge k sorted linked lists and return it as one sorted list. Analyze and describe its complexity.\n",
    "Subscribe to see which companies asked this question\n",
    "Show Tags\n",
    "Divide and Conquer\n",
    "Linked List\n",
    "Heap\n",
    "Show Similar Problems\n",
    " (E) Merge Two Sorted Lists\n",
    " (M) Ugly Number II\n",
    "\"\"\""
   ]
  },
  {
   "cell_type": "code",
   "execution_count": 1,
   "metadata": {
    "collapsed": true
   },
   "outputs": [],
   "source": [
    "# Definition for singly-linked list.\n",
    "class ListNode(object):\n",
    "    def __init__(self, x):\n",
    "        self.val = x\n",
    "        self.next = None\n",
    "    def __repr__(self):\n",
    "        if not self:\n",
    "            return None\n",
    "        return '{}->{}'.format(self.val,repr(self.next))"
   ]
  },
  {
   "cell_type": "code",
   "execution_count": 11,
   "metadata": {
    "collapsed": true
   },
   "outputs": [],
   "source": [
    "#TLE\n",
    "class Solution(object):\n",
    "    def merge(self,h1,h2):\n",
    "        dummy=ListNode(0)\n",
    "        cur=dummy\n",
    "        while h1 and h2:\n",
    "            if h1.val<h2.val:\n",
    "                cur.next,cur,h1=h1,h1,h1.next\n",
    "            else:\n",
    "                cur.next,cur,h2=h2,h2,h2.next\n",
    "        if h1:\n",
    "            cur.next=h1\n",
    "        if h2:\n",
    "            cur.next=h2\n",
    "        return dummy.next\n",
    "    def mergeKLists(self, lists):\n",
    "        \"\"\"\n",
    "        :type lists: List[ListNode]\n",
    "        :rtype: ListNode\n",
    "        \"\"\"\n",
    "        if not lists:\n",
    "            return lists\n",
    "        if len(lists)==1:\n",
    "            return lists[0]\n",
    "        res=None\n",
    "        for i in range(len(lists)):\n",
    "            res=self.merge(res,lists[i])\n",
    "        return res\n",
    "            \n",
    "        "
   ]
  },
  {
   "cell_type": "code",
   "execution_count": 15,
   "metadata": {
    "collapsed": true
   },
   "outputs": [],
   "source": [
    "class Solution(object):\n",
    "    def mergeKLists(self,lists):\n",
    "        if not lists:\n",
    "            return lists\n",
    "        if len(lists)==1:\n",
    "            return lists[0]\n",
    "        data=[]\n",
    "        for head in lists:\n",
    "            while head:\n",
    "                data.append(head.val)\n",
    "                head=head.next\n",
    "        data=sorted(data)\n",
    "        dummy=ListNode(1)\n",
    "        cur=dummy\n",
    "        for val in data:\n",
    "            cur.next=ListNode(val)\n",
    "            cur=cur.next\n",
    "        return dummy.next"
   ]
  },
  {
   "cell_type": "code",
   "execution_count": 22,
   "metadata": {
    "collapsed": true
   },
   "outputs": [],
   "source": [
    "class Solution(object):\n",
    "    def mergeKLists(self,lists):\n",
    "        def mergeTwoLists(h1,h2):\n",
    "            dummy=ListNode(-1)\n",
    "            cur=dummy\n",
    "            while h1 and h2:\n",
    "                if h1.val < h2.val:\n",
    "                    cur.next,cur,h1=h1,h1,h1.next\n",
    "                else:\n",
    "                    cur.next,cur,h2=h2,h2,h2.next\n",
    "            cur.next=h1 or h2\n",
    "            return dummy.next\n",
    "        def mergeTwoListsHelper(lists,begin,end):\n",
    "            if begin>end:\n",
    "                return None\n",
    "            if begin==end:\n",
    "                return lists[begin]\n",
    "            return mergeTwoLists(mergeTwoListsHelper(lists,begin,(begin+end)/2),mergeTwoListsHelper(lists,(begin+end)/2+1,end))\n",
    "        return mergeTwoListsHelper(lists,0,len(lists)-1)\n",
    "            "
   ]
  },
  {
   "cell_type": "code",
   "execution_count": 15,
   "metadata": {
    "collapsed": true
   },
   "outputs": [],
   "source": [
    "class Solution(object):\n",
    "    def mergeTwoLists(self,h1,h2):\n",
    "        dummy=ListNode(-1)\n",
    "        cur=dummy\n",
    "        while h1 and h2:\n",
    "            if h1.val<h2.val:\n",
    "                cur.next,cur,h1=h1,h1,h1.next\n",
    "            else:\n",
    "                cur.next,cur,h2=h2,h2,h2.next\n",
    "        cur.next= h1 or h2\n",
    "        return dummy.next\n",
    "    def partition(self,lists,start,end):\n",
    "        if start==end:\n",
    "            return lists[start]\n",
    "        elif start>end:\n",
    "            return None\n",
    "        else:\n",
    "            mid=(start+end)>>1\n",
    "            h1=self.partition(lists,start,mid)\n",
    "            h2=self.partition(lists,mid+1,end)\n",
    "            return self.mergeTwoLists(h1,h2)\n",
    "    def mergeKLists(self,lists):\n",
    "        return self.partition(lists,0,len(lists)-1)"
   ]
  },
  {
   "cell_type": "code",
   "execution_count": 21,
   "metadata": {
    "collapsed": false
   },
   "outputs": [],
   "source": [
    "from heapq import heappop,heappush\n",
    "class Solution(object):\n",
    "    def mergeKLists(self,lists):\n",
    "        heap=[]\n",
    "        for head in lists:\n",
    "            if head:\n",
    "                heappush(heap,(head.val,head))\n",
    "        dummy=ListNode(-1)\n",
    "        cur=dummy\n",
    "        while heap:\n",
    "            smallestNode=heappop(heap)[1]\n",
    "            cur.next,cur=smallestNode,smallestNode\n",
    "            if smallestNode.next:\n",
    "                heappush(heap,(smallestNode.next.val,smallestNode.next))\n",
    "        return dummy.next\n",
    "        pass"
   ]
  },
  {
   "cell_type": "code",
   "execution_count": 22,
   "metadata": {
    "collapsed": false
   },
   "outputs": [],
   "source": [
    "s=Solution()"
   ]
  },
  {
   "cell_type": "code",
   "execution_count": 23,
   "metadata": {
    "collapsed": false
   },
   "outputs": [
    {
     "data": {
      "text/plain": [
       "0->1->2->3->5->10->11->12->None"
      ]
     },
     "execution_count": 23,
     "metadata": {},
     "output_type": "execute_result"
    }
   ],
   "source": [
    "h1=ListNode(1)\n",
    "h1.next=ListNode(5)\n",
    "h2=ListNode(0)\n",
    "h2.next=ListNode(3)\n",
    "h3=ListNode(10)\n",
    "h3.next=ListNode(11)\n",
    "h4=ListNode(2)\n",
    "h4.next=ListNode(12)\n",
    "s.mergeKLists([h1,h2,h3,h4])"
   ]
  },
  {
   "cell_type": "code",
   "execution_count": 24,
   "metadata": {
    "collapsed": false
   },
   "outputs": [
    {
     "data": {
      "text/plain": [
       "1->2->3->5->10->11->12->None"
      ]
     },
     "execution_count": 24,
     "metadata": {},
     "output_type": "execute_result"
    }
   ],
   "source": [
    "s.mergeKLists([None,h1])"
   ]
  },
  {
   "cell_type": "code",
   "execution_count": null,
   "metadata": {
    "collapsed": true
   },
   "outputs": [],
   "source": []
  }
 ],
 "metadata": {
  "kernelspec": {
   "display_name": "Python [py2]",
   "language": "python",
   "name": "Python [py2]"
  },
  "language_info": {
   "codemirror_mode": {
    "name": "ipython",
    "version": 2
   },
   "file_extension": ".py",
   "mimetype": "text/x-python",
   "name": "python",
   "nbconvert_exporter": "python",
   "pygments_lexer": "ipython2",
   "version": "2.7.12"
  }
 },
 "nbformat": 4,
 "nbformat_minor": 0
}
