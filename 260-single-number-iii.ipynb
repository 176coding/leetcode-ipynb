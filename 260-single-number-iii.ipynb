{
 "cells": [
  {
   "cell_type": "code",
   "execution_count": null,
   "metadata": {
    "collapsed": true
   },
   "outputs": [],
   "source": [
    "# encoding:utf-8\n",
    "import sys\n",
    "\n",
    "# Title: Single Number III\n",
    "# Url: https://leetcode.com/problems/single-number-iii/\n",
    "# Difficulty: Medium\n",
    "\n",
    "# Problem Content:\n",
    "\"\"\"\n",
    "Given an array of numbers nums, in which exactly two elements appear only once and all the other elements appear exactly twice. Find the two elements that appear only once.\n",
    "For example:\n",
    "Given nums = [1, 2, 1, 3, 2, 5], return [3, 5].\n",
    "Note:\n",
    "The order of the result is not important. So in the above example, [5, 3] is also correct.\n",
    "Your algorithm should run in linear runtime complexity. Could you implement it using only constant space complexity?\n",
    "Credits:Special thanks to @jianchao.li.fighter for adding this problem and creating all test cases.\n",
    "Subscribe to see which companies asked this question\n",
    "Show Tags\n",
    "Bit Manipulation\n",
    "Show Similar Problems\n",
    " (M) Single Number\n",
    " (M) Single Number II\n",
    "\"\"\""
   ]
  },
  {
   "cell_type": "code",
   "execution_count": 2,
   "metadata": {
    "collapsed": true
   },
   "outputs": [],
   "source": [
    "from collections import  Counter\n",
    "class Solution(object):\n",
    "    def singleNumber(self, nums):\n",
    "        \"\"\"\n",
    "        :type nums: List[int]\n",
    "        :rtype: List[int]\n",
    "        \"\"\"\n",
    "        dd=Counter(nums)\n",
    "        res=[]\n",
    "        for k,v in dd.items():\n",
    "            if v==1:\n",
    "                res.append(k)\n",
    "        return res"
   ]
  },
  {
   "cell_type": "code",
   "execution_count": 21,
   "metadata": {
    "collapsed": false
   },
   "outputs": [],
   "source": [
    "from operator import xor,and_\n",
    "class Solution(object):\n",
    "    def singleNumber(self,nums):\n",
    "        xor_val=reduce(xor,nums)\n",
    "        last1_pos=self.getLast1Pos(xor_val)\n",
    "        res1,res2=0,0\n",
    "        for i in nums:\n",
    "            if and_(i,last1_pos):\n",
    "                res1=xor(res1,i)\n",
    "            else:\n",
    "                res2=xor(res2,i)\n",
    "        return [res1,res2]\n",
    "    def getLast1Pos(self,val):\n",
    "        res=1\n",
    "        while and_(val,res)==0:\n",
    "            res<<=1\n",
    "        return res"
   ]
  },
  {
   "cell_type": "code",
   "execution_count": null,
   "metadata": {
    "collapsed": false
   },
   "outputs": [],
   "source": []
  },
  {
   "cell_type": "code",
   "execution_count": 22,
   "metadata": {
    "collapsed": true
   },
   "outputs": [],
   "source": [
    "s=Solution()"
   ]
  },
  {
   "cell_type": "code",
   "execution_count": 23,
   "metadata": {
    "collapsed": false
   },
   "outputs": [
    {
     "data": {
      "text/plain": [
       "[10, 4]"
      ]
     },
     "execution_count": 23,
     "metadata": {},
     "output_type": "execute_result"
    }
   ],
   "source": [
    "s.singleNumber([1,1,3,3,4,5,5,10])"
   ]
  },
  {
   "cell_type": "code",
   "execution_count": 20,
   "metadata": {
    "collapsed": false
   },
   "outputs": [
    {
     "data": {
      "text/plain": [
       "256"
      ]
     },
     "execution_count": 20,
     "metadata": {},
     "output_type": "execute_result"
    }
   ],
   "source": [
    "s.getLast1Pos(256)"
   ]
  }
 ],
 "metadata": {
  "kernelspec": {
   "display_name": "Python [py2]",
   "language": "python",
   "name": "Python [py2]"
  },
  "language_info": {
   "codemirror_mode": {
    "name": "ipython",
    "version": 2
   },
   "file_extension": ".py",
   "mimetype": "text/x-python",
   "name": "python",
   "nbconvert_exporter": "python",
   "pygments_lexer": "ipython2",
   "version": "2.7.12"
  }
 },
 "nbformat": 4,
 "nbformat_minor": 0
}
