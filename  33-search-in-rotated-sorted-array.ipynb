{
 "cells": [
  {
   "cell_type": "code",
   "execution_count": null,
   "metadata": {
    "collapsed": true
   },
   "outputs": [],
   "source": [
    "# encoding:utf-8\n",
    "import sys\n",
    "\n",
    "# Title: Search in Rotated Sorted Array\n",
    "# Url: https://leetcode.com/problems/search-in-rotated-sorted-array/\n",
    "# Difficulty: Hard\n",
    "\n",
    "# Problem Content:\n",
    "\"\"\"\n",
    "Suppose a sorted array is rotated at some pivot unknown to you beforehand.\n",
    "(i.e., 0 1 2 4 5 6 7 might become 4 5 6 7 0 1 2).\n",
    "You are given a target value to search. If found in the array return its index, otherwise return -1.\n",
    "You may assume no duplicate exists in the array.\n",
    "Subscribe to see which companies asked this question\n",
    "Show Tags\n",
    "Binary Search\n",
    "Array\n",
    "Show Similar Problems\n",
    " (M) Search in Rotated Sorted Array II\n",
    " (M) Find Minimum in Rotated Sorted Array\n",
    "\"\"\""
   ]
  },
  {
   "cell_type": "code",
   "execution_count": 30,
   "metadata": {
    "collapsed": true
   },
   "outputs": [],
   "source": [
    "class Solution(object):\n",
    "    def search(self, nums, target):\n",
    "        \"\"\"\n",
    "        :type nums: List[int]\n",
    "        :type target: int\n",
    "        :rtype: int\n",
    "        \"\"\"\n",
    "        left,right=0,len(nums)-1\n",
    "        while left<=right:\n",
    "            mid=(left+right)>>1\n",
    "            print nums[mid]\n",
    "            if nums[mid]==target:\n",
    "                return mid\n",
    "            elif (nums[left]<=target<nums[mid] and nums[left]<=nums[mid]) or (nums[left]>nums[mid] and not (nums[mid]<target<=nums[right])):\n",
    "                right=mid-1\n",
    "            else:\n",
    "                left=mid+1\n",
    "        return -1"
   ]
  },
  {
   "cell_type": "code",
   "execution_count": 31,
   "metadata": {
    "collapsed": true
   },
   "outputs": [],
   "source": [
    "s=Solution()"
   ]
  },
  {
   "cell_type": "code",
   "execution_count": 32,
   "metadata": {
    "collapsed": false
   },
   "outputs": [
    {
     "name": "stdout",
     "output_type": "stream",
     "text": [
      "7\n",
      "1\n",
      "2\n",
      "3\n"
     ]
    },
    {
     "data": {
      "text/plain": [
       "7"
      ]
     },
     "execution_count": 32,
     "metadata": {},
     "output_type": "execute_result"
    }
   ],
   "source": [
    "s.search([4,5,6,7,0,1,2,3],3)"
   ]
  },
  {
   "cell_type": "code",
   "execution_count": 33,
   "metadata": {
    "collapsed": false
   },
   "outputs": [
    {
     "name": "stdout",
     "output_type": "stream",
     "text": [
      "1\n",
      "5\n"
     ]
    },
    {
     "data": {
      "text/plain": [
       "0"
      ]
     },
     "execution_count": 33,
     "metadata": {},
     "output_type": "execute_result"
    }
   ],
   "source": [
    "s.search([5,1,3],5)"
   ]
  },
  {
   "cell_type": "code",
   "execution_count": null,
   "metadata": {
    "collapsed": true
   },
   "outputs": [],
   "source": []
  }
 ],
 "metadata": {
  "kernelspec": {
   "display_name": "Python [py2]",
   "language": "python",
   "name": "Python [py2]"
  },
  "language_info": {
   "codemirror_mode": {
    "name": "ipython",
    "version": 2
   },
   "file_extension": ".py",
   "mimetype": "text/x-python",
   "name": "python",
   "nbconvert_exporter": "python",
   "pygments_lexer": "ipython2",
   "version": "2.7.12"
  }
 },
 "nbformat": 4,
 "nbformat_minor": 0
}
