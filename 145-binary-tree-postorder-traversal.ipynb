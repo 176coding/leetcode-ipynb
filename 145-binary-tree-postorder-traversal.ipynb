{
 "cells": [
  {
   "cell_type": "code",
   "execution_count": null,
   "metadata": {
    "collapsed": true
   },
   "outputs": [],
   "source": [
    "# encoding:utf-8\n",
    "import sys\n",
    "\n",
    "# Title: Binary Tree Postorder Traversal\n",
    "# Url: https://leetcode.com/problems/binary-tree-postorder-traversal/\n",
    "# Difficulty: Hard\n",
    "\n",
    "# Problem Content:\n",
    "\"\"\"\n",
    "Given a binary tree, return the postorder traversal of its nodes' values.\n",
    "For example:\n",
    "Given binary tree {1,#,2,3},\n",
    "   1\n",
    "    \\\n",
    "     2\n",
    "    /\n",
    "   3\n",
    "return [3,2,1].\n",
    "Note: Recursive solution is trivial, could you do it iteratively?\n",
    "Subscribe to see which companies asked this question\n",
    "Show Tags\n",
    "Tree\n",
    "Stack\n",
    "Show Similar Problems\n",
    " (M) Binary Tree Inorder Traversal\n",
    "\"\"\""
   ]
  },
  {
   "cell_type": "code",
   "execution_count": null,
   "metadata": {
    "collapsed": true
   },
   "outputs": [],
   "source": [
    "# Definition for a binary tree node.\n",
    "class TreeNode(object):\n",
    "    def __init__(self, x):\n",
    "        self.val = x\n",
    "        self.left = None\n",
    "        self.right = None"
   ]
  },
  {
   "cell_type": "code",
   "execution_count": 1,
   "metadata": {
    "collapsed": true
   },
   "outputs": [],
   "source": [
    "class Solution(object):\n",
    "    def postOrder(self,root,res):\n",
    "        if root:\n",
    "            self.postOrder(root.left,res)\n",
    "            self.postOrder(root.right,res)\n",
    "            res.append(root.val)\n",
    "    def postorderTraversal(self, root):\n",
    "        \"\"\"\n",
    "        :type root: TreeNode\n",
    "        :rtype: List[int]\n",
    "        \"\"\"\n",
    "        res=[]\n",
    "        self.postOrder(root,res)\n",
    "        return res\n",
    "        "
   ]
  },
  {
   "cell_type": "code",
   "execution_count": null,
   "metadata": {
    "collapsed": true
   },
   "outputs": [],
   "source": [
    "class Solution(object):\n",
    "    def postorderTraversal(self,root):\n",
    "        res,stack=[],[(root,False)]\n",
    "        while stack:\n",
    "            root,isVisited=stack.pop()\n",
    "            if not root:\n",
    "                continue\n",
    "            if isVisited:\n",
    "                res.append(root.val)\n",
    "            else:\n",
    "                stack.append((root,True))\n",
    "                stack.append((root.right,False))\n",
    "                stack.append((root.left,False))\n",
    "        return res"
   ]
  }
 ],
 "metadata": {
  "kernelspec": {
   "display_name": "Python [py2]",
   "language": "python",
   "name": "Python [py2]"
  },
  "language_info": {
   "codemirror_mode": {
    "name": "ipython",
    "version": 2
   },
   "file_extension": ".py",
   "mimetype": "text/x-python",
   "name": "python",
   "nbconvert_exporter": "python",
   "pygments_lexer": "ipython2",
   "version": "2.7.12"
  }
 },
 "nbformat": 4,
 "nbformat_minor": 0
}
