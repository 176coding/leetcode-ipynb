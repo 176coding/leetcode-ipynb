{
 "cells": [
  {
   "cell_type": "code",
   "execution_count": null,
   "metadata": {
    "collapsed": true
   },
   "outputs": [],
   "source": [
    "# encoding:utf-8\n",
    "import sys\n",
    "\n",
    "# Title: Kth Smallest Element in a Sorted Matrix\n",
    "# Url: https://leetcode.com/problems/kth-smallest-element-in-a-sorted-matrix/\n",
    "# Difficulty: Medium\n",
    "\n",
    "# Problem Content:\n",
    "\"\"\"\n",
    "Given a n x n matrix where each of the rows and columns are sorted in ascending order, find the kth smallest element in the matrix.\n",
    "Note that it is the kth smallest element in the sorted order, not the kth distinct element.\n",
    "Example:\n",
    "matrix = [\n",
    "   [ 1,  5,  9],\n",
    "   [10, 11, 13],\n",
    "   [12, 13, 15]\n",
    "],\n",
    "k = 8,\n",
    "return 13.\n",
    "Note: \n",
    "You may assume k is always valid, 1 ≤ k ≤ n2.\n",
    "Subscribe to see which companies asked this question\n",
    "Show Tags\n",
    "Binary Search\n",
    "Heap\n",
    "Show Similar Problems\n",
    " (M) Find K Pairs with Smallest Sums\n",
    "\"\"\""
   ]
  },
  {
   "cell_type": "code",
   "execution_count": 58,
   "metadata": {
    "collapsed": true
   },
   "outputs": [],
   "source": [
    "from heapq import heappop,heappush\n",
    "class Solution(object):\n",
    "    def kthSmallest(self, matrix, k):\n",
    "        \"\"\"\n",
    "        :type matrix: List[List[int]]\n",
    "        :type k: int\n",
    "        :rtype: int\n",
    "        \"\"\"\n",
    "        hq,m=[],len(matrix)\n",
    "        for j in range(m):\n",
    "            heappush(hq,(matrix[0][j],0,j))\n",
    "        for t in range(k-1):\n",
    "            val,i,j=heappop(hq)\n",
    "            next_row=i+1\n",
    "            if next_row<m:\n",
    "                heappush(hq,(matrix[next_row][j],next_row,j))\n",
    "        return hq[0][0]"
   ]
  },
  {
   "cell_type": "code",
   "execution_count": 65,
   "metadata": {
    "collapsed": false
   },
   "outputs": [],
   "source": [
    "class Solution(object):\n",
    "    def cnt_lower_equal_than_mid(self,matrix,n,mid):\n",
    "        i,j,cnt=n-1,0,0\n",
    "        while i>=0 and j<n:\n",
    "            if matrix[i][j]<=mid:\n",
    "                cnt+=i+1\n",
    "                j+=1\n",
    "            else:\n",
    "                i-=1\n",
    "        return cnt\n",
    "        return cnt\n",
    "    def kthSmallest(self,matrix,k):\n",
    "        n=len(matrix)\n",
    "        start,end=matrix[0][0],matrix[n-1][n-1]\n",
    "        while start<=end:\n",
    "            mid=(start+end)>>1\n",
    "            cnt=self.cnt_lower_equal_than_mid(matrix,n,mid)\n",
    "            if cnt<k:\n",
    "                start=mid+1\n",
    "            else:\n",
    "                end=mid-1\n",
    "        return start"
   ]
  },
  {
   "cell_type": "code",
   "execution_count": 66,
   "metadata": {
    "collapsed": false
   },
   "outputs": [],
   "source": [
    "s=Solution()"
   ]
  },
  {
   "cell_type": "code",
   "execution_count": 67,
   "metadata": {
    "collapsed": false
   },
   "outputs": [
    {
     "data": {
      "text/plain": [
       "13"
      ]
     },
     "execution_count": 67,
     "metadata": {},
     "output_type": "execute_result"
    }
   ],
   "source": [
    "matrix = [\n",
    "   [ 1,  5,  9],\n",
    "   [10, 11, 13],\n",
    "   [12, 13, 15]\n",
    "]\n",
    "k = 8\n",
    "s.kthSmallest(matrix,k)"
   ]
  },
  {
   "cell_type": "code",
   "execution_count": 68,
   "metadata": {
    "collapsed": false
   },
   "outputs": [
    {
     "data": {
      "text/plain": [
       "15"
      ]
     },
     "execution_count": 68,
     "metadata": {},
     "output_type": "execute_result"
    }
   ],
   "source": [
    "k=9\n",
    "s.kthSmallest(matrix,k)"
   ]
  },
  {
   "cell_type": "code",
   "execution_count": 69,
   "metadata": {
    "collapsed": false
   },
   "outputs": [
    {
     "data": {
      "text/plain": [
       "5"
      ]
     },
     "execution_count": 69,
     "metadata": {},
     "output_type": "execute_result"
    }
   ],
   "source": [
    "m=[[1,4,7,11,15],[2,5,8,12,19],[3,6,9,16,22],[10,13,14,17,24],[18,21,23,26,30]]\n",
    "k=5\n",
    "s.kthSmallest(m,k)"
   ]
  },
  {
   "cell_type": "code",
   "execution_count": 70,
   "metadata": {
    "collapsed": false
   },
   "outputs": [
    {
     "data": {
      "text/plain": [
       "22"
      ]
     },
     "execution_count": 70,
     "metadata": {},
     "output_type": "execute_result"
    }
   ],
   "source": [
    "m=[[4,9,9,11,12,15,17,22,23],\n",
    "   [8,10,11,14,14,17,20,23,26],\n",
    "   [9,13,16,21,23,26,30,35,36],\n",
    "   [9,14,18,21,26,29,32,35,39],\n",
    "   [12,18,19,23,27,33,34,37,39],\n",
    "   [15,20,24,26,32,34,36,39,42],\n",
    "   [16,24,28,28,33,37,37,43,44],\n",
    "   [18,28,28,29,35,42,44,49,52],\n",
    "   [23,32,34,34,39,46,51,51,56]]\n",
    "k=30\n",
    "s.kthSmallest(m,k)"
   ]
  },
  {
   "cell_type": "code",
   "execution_count": null,
   "metadata": {
    "collapsed": true
   },
   "outputs": [],
   "source": []
  }
 ],
 "metadata": {
  "kernelspec": {
   "display_name": "Python [py2]",
   "language": "python",
   "name": "Python [py2]"
  },
  "language_info": {
   "codemirror_mode": {
    "name": "ipython",
    "version": 2
   },
   "file_extension": ".py",
   "mimetype": "text/x-python",
   "name": "python",
   "nbconvert_exporter": "python",
   "pygments_lexer": "ipython2",
   "version": "2.7.12"
  }
 },
 "nbformat": 4,
 "nbformat_minor": 0
}
