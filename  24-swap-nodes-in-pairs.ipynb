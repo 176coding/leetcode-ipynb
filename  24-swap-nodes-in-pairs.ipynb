{
 "cells": [
  {
   "cell_type": "code",
   "execution_count": null,
   "metadata": {
    "collapsed": true
   },
   "outputs": [],
   "source": [
    "# encoding:utf-8\n",
    "import sys\n",
    "\n",
    "# Title: Swap Nodes in Pairs\n",
    "# Url: https://leetcode.com/problems/swap-nodes-in-pairs/\n",
    "# Difficulty: Easy\n",
    "\n",
    "# Problem Content:\n",
    "\"\"\"\n",
    "Given a linked list, swap every two adjacent nodes and return its head.\n",
    "For example,\n",
    "Given 1->2->3->4, you should return the list as 2->1->4->3.\n",
    "Your algorithm should use only constant space. You may not modify the values in the list, only nodes itself can be changed.\n",
    "Subscribe to see which companies asked this question\n",
    "Show Tags\n",
    "Linked List\n",
    "Show Similar Problems\n",
    " (H) Reverse Nodes in k-Group\n",
    "\"\"\""
   ]
  },
  {
   "cell_type": "code",
   "execution_count": 1,
   "metadata": {
    "collapsed": true
   },
   "outputs": [],
   "source": [
    "# Definition for singly-linked list.\n",
    "class ListNode(object):\n",
    "    def __init__(self, x):\n",
    "        self.val = x\n",
    "        self.next = None\n",
    "    def __repr__(self):\n",
    "        if not self:\n",
    "            return None\n",
    "        return '{}->{}'.format(self.val,repr(self.next))"
   ]
  },
  {
   "cell_type": "code",
   "execution_count": 16,
   "metadata": {
    "collapsed": true
   },
   "outputs": [],
   "source": [
    "class Solution(object):\n",
    "    def swapPairs(self, head):\n",
    "        \"\"\"\n",
    "        :type head: ListNode\n",
    "        :rtype: ListNode\n",
    "        \"\"\"\n",
    "        if not head or not head.next:\n",
    "            return head\n",
    "        slow,fast=head,head.next\n",
    "        while fast:\n",
    "            slow.val,fast.val=fast.val,slow.val\n",
    "            if not fast.next:\n",
    "                break\n",
    "            slow=slow.next.next\n",
    "            fast=fast.next.next\n",
    "        return head"
   ]
  },
  {
   "cell_type": "code",
   "execution_count": 24,
   "metadata": {
    "collapsed": true
   },
   "outputs": [],
   "source": [
    "class Solution(object):\n",
    "    def swapPairs(self,head):\n",
    "        dummy=ListNode(0)\n",
    "        dummy.next,cur=head,head\n",
    "        while cur and cur.next:\n",
    "            cur.val,cur.next.val=cur.next.val,cur.val\n",
    "            cur=cur.next.next\n",
    "        return dummy.next\n",
    "            "
   ]
  },
  {
   "cell_type": "code",
   "execution_count": 25,
   "metadata": {
    "collapsed": true
   },
   "outputs": [],
   "source": [
    "s=Solution()"
   ]
  },
  {
   "cell_type": "code",
   "execution_count": 26,
   "metadata": {
    "collapsed": false
   },
   "outputs": [
    {
     "data": {
      "text/plain": [
       "2->1->4->3->None"
      ]
     },
     "execution_count": 26,
     "metadata": {},
     "output_type": "execute_result"
    }
   ],
   "source": [
    "root=ListNode(1)\n",
    "root.next=ListNode(2)\n",
    "root.next.next=ListNode(3)\n",
    "root.next.next.next=ListNode(4)\n",
    "s.swapPairs(root)"
   ]
  },
  {
   "cell_type": "code",
   "execution_count": null,
   "metadata": {
    "collapsed": true
   },
   "outputs": [],
   "source": []
  }
 ],
 "metadata": {
  "kernelspec": {
   "display_name": "Python [py2]",
   "language": "python",
   "name": "Python [py2]"
  },
  "language_info": {
   "codemirror_mode": {
    "name": "ipython",
    "version": 2
   },
   "file_extension": ".py",
   "mimetype": "text/x-python",
   "name": "python",
   "nbconvert_exporter": "python",
   "pygments_lexer": "ipython2",
   "version": "2.7.12"
  }
 },
 "nbformat": 4,
 "nbformat_minor": 0
}
