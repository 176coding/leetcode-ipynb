{
 "cells": [
  {
   "cell_type": "code",
   "execution_count": null,
   "metadata": {
    "collapsed": true
   },
   "outputs": [],
   "source": [
    "# encoding:utf-8\n",
    "import sys\n",
    "\n",
    "# Title: Add Digits\n",
    "# Url: https://leetcode.com/problems/add-digits/\n",
    "# Difficulty: Easy\n",
    "\n",
    "# Problem Content:\n",
    "\"\"\"\n",
    "Given a non-negative integer num, repeatedly add all its digits until the result has only one digit. \n",
    "For example:\n",
    "Given num = 38, the process is like: 3 + 8 = 11, 1 + 1 = 2. Since 2 has only one digit, return it.\n",
    "Follow up:\n",
    "Could you do it without any loop/recursion in O(1) runtime?\n",
    "A naive implementation of the above process is trivial. Could you come up with other methods? \n",
    "What are all the possible results?\n",
    "How do they occur, periodically or randomly?\n",
    "You may find this Wikipedia article useful.\n",
    "Credits:Special thanks to @jianchao.li.fighter for adding this problem and creating all test cases.\n",
    "Subscribe to see which companies asked this question\n",
    "Show Tags\n",
    "Math\n",
    "Show Similar Problems\n",
    " (E) Happy Number\n",
    "\"\"\""
   ]
  },
  {
   "cell_type": "code",
   "execution_count": 1,
   "metadata": {
    "collapsed": true
   },
   "outputs": [],
   "source": [
    "class Solution(object):\n",
    "    def addDigits(self, num):\n",
    "        \"\"\"\n",
    "        :type num: int\n",
    "        :rtype: int\n",
    "        \"\"\"\n",
    "        if num<10:\n",
    "            return num\n",
    "        while num>=10:\n",
    "            s=0\n",
    "            while num:\n",
    "                s+=num%10\n",
    "                num/=10\n",
    "            num=s\n",
    "        return num"
   ]
  },
  {
   "cell_type": "code",
   "execution_count": 6,
   "metadata": {
    "collapsed": true
   },
   "outputs": [],
   "source": [
    "class Solution(object):\n",
    "    def addDigits(self,num):\n",
    "        if not num:\n",
    "            return 0\n",
    "        res=num%9\n",
    "        if res==0:\n",
    "            return 9\n",
    "        return res"
   ]
  },
  {
   "cell_type": "code",
   "execution_count": 7,
   "metadata": {
    "collapsed": true
   },
   "outputs": [],
   "source": [
    "s=Solution()"
   ]
  },
  {
   "cell_type": "code",
   "execution_count": 8,
   "metadata": {
    "collapsed": false
   },
   "outputs": [
    {
     "data": {
      "text/plain": [
       "1"
      ]
     },
     "execution_count": 8,
     "metadata": {},
     "output_type": "execute_result"
    }
   ],
   "source": [
    "s.addDigits(1)"
   ]
  },
  {
   "cell_type": "code",
   "execution_count": null,
   "metadata": {
    "collapsed": true
   },
   "outputs": [],
   "source": []
  }
 ],
 "metadata": {
  "kernelspec": {
   "display_name": "Python [py2]",
   "language": "python",
   "name": "Python [py2]"
  },
  "language_info": {
   "codemirror_mode": {
    "name": "ipython",
    "version": 2
   },
   "file_extension": ".py",
   "mimetype": "text/x-python",
   "name": "python",
   "nbconvert_exporter": "python",
   "pygments_lexer": "ipython2",
   "version": "2.7.12"
  }
 },
 "nbformat": 4,
 "nbformat_minor": 0
}
