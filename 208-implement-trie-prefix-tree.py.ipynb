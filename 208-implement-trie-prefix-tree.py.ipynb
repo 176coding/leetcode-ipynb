{
 "cells": [
  {
   "cell_type": "code",
   "execution_count": null,
   "metadata": {
    "collapsed": true
   },
   "outputs": [],
   "source": [
    "# encoding:utf-8\n",
    "import sys\n",
    "\n",
    "# Title: Implement Trie (Prefix Tree)\n",
    "# Url: https://leetcode.com/problems/implement-trie-prefix-tree/\n",
    "# Difficulty: Medium\n",
    "\n",
    "# Problem Content:\n",
    "\"\"\"\n",
    "Implement a trie with insert, search, and startsWith methods.\n",
    "Note:\n",
    "You may assume that all inputs are consist of lowercase letters a-z.\n",
    "Subscribe to see which companies asked this question\n",
    "Show Tags\n",
    "Design\n",
    "Trie\n",
    "Show Similar Problems\n",
    " (M) Add and Search Word - Data structure design\n",
    "\"\"\""
   ]
  },
  {
   "cell_type": "code",
   "execution_count": 7,
   "metadata": {
    "collapsed": true
   },
   "outputs": [],
   "source": [
    "class TrieNode(object):\n",
    "    def __init__(self):\n",
    "        \"\"\"\n",
    "        Initialize your data structure here.\n",
    "        \"\"\"\n",
    "        self.children={}\n",
    "        self.isWord=False                                                                                                       \n",
    "    def __repr__(self):\n",
    "        return str(self.children)\n",
    "        \n",
    "class Trie(object):\n",
    "    def __init__(self):\n",
    "        self.root = TrieNode()\n",
    "    def insert(self, word):\n",
    "        \"\"\"\n",
    "        Inserts a word into the trie.\n",
    "        :type word: str\n",
    "        :rtype: void\n",
    "        \"\"\"\n",
    "        node=self.root\n",
    "        for char in word:\n",
    "            child=node.children.get(char)\n",
    "            if not child:\n",
    "                child=TrieNode()\n",
    "                node.children[char]=child\n",
    "            node=child\n",
    "        node.isWord=True\n",
    "        \n",
    "    def search(self, word):\n",
    "        \"\"\"\n",
    "        Returns if the word is in the trie.\n",
    "        :type word: str\n",
    "        :rtype: bool\n",
    "        \"\"\"\n",
    "        node=self.root\n",
    "        for char in word:\n",
    "            node=node.children.get(char)\n",
    "            if not node:\n",
    "                return False\n",
    "        return node.isWord\n",
    "        \n",
    "    def startsWith(self, prefix):\n",
    "        \"\"\"\n",
    "        Returns if there is any word in the trie\n",
    "        that starts with the given prefix.\n",
    "        :type prefix: str\n",
    "        :rtype: bool\n",
    "        \"\"\"\n",
    "        node=self.root\n",
    "        for char in prefix:\n",
    "            node=node.children.get(char)\n",
    "            if not node:\n",
    "                return False\n",
    "        return True\n",
    "        "
   ]
  },
  {
   "cell_type": "code",
   "execution_count": 2,
   "metadata": {
    "collapsed": true
   },
   "outputs": [],
   "source": [
    "# Your Trie object will be instantiated and called as such:\n",
    "# trie = Trie()\n",
    "# trie.insert(\"somestring\")\n",
    "# trie.search(\"key\")"
   ]
  },
  {
   "cell_type": "code",
   "execution_count": 8,
   "metadata": {
    "collapsed": false
   },
   "outputs": [
    {
     "data": {
      "text/plain": [
       "False"
      ]
     },
     "execution_count": 8,
     "metadata": {},
     "output_type": "execute_result"
    }
   ],
   "source": [
    "trie=Trie()\n",
    "trie.insert(\"somestring\")\n",
    "trie.insert(\"something\")\n",
    "trie.search(\"some\")"
   ]
  },
  {
   "cell_type": "code",
   "execution_count": 10,
   "metadata": {
    "collapsed": false
   },
   "outputs": [
    {
     "data": {
      "text/plain": [
       "True"
      ]
     },
     "execution_count": 10,
     "metadata": {},
     "output_type": "execute_result"
    }
   ],
   "source": [
    "trie.startsWith(\"some\")"
   ]
  },
  {
   "cell_type": "code",
   "execution_count": 12,
   "metadata": {
    "collapsed": false
   },
   "outputs": [
    {
     "data": {
      "text/plain": [
       "{'s': {'o': {'m': {'e': {'s': {'t': {'r': {'i': {'n': {'g': {}}}}}}, 't': {'h': {'i': {'n': {'g': {}}}}}}}}}}"
      ]
     },
     "execution_count": 12,
     "metadata": {},
     "output_type": "execute_result"
    }
   ],
   "source": [
    "trie.root"
   ]
  }
 ],
 "metadata": {
  "kernelspec": {
   "display_name": "Python [py2]",
   "language": "python",
   "name": "Python [py2]"
  },
  "language_info": {
   "codemirror_mode": {
    "name": "ipython",
    "version": 2
   },
   "file_extension": ".py",
   "mimetype": "text/x-python",
   "name": "python",
   "nbconvert_exporter": "python",
   "pygments_lexer": "ipython2",
   "version": "2.7.12"
  }
 },
 "nbformat": 4,
 "nbformat_minor": 0
}
