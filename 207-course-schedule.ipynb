{
 "cells": [
  {
   "cell_type": "code",
   "execution_count": null,
   "metadata": {
    "collapsed": true
   },
   "outputs": [],
   "source": [
    "# encoding:utf-8\n",
    "import sys\n",
    "\n",
    "# Title: Course Schedule\n",
    "# Url: https://leetcode.com/problems/course-schedule/\n",
    "# Difficulty: Medium\n",
    "\n",
    "# Problem Content:\n",
    "\"\"\"\n",
    "There are a total of n courses you have to take, labeled from 0 to n - 1.\n",
    "Some courses may have prerequisites, for example to take course 0 you have to first take course 1, which is expressed as a pair: [0,1]\n",
    "Given the total number of courses and a list of prerequisite pairs, is it possible for you to finish all courses?\n",
    "For example:\n",
    "2, [[1,0]]\n",
    "There are a total of 2 courses to take. To take course 1 you should have finished course 0. So it is possible.\n",
    "2, [[1,0],[0,1]]\n",
    "There are a total of 2 courses to take. To take course 1 you should have finished course 0, and to take course 0 you should also have finished course 1. So it is impossible.\n",
    "Note:\n",
    "The input prerequisites is a graph represented by a list of edges, not adjacency matrices. Read more about how a graph is represented.\n",
    "click to show more hints.\n",
    "Hints:\n",
    "This problem is equivalent to finding if a cycle exists in a directed graph. If a cycle exists, no topological ordering exists and therefore it will be impossible to take all courses.\n",
    "Topological Sort via DFS - A great video tutorial (21 minutes) on Coursera explaining the basic concepts of Topological Sort.\n",
    "Topological sort could also be done via BFS.\n",
    "Subscribe to see which companies asked this question\n",
    "Show Tags\n",
    "Depth-first Search\n",
    "Breadth-first Search\n",
    "Graph\n",
    "Topological Sort\n",
    "Show Similar Problems\n",
    " (M) Course Schedule II\n",
    " (M) Graph Valid Tree\n",
    " (M) Minimum Height Trees\n",
    "\"\"\""
   ]
  },
  {
   "cell_type": "code",
   "execution_count": 5,
   "metadata": {
    "collapsed": false
   },
   "outputs": [],
   "source": [
    "class Solution(object):\n",
    "    def canFinish(self, numCourses, prerequisites):\n",
    "        \"\"\"\n",
    "        :type numCourses: int\n",
    "        :type prerequisites: List[List[int]]\n",
    "        :rtype: bool\n",
    "        \"\"\"\n",
    "        graph=[[] for i in range(numCourses)]\n",
    "        visited=[0]*numCourses\n",
    "        for x,y in prerequisites:\n",
    "            graph[x].append(y)\n",
    "        def dfs(i):\n",
    "            if visited[i]==-1:\n",
    "                return False\n",
    "            if visited[i]==1:\n",
    "                return True\n",
    "            visited[i]=-1\n",
    "            for j in graph[i]:\n",
    "                if not dfs(j):\n",
    "                    return False\n",
    "            visited[i]=1\n",
    "            return True\n",
    "        for i in range(numCourses):\n",
    "            if not dfs(i):\n",
    "                return False\n",
    "        return True"
   ]
  },
  {
   "cell_type": "code",
   "execution_count": 7,
   "metadata": {
    "collapsed": false
   },
   "outputs": [],
   "source": [
    "from collections import deque\n",
    "class Solution(object):\n",
    "    def canFinish(self,numCourses,prerequisites):\n",
    "        ind=[[] for i in range(numCourses)]\n",
    "        outd=[0]*numCourses\n",
    "        for x,y in prerequisites:\n",
    "            outd[x]+=1\n",
    "            ind[y].append(x)\n",
    "        dq=deque()\n",
    "        for i in range(numCourses):\n",
    "            if outd[i]==0:\n",
    "                dq.append(i)\n",
    "        k=0\n",
    "        while dq:\n",
    "            x=dq.popleft()\n",
    "            k+=1\n",
    "            for i in ind[x]:\n",
    "                outd[i]-=1\n",
    "                if outd[i]==0:\n",
    "                    dq.append(i)\n",
    "        return k==n"
   ]
  },
  {
   "cell_type": "code",
   "execution_count": null,
   "metadata": {
    "collapsed": true
   },
   "outputs": [],
   "source": []
  }
 ],
 "metadata": {
  "kernelspec": {
   "display_name": "Python [py2]",
   "language": "python",
   "name": "Python [py2]"
  },
  "language_info": {
   "codemirror_mode": {
    "name": "ipython",
    "version": 2
   },
   "file_extension": ".py",
   "mimetype": "text/x-python",
   "name": "python",
   "nbconvert_exporter": "python",
   "pygments_lexer": "ipython2",
   "version": "2.7.12"
  }
 },
 "nbformat": 4,
 "nbformat_minor": 0
}
