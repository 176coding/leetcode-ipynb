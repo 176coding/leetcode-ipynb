{
 "cells": [
  {
   "cell_type": "code",
   "execution_count": null,
   "metadata": {
    "collapsed": true
   },
   "outputs": [],
   "source": [
    "# encoding:utf-8\n",
    "import sys\n",
    "\n",
    "# Title: Kth Smallest Element in a BST\n",
    "# Url: https://leetcode.com/problems/kth-smallest-element-in-a-bst/\n",
    "# Difficulty: Medium\n",
    "\n",
    "# Problem Content:\n",
    "\"\"\"\n",
    "Given a binary search tree, write a function kthSmallest to find the kth smallest element in it.\n",
    "Note: \n",
    "You may assume k is always valid, 1 ≤ k ≤ BST's total elements.\n",
    "Follow up:\n",
    "What if the BST is modified (insert/delete operations) often and you need to find the kth smallest frequently? How would you optimize the kthSmallest routine?\n",
    "Try to utilize the property of a BST.\n",
    "What if you could modify the BST node's structure?\n",
    "The optimal runtime complexity is O(height of BST).\n",
    "Credits:Special thanks to @ts for adding this problem and creating all test cases.\n",
    "Subscribe to see which companies asked this question\n",
    "Show Tags\n",
    "Binary Search\n",
    "Tree\n",
    "Show Similar Problems\n",
    " (M) Binary Tree Inorder Traversal\n",
    "\"\"\""
   ]
  },
  {
   "cell_type": "code",
   "execution_count": 1,
   "metadata": {
    "collapsed": true
   },
   "outputs": [],
   "source": [
    "# Definition for a binary tree node.\n",
    "class TreeNode(object):\n",
    "    def __init__(self, x):\n",
    "        self.val = x\n",
    "        self.left = None\n",
    "        self.right = None"
   ]
  },
  {
   "cell_type": "code",
   "execution_count": 6,
   "metadata": {
    "collapsed": true
   },
   "outputs": [],
   "source": [
    "class Solution(object):\n",
    "    def inOrder(self,root,res):\n",
    "        if root:\n",
    "            self.inOrder(root.left,res)\n",
    "            res.append(root.val)\n",
    "            self.inOrder(root.right,res)\n",
    "    def kthSmallest(self, root, k):\n",
    "        \"\"\"\n",
    "        :type root: TreeNode\n",
    "        :type k: int\n",
    "        :rtype: int\n",
    "        \"\"\"\n",
    "        res=[]\n",
    "        self.inOrder(root,res)\n",
    "        return res[k-1]"
   ]
  },
  {
   "cell_type": "code",
   "execution_count": 24,
   "metadata": {
    "collapsed": true
   },
   "outputs": [],
   "source": [
    "class Solution(object):\n",
    "    def inOrder(self,root,k,res):\n",
    "        if root:\n",
    "            self.inOrder(root.left,k,res)\n",
    "            if len(res)==k:\n",
    "                return\n",
    "            res.append(root.val)\n",
    "            self.inOrder(root.right,k,res)\n",
    "    def kthSmallest(self,root,k):\n",
    "        res=[]\n",
    "        self.inOrder(root,k,res)\n",
    "        return res[-1]"
   ]
  },
  {
   "cell_type": "code",
   "execution_count": 34,
   "metadata": {
    "collapsed": true
   },
   "outputs": [],
   "source": [
    "class Solution(object):\n",
    "    def kthSmallest(self,root,k):\n",
    "        stack,cur,rank=[],root,0\n",
    "        while stack or cur:\n",
    "            if cur:\n",
    "                stack.append(cur)\n",
    "                cur=cur.left\n",
    "            else:\n",
    "                t=stack.pop()\n",
    "                k-=1\n",
    "                if not k:\n",
    "                    return t.val\n",
    "                cur=t.right"
   ]
  },
  {
   "cell_type": "code",
   "execution_count": 35,
   "metadata": {
    "collapsed": true
   },
   "outputs": [],
   "source": [
    "s=Solution()"
   ]
  },
  {
   "cell_type": "code",
   "execution_count": 36,
   "metadata": {
    "collapsed": false
   },
   "outputs": [
    {
     "data": {
      "text/plain": [
       "3"
      ]
     },
     "execution_count": 36,
     "metadata": {},
     "output_type": "execute_result"
    }
   ],
   "source": [
    "root=TreeNode(6)\n",
    "root.left=TreeNode(2)\n",
    "root.right=TreeNode(8)\n",
    "root.left.left=TreeNode(0)\n",
    "root.left.right=TreeNode(4)\n",
    "root.left.right.left=TreeNode(3)\n",
    "s.kthSmallest(root,3)"
   ]
  },
  {
   "cell_type": "code",
   "execution_count": 37,
   "metadata": {
    "collapsed": false
   },
   "outputs": [
    {
     "data": {
      "text/plain": [
       "1"
      ]
     },
     "execution_count": 37,
     "metadata": {},
     "output_type": "execute_result"
    }
   ],
   "source": [
    "root=TreeNode(2)\n",
    "root.left=TreeNode(1)\n",
    "s.kthSmallest(root,1)"
   ]
  },
  {
   "cell_type": "code",
   "execution_count": null,
   "metadata": {
    "collapsed": true
   },
   "outputs": [],
   "source": []
  }
 ],
 "metadata": {
  "kernelspec": {
   "display_name": "Python [py2]",
   "language": "python",
   "name": "Python [py2]"
  },
  "language_info": {
   "codemirror_mode": {
    "name": "ipython",
    "version": 2
   },
   "file_extension": ".py",
   "mimetype": "text/x-python",
   "name": "python",
   "nbconvert_exporter": "python",
   "pygments_lexer": "ipython2",
   "version": "2.7.12"
  }
 },
 "nbformat": 4,
 "nbformat_minor": 0
}
