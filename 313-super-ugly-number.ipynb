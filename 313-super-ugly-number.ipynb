{
 "cells": [
  {
   "cell_type": "code",
   "execution_count": null,
   "metadata": {
    "collapsed": true
   },
   "outputs": [],
   "source": [
    "# encoding:utf-8\n",
    "import sys\n",
    "\n",
    "# Title: Super Ugly Number\n",
    "# Url: https://leetcode.com/problems/super-ugly-number/\n",
    "# Difficulty: Medium\n",
    "\n",
    "# Problem Content:\n",
    "\"\"\"\n",
    "Write a program to find the nth super ugly number.\n",
    "    Super ugly numbers are positive numbers whose all prime factors are in the given prime list\n",
    "    primes of size k. For example, [1, 2, 4, 7, 8, 13, 14, 16, 19, 26, 28, 32]\n",
    " is the sequence of the first 12 super ugly numbers given primes\n",
    "    = [2, 7, 13, 19] of size 4.\n",
    "Note:\n",
    "    (1) 1 is a super ugly number for any given primes.\n",
    "    (2) The given numbers in primes are in ascending order.\n",
    "    (3) 0 < k ≤ 100, 0 < n ≤ 106, 0 < primes[i] < 1000.\n",
    "Credits:Special thanks to @dietpepsi for adding this problem and creating all test cases.\n",
    "Subscribe to see which companies asked this question\n",
    "Show Tags\n",
    "Math\n",
    "Heap\n",
    "Show Similar Problems\n",
    " (M) Ugly Number II\n",
    "\"\"\""
   ]
  },
  {
   "cell_type": "code",
   "execution_count": null,
   "metadata": {
    "collapsed": false
   },
   "outputs": [],
   "source": []
  },
  {
   "cell_type": "code",
   "execution_count": 33,
   "metadata": {
    "collapsed": true
   },
   "outputs": [],
   "source": [
    "class Solution(object):\n",
    "    def nthSuperUglyNumber(self,n,primes):\n",
    "        res=[1]*n\n",
    "        idxs=[0]*len(primes)\n",
    "        for i in range(1,n):\n",
    "            vals=[res[idxs[idx]]*val for idx,val in enumerate(primes)]\n",
    "            min_val=min(vals)\n",
    "            res[i]=min_val\n",
    "            for idx,val in enumerate(vals):\n",
    "                if min_val==val:\n",
    "                    idxs[idx]+=1\n",
    "        return res[-1]\n",
    "            "
   ]
  },
  {
   "cell_type": "code",
   "execution_count": 34,
   "metadata": {
    "collapsed": true
   },
   "outputs": [],
   "source": [
    "s=Solution()"
   ]
  },
  {
   "cell_type": "code",
   "execution_count": 35,
   "metadata": {
    "collapsed": false
   },
   "outputs": [
    {
     "data": {
      "text/plain": [
       "32"
      ]
     },
     "execution_count": 35,
     "metadata": {},
     "output_type": "execute_result"
    }
   ],
   "source": [
    "s.nthSuperUglyNumber(12, [2, 7, 13, 19])"
   ]
  },
  {
   "cell_type": "code",
   "execution_count": null,
   "metadata": {
    "collapsed": true
   },
   "outputs": [],
   "source": []
  }
 ],
 "metadata": {
  "anaconda-cloud": {},
  "kernelspec": {
   "display_name": "Python [py2]",
   "language": "python",
   "name": "Python [py2]"
  },
  "language_info": {
   "codemirror_mode": {
    "name": "ipython",
    "version": 2
   },
   "file_extension": ".py",
   "mimetype": "text/x-python",
   "name": "python",
   "nbconvert_exporter": "python",
   "pygments_lexer": "ipython2",
   "version": "2.7.12"
  }
 },
 "nbformat": 4,
 "nbformat_minor": 0
}
