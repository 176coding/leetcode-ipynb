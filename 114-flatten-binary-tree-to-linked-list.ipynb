{
 "cells": [
  {
   "cell_type": "code",
   "execution_count": null,
   "metadata": {
    "collapsed": true
   },
   "outputs": [],
   "source": [
    "# encoding:utf-8\n",
    "import sys\n",
    "\n",
    "# Title: Flatten Binary Tree to Linked List\n",
    "# Url: https://leetcode.com/problems/flatten-binary-tree-to-linked-list/\n",
    "# Difficulty: Medium\n",
    "\n",
    "# Problem Content:\n",
    "\"\"\"\n",
    "Given a binary tree, flatten it to a linked list in-place.\n",
    "For example,\n",
    "Given\n",
    "         1\n",
    "        / \\\n",
    "       2   5\n",
    "      / \\   \\\n",
    "     3   4   6\n",
    "The flattened tree should look like:\n",
    "   1\n",
    "    \\\n",
    "     2\n",
    "      \\\n",
    "       3\n",
    "        \\\n",
    "         4\n",
    "          \\\n",
    "           5\n",
    "            \\\n",
    "             6\n",
    "click to show hints.\n",
    "Hints:\n",
    "If you notice carefully in the flattened tree, each node's right child points to the next node of a pre-order traversal.\n",
    "Subscribe to see which companies asked this question\n",
    "Show Tags\n",
    "Tree\n",
    "Depth-first Search\n",
    "\"\"\""
   ]
  },
  {
   "cell_type": "code",
   "execution_count": 1,
   "metadata": {
    "collapsed": true
   },
   "outputs": [],
   "source": [
    "# Definition for a binary tree node.\n",
    "class TreeNode(object):\n",
    "    def __init__(self, x):\n",
    "        self.val = x\n",
    "        self.left = None\n",
    "        self.right = None"
   ]
  },
  {
   "cell_type": "code",
   "execution_count": 8,
   "metadata": {
    "collapsed": true
   },
   "outputs": [],
   "source": [
    "class Solution(object):\n",
    "    def flatten(self, root):\n",
    "        \"\"\"\n",
    "        :type root: TreeNode\n",
    "        :rtype: void Do not return anything, modify root in-place instead.\n",
    "        \"\"\"\n",
    "        data=[]\n",
    "        def preOrder(root):\n",
    "            if root:\n",
    "                data.append(root)\n",
    "                preOrder(root.left)\n",
    "                preOrder(root.right)\n",
    "        preOrder(root)\n",
    "        dummy=TreeNode(-1)\n",
    "        pre=dummy\n",
    "        for node in data:\n",
    "            node.left=None\n",
    "            pre.right,pre=node,node\n",
    "        root=dummy.right\n",
    "        "
   ]
  },
  {
   "cell_type": "code",
   "execution_count": 14,
   "metadata": {
    "collapsed": true
   },
   "outputs": [],
   "source": [
    "class Solution(object):\n",
    "    def flatten(self,root):\n",
    "        if not root:\n",
    "            return\n",
    "        self.flatten(root.left)\n",
    "        self.flatten(root.right)\n",
    "        tmp=root.right\n",
    "        root.right=root.left\n",
    "        root.left=None\n",
    "        while root.right:\n",
    "            root=root.right\n",
    "        root.right=tmp"
   ]
  },
  {
   "cell_type": "code",
   "execution_count": 15,
   "metadata": {
    "collapsed": true
   },
   "outputs": [],
   "source": [
    "s=Solution()"
   ]
  },
  {
   "cell_type": "code",
   "execution_count": 16,
   "metadata": {
    "collapsed": false
   },
   "outputs": [
    {
     "data": {
      "text/plain": [
       "(1, None, 2, None, 3)"
      ]
     },
     "execution_count": 16,
     "metadata": {},
     "output_type": "execute_result"
    }
   ],
   "source": [
    "root=TreeNode(1)\n",
    "root.left=TreeNode(2)\n",
    "root.right=TreeNode(3)\n",
    "s.flatten(root)\n",
    "root.val,root.left,root.right.val,root.right.left,root.right.right.val"
   ]
  },
  {
   "cell_type": "code",
   "execution_count": null,
   "metadata": {
    "collapsed": true
   },
   "outputs": [],
   "source": []
  }
 ],
 "metadata": {
  "kernelspec": {
   "display_name": "Python [py2]",
   "language": "python",
   "name": "Python [py2]"
  },
  "language_info": {
   "codemirror_mode": {
    "name": "ipython",
    "version": 2
   },
   "file_extension": ".py",
   "mimetype": "text/x-python",
   "name": "python",
   "nbconvert_exporter": "python",
   "pygments_lexer": "ipython2",
   "version": "2.7.12"
  }
 },
 "nbformat": 4,
 "nbformat_minor": 0
}
