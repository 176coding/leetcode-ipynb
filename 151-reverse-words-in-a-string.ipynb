{
 "cells": [
  {
   "cell_type": "code",
   "execution_count": null,
   "metadata": {
    "collapsed": true
   },
   "outputs": [],
   "source": [
    "# encoding:utf-8\n",
    "import sys\n",
    "\n",
    "# Title: Reverse Words in a String\n",
    "# Url: https://leetcode.com/problems/reverse-words-in-a-string/\n",
    "# Difficulty: Medium\n",
    "\n",
    "# Problem Content:\n",
    "\"\"\"\n",
    "Given an input string, reverse the string word by word.\n",
    "For example,\n",
    "Given s = \"the sky is blue\",\n",
    "return \"blue is sky the\".\n",
    "Update (2015-02-12):\n",
    "For C programmers: Try to solve it in-place in O(1) space.\n",
    "click to show clarification.\n",
    "Clarification:\n",
    "What constitutes a word?\n",
    "A sequence of non-space characters constitutes a word.\n",
    "Could the input string contain leading or trailing spaces?\n",
    "Yes. However, your reversed string should not contain leading or trailing spaces.\n",
    "How about multiple spaces between two words?\n",
    "Reduce them to a single space in the reversed string.\n",
    "Subscribe to see which companies asked this question\n",
    "Show Tags\n",
    "String\n",
    "Show Similar Problems\n",
    " (M) Reverse Words in a String II\n",
    "\"\"\""
   ]
  },
  {
   "cell_type": "code",
   "execution_count": 21,
   "metadata": {
    "collapsed": true
   },
   "outputs": [],
   "source": [
    "class Solution(object):\n",
    "    def reverseWords(self, s):\n",
    "        \"\"\"\n",
    "        :type s: str\n",
    "        :rtype: str\n",
    "        \"\"\"\n",
    "        if not s:\n",
    "            return s\n",
    "        s=s[::-1]\n",
    "        res=[]\n",
    "        for a in s.split(' '):\n",
    "            if not a:\n",
    "                continue\n",
    "            res.append(a[::-1])\n",
    "        return ' '.join(res) if res else ''"
   ]
  },
  {
   "cell_type": "code",
   "execution_count": 35,
   "metadata": {
    "collapsed": false
   },
   "outputs": [],
   "source": [
    "class Solution(object):\n",
    "    def reverseWords(self,s):\n",
    "        return ' '.join(reversed([a for a in s.split(' ') if a]))"
   ]
  },
  {
   "cell_type": "code",
   "execution_count": 36,
   "metadata": {
    "collapsed": true
   },
   "outputs": [],
   "source": [
    "s=Solution()"
   ]
  },
  {
   "cell_type": "code",
   "execution_count": 37,
   "metadata": {
    "collapsed": false
   },
   "outputs": [
    {
     "data": {
      "text/plain": [
       "'blue is sky the'"
      ]
     },
     "execution_count": 37,
     "metadata": {},
     "output_type": "execute_result"
    }
   ],
   "source": [
    "s.reverseWords('the sky is blue')"
   ]
  },
  {
   "cell_type": "code",
   "execution_count": 38,
   "metadata": {
    "collapsed": false
   },
   "outputs": [
    {
     "data": {
      "text/plain": [
       "''"
      ]
     },
     "execution_count": 38,
     "metadata": {},
     "output_type": "execute_result"
    }
   ],
   "source": [
    "s.reverseWords(' ')"
   ]
  },
  {
   "cell_type": "code",
   "execution_count": null,
   "metadata": {
    "collapsed": false
   },
   "outputs": [],
   "source": []
  },
  {
   "cell_type": "code",
   "execution_count": null,
   "metadata": {
    "collapsed": true
   },
   "outputs": [],
   "source": []
  }
 ],
 "metadata": {
  "kernelspec": {
   "display_name": "Python [py2]",
   "language": "python",
   "name": "Python [py2]"
  },
  "language_info": {
   "codemirror_mode": {
    "name": "ipython",
    "version": 2
   },
   "file_extension": ".py",
   "mimetype": "text/x-python",
   "name": "python",
   "nbconvert_exporter": "python",
   "pygments_lexer": "ipython2",
   "version": "2.7.12"
  }
 },
 "nbformat": 4,
 "nbformat_minor": 0
}
