{
 "cells": [
  {
   "cell_type": "code",
   "execution_count": null,
   "metadata": {
    "collapsed": true
   },
   "outputs": [],
   "source": [
    "# encoding:utf-8\n",
    "import sys\n",
    "\n",
    "# Title: Simplify Path\n",
    "# Url: https://leetcode.com/problems/simplify-path/\n",
    "# Difficulty: Medium\n",
    "\n",
    "# Problem Content:\n",
    "\"\"\"\n",
    "Given an absolute path for a file (Unix-style), simplify it.\n",
    "For example,\n",
    "path = \"/home/\", => \"/home\"\n",
    "path = \"/a/./b/../../c/\", => \"/c\"\n",
    "click to show corner cases.\n",
    "Corner Cases:\n",
    "Did you consider the case where path = \"/../\"?\n",
    "In this case, you should return \"/\".\n",
    "Another corner case is the path might contain multiple slashes '/' together, such as \"/home//foo/\".\n",
    "In this case, you should ignore redundant slashes and return \"/home/foo\".\n",
    "Subscribe to see which companies asked this question\n",
    "Show Tags\n",
    "Stack\n",
    "String\n",
    "\"\"\""
   ]
  },
  {
   "cell_type": "code",
   "execution_count": 8,
   "metadata": {
    "collapsed": true
   },
   "outputs": [],
   "source": [
    "class Solution(object):\n",
    "    def simplifyPath(self, path):\n",
    "        \"\"\"\n",
    "        :type path: str\n",
    "        :rtype: str\n",
    "        \"\"\"\n",
    "        stack=[]\n",
    "        folders=path.split('/')\n",
    "        for f in folders:\n",
    "            if f not in ['.','..','']:\n",
    "                stack.append(f)\n",
    "            if stack and f=='..':\n",
    "                stack.pop()\n",
    "        return '/'+'/'.join(stack)"
   ]
  },
  {
   "cell_type": "code",
   "execution_count": 9,
   "metadata": {
    "collapsed": true
   },
   "outputs": [],
   "source": [
    "s=Solution()"
   ]
  },
  {
   "cell_type": "code",
   "execution_count": 10,
   "metadata": {
    "collapsed": false
   },
   "outputs": [
    {
     "data": {
      "text/plain": [
       "'/home'"
      ]
     },
     "execution_count": 10,
     "metadata": {},
     "output_type": "execute_result"
    }
   ],
   "source": [
    "s.simplifyPath('/home/')"
   ]
  },
  {
   "cell_type": "code",
   "execution_count": 11,
   "metadata": {
    "collapsed": false
   },
   "outputs": [
    {
     "data": {
      "text/plain": [
       "'/c'"
      ]
     },
     "execution_count": 11,
     "metadata": {},
     "output_type": "execute_result"
    }
   ],
   "source": [
    "s.simplifyPath('/a/./b/../../c/')"
   ]
  },
  {
   "cell_type": "code",
   "execution_count": 12,
   "metadata": {
    "collapsed": false
   },
   "outputs": [
    {
     "data": {
      "text/plain": [
       "'/'"
      ]
     },
     "execution_count": 12,
     "metadata": {},
     "output_type": "execute_result"
    }
   ],
   "source": [
    "s.simplifyPath('/../')"
   ]
  },
  {
   "cell_type": "code",
   "execution_count": 13,
   "metadata": {
    "collapsed": false
   },
   "outputs": [
    {
     "data": {
      "text/plain": [
       "'/home/foo'"
      ]
     },
     "execution_count": 13,
     "metadata": {},
     "output_type": "execute_result"
    }
   ],
   "source": [
    "s.simplifyPath('/home//foo')"
   ]
  },
  {
   "cell_type": "code",
   "execution_count": null,
   "metadata": {
    "collapsed": true
   },
   "outputs": [],
   "source": []
  }
 ],
 "metadata": {
  "kernelspec": {
   "display_name": "Python [py2]",
   "language": "python",
   "name": "Python [py2]"
  },
  "language_info": {
   "codemirror_mode": {
    "name": "ipython",
    "version": 2
   },
   "file_extension": ".py",
   "mimetype": "text/x-python",
   "name": "python",
   "nbconvert_exporter": "python",
   "pygments_lexer": "ipython2",
   "version": "2.7.12"
  }
 },
 "nbformat": 4,
 "nbformat_minor": 0
}
