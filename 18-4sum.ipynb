{
 "cells": [
  {
   "cell_type": "code",
   "execution_count": null,
   "metadata": {
    "collapsed": true
   },
   "outputs": [],
   "source": [
    "# Title: 4Sum\n",
    "# Url: https://leetcode.com/problems/4sum/\n",
    "# Difficulty: Medium\n",
    "\n",
    "# Problem Content:\n",
    "\"\"\"\n",
    "Given an array S of n integers, are there elements a, b, c, and d in S such that a + b + c + d = target? Find all unique quadruplets in the array which gives the sum of target.\n",
    "Note: The solution set must not contain duplicate quadruplets.\n",
    "For example, given array S = [1, 0, -1, 0, -2, 2], and target = 0.\n",
    "A solution set is:\n",
    "[\n",
    "  [-1,  0, 0, 1],\n",
    "  [-2, -1, 1, 2],\n",
    "  [-2,  0, 0, 2]\n",
    "]\n",
    "Subscribe to see which companies asked this question\n",
    "Show Tags\n",
    "Array\n",
    "Hash Table\n",
    "Two Pointers\n",
    "Show Similar Problems\n",
    " (E) Two Sum\n",
    " (M) 3Sum\n",
    "\"\"\""
   ]
  },
  {
   "cell_type": "code",
   "execution_count": 5,
   "metadata": {
    "collapsed": true
   },
   "outputs": [],
   "source": [
    "class Solution(object):\n",
    "    def fourSum(self, nums, target):\n",
    "        \"\"\"\n",
    "        :type nums: List[int]\n",
    "        :type target: int\n",
    "        :rtype: List[List[int]]\n",
    "        \"\"\"\n",
    "        res,nums,ln=[],sorted(nums),len(nums)\n",
    "        for i in range(ln-3):\n",
    "            if i!=0 and nums[i]==nums[i-1]:\n",
    "                continue\n",
    "            for j in range(i+1,ln-2):\n",
    "                if j!=i+1 and nums[j]==nums[j-1]:\n",
    "                    continue\n",
    "                m,n=j+1,ln-1\n",
    "                while m<n:\n",
    "                    s=nums[i]+nums[j]+nums[m]+nums[n]\n",
    "                    if s<target:\n",
    "                        m+=1\n",
    "                    elif s>target:\n",
    "                        n-=1\n",
    "                    else:\n",
    "                        res.append([nums[i],nums[j],nums[m],nums[n]])\n",
    "                        m,n=m+1,n-1\n",
    "                        while m<n and nums[m]==nums[m-1]:\n",
    "                            m+=1\n",
    "                        while m<n and nums[n]==nums[n+1]:\n",
    "                            n-=1\n",
    "        return res"
   ]
  },
  {
   "cell_type": "code",
   "execution_count": 6,
   "metadata": {
    "collapsed": false
   },
   "outputs": [
    {
     "data": {
      "text/plain": [
       "[[-2, -1, 1, 2], [-2, 0, 0, 2], [-1, 0, 0, 1]]"
      ]
     },
     "execution_count": 6,
     "metadata": {},
     "output_type": "execute_result"
    }
   ],
   "source": [
    "s=Solution()\n",
    "s.fourSum([1, 0, -1, 0, -2, 2],0)"
   ]
  },
  {
   "cell_type": "code",
   "execution_count": 7,
   "metadata": {
    "collapsed": false
   },
   "outputs": [
    {
     "data": {
      "text/plain": [
       "[[0, 0, 0, 0]]"
      ]
     },
     "execution_count": 7,
     "metadata": {},
     "output_type": "execute_result"
    }
   ],
   "source": [
    "s.fourSum([0,0,0,0],0)"
   ]
  },
  {
   "cell_type": "code",
   "execution_count": null,
   "metadata": {
    "collapsed": true
   },
   "outputs": [],
   "source": []
  }
 ],
 "metadata": {
  "anaconda-cloud": {},
  "kernelspec": {
   "display_name": "Python [py27]",
   "language": "python",
   "name": "Python [py27]"
  },
  "language_info": {
   "codemirror_mode": {
    "name": "ipython",
    "version": 2
   },
   "file_extension": ".py",
   "mimetype": "text/x-python",
   "name": "python",
   "nbconvert_exporter": "python",
   "pygments_lexer": "ipython2",
   "version": "2.7.12"
  }
 },
 "nbformat": 4,
 "nbformat_minor": 0
}
