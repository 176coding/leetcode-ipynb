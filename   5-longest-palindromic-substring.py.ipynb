{
 "cells": [
  {
   "cell_type": "code",
   "execution_count": null,
   "metadata": {
    "collapsed": true
   },
   "outputs": [],
   "source": [
    "# encoding:utf-8\n",
    "import sys\n",
    "\n",
    "# Title: Longest Palindromic Substring\n",
    "# Url: https://leetcode.com/problems/longest-palindromic-substring/\n",
    "# Difficulty: Medium\n",
    "\n",
    "# Problem Content:\n",
    "\"\"\"\n",
    "Given a string S, find the longest palindromic substring in S. You may assume that the maximum length of S is 1000, and there exists one unique longest palindromic substring.\n",
    "Subscribe to see which companies asked this question\n",
    "Show Tags\n",
    "String\n",
    "Show Similar Problems\n",
    " (H) Shortest Palindrome\n",
    " (E) Palindrome Permutation\n",
    " (H) Palindrome Pairs\n",
    "\"\"\""
   ]
  },
  {
   "cell_type": "code",
   "execution_count": 86,
   "metadata": {
    "collapsed": true
   },
   "outputs": [],
   "source": [
    "class Solution(object):\n",
    "    def expendAroundCenter(self,s,left,right):\n",
    "        while left>=0 and right<len(s) and s[left]==s[right]:\n",
    "            left,right=left-1,right+1\n",
    "        return right-left-1\n",
    "    \n",
    "    def longestPalindrome(self,s):\n",
    "        if len(s)<=1:\n",
    "            return s\n",
    "        start,end,n,res=0,0,len(s),''\n",
    "        for i in range(n):\n",
    "            odd_len=self.expendAroundCenter(s,i,i)\n",
    "            evn_len=self.expendAroundCenter(s,i,i+1)\n",
    "            ln=max(odd_len,evn_len)\n",
    "            if ln>end-start:\n",
    "                start=i-(ln-1)/2\n",
    "                end=i+ln/2\n",
    "        return s[start:end+1]\n",
    "            "
   ]
  },
  {
   "cell_type": "code",
   "execution_count": 145,
   "metadata": {
    "collapsed": true
   },
   "outputs": [],
   "source": [
    "class Solution(object):\n",
    "    def longestPalindrome(self,s):\n",
    "        if len(s)<=1:\n",
    "            return s\n",
    "        n,ml,start=len(s),0,0\n",
    "        dp=[[False]*n for i in range(n)]\n",
    "        dp[0][0]=True\n",
    "        for i in range(1,n):#每个字符自己或者空串都是回文\n",
    "            dp[i][i],dp[i][i-1]=True,True\n",
    "        for k in range(2,n+1):#遍历子串长度\n",
    "            for i in range(n+1-k):#遍历起始位置\n",
    "                j=i+k-1 #j是终止位置\n",
    "                if dp[i+1][j-1] and s[i]==s[j]:\n",
    "                    dp[i][j]=True\n",
    "                    ml,start=k,i\n",
    "        return s[start:start+ml]"
   ]
  },
  {
   "cell_type": "code",
   "execution_count": 146,
   "metadata": {
    "collapsed": true
   },
   "outputs": [],
   "source": [
    "s=Solution()"
   ]
  },
  {
   "cell_type": "code",
   "execution_count": 147,
   "metadata": {
    "collapsed": false
   },
   "outputs": [
    {
     "data": {
      "text/plain": [
       "'bb'"
      ]
     },
     "execution_count": 147,
     "metadata": {},
     "output_type": "execute_result"
    }
   ],
   "source": [
    "s.longestPalindrome('abb')"
   ]
  },
  {
   "cell_type": "code",
   "execution_count": 148,
   "metadata": {
    "collapsed": false
   },
   "outputs": [
    {
     "data": {
      "text/plain": [
       "'aa'"
      ]
     },
     "execution_count": 148,
     "metadata": {},
     "output_type": "execute_result"
    }
   ],
   "source": [
    "s.longestPalindrome('aa')"
   ]
  },
  {
   "cell_type": "code",
   "execution_count": 149,
   "metadata": {
    "collapsed": false
   },
   "outputs": [
    {
     "data": {
      "text/plain": [
       "'aaaa'"
      ]
     },
     "execution_count": 149,
     "metadata": {},
     "output_type": "execute_result"
    }
   ],
   "source": [
    "s.longestPalindrome('aaaa')"
   ]
  },
  {
   "cell_type": "code",
   "execution_count": 150,
   "metadata": {
    "collapsed": false
   },
   "outputs": [
    {
     "data": {
      "text/plain": [
       "'aba'"
      ]
     },
     "execution_count": 150,
     "metadata": {},
     "output_type": "execute_result"
    }
   ],
   "source": [
    "s.longestPalindrome('aba')"
   ]
  },
  {
   "cell_type": "code",
   "execution_count": 151,
   "metadata": {
    "collapsed": false
   },
   "outputs": [
    {
     "data": {
      "text/plain": [
       "''"
      ]
     },
     "execution_count": 151,
     "metadata": {},
     "output_type": "execute_result"
    }
   ],
   "source": [
    "s.longestPalindrome('abc')"
   ]
  }
 ],
 "metadata": {
  "kernelspec": {
   "display_name": "Python [py2]",
   "language": "python",
   "name": "Python [py2]"
  },
  "language_info": {
   "codemirror_mode": {
    "name": "ipython",
    "version": 2
   },
   "file_extension": ".py",
   "mimetype": "text/x-python",
   "name": "python",
   "nbconvert_exporter": "python",
   "pygments_lexer": "ipython2",
   "version": "2.7.12"
  }
 },
 "nbformat": 4,
 "nbformat_minor": 0
}
