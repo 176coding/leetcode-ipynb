{
 "cells": [
  {
   "cell_type": "code",
   "execution_count": null,
   "metadata": {
    "collapsed": true
   },
   "outputs": [],
   "source": [
    "# encoding:utf-8\n",
    "import sys\n",
    "\n",
    "# Title: Merge Sorted Array\n",
    "# Url: https://leetcode.com/problems/merge-sorted-array/\n",
    "# Difficulty: Easy\n",
    "\n",
    "# Problem Content:\n",
    "\"\"\"\n",
    "Given two sorted integer arrays nums1 and nums2, merge nums2 into nums1 as one sorted array.\n",
    "Note:\n",
    "You may assume that nums1 has enough space (size that is greater or equal to m + n) to hold additional elements from nums2. The number of elements initialized in nums1 and nums2 are m and n respectively.\n",
    "Subscribe to see which companies asked this question\n",
    "Show Tags\n",
    "Array\n",
    "Two Pointers\n",
    "Show Similar Problems\n",
    " (E) Merge Two Sorted Lists\n",
    "\"\"\""
   ]
  },
  {
   "cell_type": "code",
   "execution_count": 7,
   "metadata": {
    "collapsed": true
   },
   "outputs": [],
   "source": [
    "class Solution(object):\n",
    "    def merge(self, nums1, m, nums2, n):\n",
    "        \"\"\"\n",
    "        :type nums1: List[int]\n",
    "        :type m: int\n",
    "        :type nums2: List[int]\n",
    "        :type n: int\n",
    "        :rtype: void Do not return anything, modify nums1 in-place instead.\n",
    "        \"\"\"\n",
    "        k=m+n-1\n",
    "        m,n=m-1,n-1\n",
    "        while m>=0 and n>=0:\n",
    "            if nums1[m]>nums2[n]:\n",
    "                nums1[k]=nums1[m]\n",
    "                m-=1\n",
    "            else:\n",
    "                nums1[k]=nums2[n]\n",
    "                n-=1\n",
    "            k-=1\n",
    "        while n>=0:\n",
    "            nums1[k]=nums2[n]\n",
    "            k,n=k-1,n-1\n"
   ]
  },
  {
   "cell_type": "code",
   "execution_count": 8,
   "metadata": {
    "collapsed": true
   },
   "outputs": [],
   "source": [
    "s=Solution()"
   ]
  },
  {
   "cell_type": "code",
   "execution_count": 9,
   "metadata": {
    "collapsed": false
   },
   "outputs": [
    {
     "data": {
      "text/plain": [
       "[1, 2]"
      ]
     },
     "execution_count": 9,
     "metadata": {},
     "output_type": "execute_result"
    }
   ],
   "source": [
    "a=[1,0]\n",
    "b=[2]\n",
    "s.merge(a,1,b,1)\n",
    "a"
   ]
  },
  {
   "cell_type": "code",
   "execution_count": null,
   "metadata": {
    "collapsed": true
   },
   "outputs": [],
   "source": []
  }
 ],
 "metadata": {
  "kernelspec": {
   "display_name": "Python [py2]",
   "language": "python",
   "name": "Python [py2]"
  },
  "language_info": {
   "codemirror_mode": {
    "name": "ipython",
    "version": 2
   },
   "file_extension": ".py",
   "mimetype": "text/x-python",
   "name": "python",
   "nbconvert_exporter": "python",
   "pygments_lexer": "ipython2",
   "version": "2.7.12"
  }
 },
 "nbformat": 4,
 "nbformat_minor": 0
}
