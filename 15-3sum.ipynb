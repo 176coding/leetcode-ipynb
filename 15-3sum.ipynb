{
 "cells": [
  {
   "cell_type": "code",
   "execution_count": null,
   "metadata": {
    "collapsed": true
   },
   "outputs": [],
   "source": [
    "# encoding:utf-8\n",
    "import sys\n",
    "\n",
    "# Title: 3Sum\n",
    "# Url: https://leetcode.com/problems/3sum/\n",
    "# Difficulty: Medium\n",
    "\n",
    "# Problem Content:\n",
    "\"\"\"\n",
    "Given an array S of n integers, are there elements a, b, c in S such that a + b + c = 0? Find all unique triplets in the array which gives the sum of zero.\n",
    "Note: The solution set must not contain duplicate triplets.\n",
    "For example, given array S = [-1, 0, 1, 2, -1, -4],\n",
    "A solution set is:\n",
    "[\n",
    "  [-1, 0, 1],\n",
    "  [-1, -1, 2]\n",
    "]\n",
    "Subscribe to see which companies asked this question\n",
    "Show Tags\n",
    "Array\n",
    "Two Pointers\n",
    "Show Similar Problems\n",
    " (E) Two Sum\n",
    " (M) 3Sum Closest\n",
    " (M) 4Sum\n",
    " (M) 3Sum Smaller\n",
    "\"\"\""
   ]
  },
  {
   "cell_type": "code",
   "execution_count": 24,
   "metadata": {
    "collapsed": true
   },
   "outputs": [],
   "source": [
    "#TTL\n",
    "class Solution(object):\n",
    "    def threeSum(self, nums):\n",
    "        \"\"\"\n",
    "        :type nums: List[int]\n",
    "        :rtype: List[List[int]]\n",
    "        \"\"\"\n",
    "        res=[]\n",
    "        ln=len(nums)\n",
    "        for i in range(ln-2):\n",
    "            for j in range(i+1,ln-1):\n",
    "                for k in range(j+1,ln):\n",
    "                    if nums[i]+nums[j]+nums[k]==0:\n",
    "                        t=sorted([nums[i],nums[j],nums[k]])\n",
    "                        if t not in res:\n",
    "                            res.append(t)\n",
    "        return res"
   ]
  },
  {
   "cell_type": "code",
   "execution_count": 42,
   "metadata": {
    "collapsed": true
   },
   "outputs": [],
   "source": [
    "class Solution(object):\n",
    "    def threeSum(self, nums):\n",
    "        res,ln,nums=[],len(nums),sorted(nums)\n",
    "        for i in range(ln-2):\n",
    "            if i==0 or nums[i]!=nums[i-1]:\n",
    "                j,k=i+1,ln-1\n",
    "                while j<k:\n",
    "                    t=nums[i]+nums[j]+nums[k]\n",
    "                    if t<0:\n",
    "                        j+=1\n",
    "                    elif t>0:\n",
    "                        k-=1\n",
    "                    else:\n",
    "                        res.append([nums[i],nums[j],nums[k]])\n",
    "                        j,k=j+1,k-1\n",
    "                        while j<k and nums[j]==nums[j-1]:\n",
    "                            j+=1\n",
    "                        while j<k and nums[k]==nums[k+1]:\n",
    "                            k-=1\n",
    "        return res"
   ]
  },
  {
   "cell_type": "code",
   "execution_count": 43,
   "metadata": {
    "collapsed": false,
    "scrolled": true
   },
   "outputs": [
    {
     "data": {
      "text/plain": [
       "[[-1, -1, 2], [-1, 0, 1]]"
      ]
     },
     "execution_count": 43,
     "metadata": {},
     "output_type": "execute_result"
    }
   ],
   "source": [
    "s=Solution()\n",
    "s.threeSum([-1, 0, 1, 2, -1, -4])"
   ]
  },
  {
   "cell_type": "code",
   "execution_count": 44,
   "metadata": {
    "collapsed": false
   },
   "outputs": [
    {
     "data": {
      "text/plain": [
       "[[0, 0, 0]]"
      ]
     },
     "execution_count": 44,
     "metadata": {},
     "output_type": "execute_result"
    }
   ],
   "source": [
    "s.threeSum([0,0,0])"
   ]
  },
  {
   "cell_type": "code",
   "execution_count": null,
   "metadata": {
    "collapsed": true
   },
   "outputs": [],
   "source": []
  }
 ],
 "metadata": {
  "kernelspec": {
   "display_name": "Python [py27]",
   "language": "python",
   "name": "Python [py27]"
  },
  "language_info": {
   "codemirror_mode": {
    "name": "ipython",
    "version": 2
   },
   "file_extension": ".py",
   "mimetype": "text/x-python",
   "name": "python",
   "nbconvert_exporter": "python",
   "pygments_lexer": "ipython2",
   "version": "2.7.12"
  }
 },
 "nbformat": 4,
 "nbformat_minor": 0
}
