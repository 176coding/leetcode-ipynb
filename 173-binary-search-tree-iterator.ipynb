{
 "cells": [
  {
   "cell_type": "code",
   "execution_count": null,
   "metadata": {
    "collapsed": true
   },
   "outputs": [],
   "source": [
    "# encoding:utf-8\n",
    "import sys\n",
    "\n",
    "# Title: Binary Search Tree Iterator\n",
    "# Url: https://leetcode.com/problems/binary-search-tree-iterator/\n",
    "# Difficulty: Medium\n",
    "\n",
    "# Problem Content:\n",
    "\"\"\"\n",
    "Implement an iterator over a binary search tree (BST). Your iterator will be initialized with the root node of a BST.\n",
    "Calling next() will return the next smallest number in the BST.\n",
    "Note: next() and hasNext() should run in average O(1) time and uses O(h) memory, where h is the height of the tree. \n",
    "Credits:Special thanks to @ts for adding this problem and creating all test cases.\n",
    "Subscribe to see which companies asked this question\n",
    "Show Tags\n",
    "Tree\n",
    "Stack\n",
    "Design\n",
    "Show Similar Problems\n",
    " (M) Binary Tree Inorder Traversal\n",
    " (M) Flatten 2D Vector\n",
    " (M) Zigzag Iterator\n",
    " (M) Peeking Iterator\n",
    " (M) Inorder Successor in BST\n",
    "\"\"\""
   ]
  },
  {
   "cell_type": "code",
   "execution_count": 1,
   "metadata": {
    "collapsed": true
   },
   "outputs": [],
   "source": [
    "# Definition for a  binary tree node\n",
    "class TreeNode(object):\n",
    "    def __init__(self, x):\n",
    "        self.val = x\n",
    "        self.left = None\n",
    "        self.right = None"
   ]
  },
  {
   "cell_type": "code",
   "execution_count": 3,
   "metadata": {
    "collapsed": true
   },
   "outputs": [],
   "source": [
    "class BSTIterator(object):\n",
    "    def inOrder(self,root):\n",
    "        if root:\n",
    "            self.inOrder(root.left)\n",
    "            self.data.append(root.val)\n",
    "            self.inOrder(root.right)\n",
    "    def __init__(self, root):\n",
    "        \"\"\"\n",
    "        :type root: TreeNode\n",
    "        \"\"\"\n",
    "        self.data=[]\n",
    "        self.inOrder(root)\n",
    "        self.idx=0\n",
    "        self.length=len(self.data)\n",
    "        \n",
    "    def hasNext(self):\n",
    "        \"\"\"\n",
    "        :rtype: bool\n",
    "        \"\"\"\n",
    "        return self.idx<self.length\n",
    "        \n",
    "    def next(self):\n",
    "        \"\"\"\n",
    "        :rtype: int\n",
    "        \"\"\"\n",
    "        val=self.data[self.idx]\n",
    "        self.idx+=1\n",
    "        return val\n",
    "        \n",
    "# Your BSTIterator will be called like this:\n",
    "# i, v = BSTIterator(root), []\n",
    "# while i.hasNext(): v.append(i.next())"
   ]
  },
  {
   "cell_type": "code",
   "execution_count": null,
   "metadata": {
    "collapsed": true
   },
   "outputs": [],
   "source": [
    "class BSTIterator(object):\n",
    "    def __init__(self,root):\n",
    "        self.stack=[]\n",
    "        self.cur=root\n",
    "    def hasNext(self):\n",
    "        return self.stack or self.cur\n",
    "    def next(self):\n",
    "        while self.cur:\n",
    "            self.stack.append(self.cur)\n",
    "            self.cur=self.cur.left\n",
    "        node=self.stack.pop()\n",
    "        self.cur=node.right\n",
    "        return node.val"
   ]
  }
 ],
 "metadata": {
  "kernelspec": {
   "display_name": "Python [py2]",
   "language": "python",
   "name": "Python [py2]"
  },
  "language_info": {
   "codemirror_mode": {
    "name": "ipython",
    "version": 2
   },
   "file_extension": ".py",
   "mimetype": "text/x-python",
   "name": "python",
   "nbconvert_exporter": "python",
   "pygments_lexer": "ipython2",
   "version": "2.7.12"
  }
 },
 "nbformat": 4,
 "nbformat_minor": 0
}
