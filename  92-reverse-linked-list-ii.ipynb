{
 "cells": [
  {
   "cell_type": "code",
   "execution_count": null,
   "metadata": {
    "collapsed": true
   },
   "outputs": [],
   "source": [
    "# encoding:utf-8\n",
    "import sys\n",
    "\n",
    "# Title: Reverse Linked List II\n",
    "# Url: https://leetcode.com/problems/reverse-linked-list-ii/\n",
    "# Difficulty: Medium\n",
    "\n",
    "# Problem Content:\n",
    "\"\"\"\n",
    "Reverse a linked list from position m to n. Do it in-place and in one-pass.\n",
    "For example:\n",
    "Given 1->2->3->4->5->NULL, m = 2 and n = 4,\n",
    "return 1->4->3->2->5->NULL.\n",
    "Note:\n",
    "Given m, n satisfy the following condition:\n",
    "1 ≤ m ≤ n ≤ length of list.\n",
    "Subscribe to see which companies asked this question\n",
    "Show Tags\n",
    "Linked List\n",
    "Show Similar Problems\n",
    " (E) Reverse Linked List\n",
    "\"\"\""
   ]
  },
  {
   "cell_type": "code",
   "execution_count": 1,
   "metadata": {
    "collapsed": true
   },
   "outputs": [],
   "source": [
    "# Definition for singly-linked list.\n",
    "class ListNode(object):\n",
    "    def __init__(self, x):\n",
    "        self.val = x\n",
    "        self.next = None\n",
    "    def __repr__(self):\n",
    "        if not self:\n",
    "            return None\n",
    "        return '{}->{}'.format(self.val,repr(self.next))"
   ]
  },
  {
   "cell_type": "code",
   "execution_count": 17,
   "metadata": {
    "collapsed": true
   },
   "outputs": [],
   "source": [
    "class Solution(object):\n",
    "    def reverseBetween(self, head, m, n):\n",
    "        \"\"\"\n",
    "        :type head: ListNode\n",
    "        :type m: int\n",
    "        :type n: int\n",
    "        :rtype: ListNode\n",
    "        \"\"\"\n",
    "        if m==n:\n",
    "            return head\n",
    "        dummy=ListNode(0)\n",
    "        dummy.next=head\n",
    "        cnt,cur=0,dummy\n",
    "        while cnt<m-1:\n",
    "            cur,cnt=cur.next,cnt+1\n",
    "        stack=[]\n",
    "        p=cur.next\n",
    "        print p\n",
    "        while cnt<n:\n",
    "            stack.append(p)\n",
    "            p,cnt=p.next,cnt+1\n",
    "        while stack:\n",
    "            node=stack.pop()\n",
    "            cur.next,cur=node,node\n",
    "        cur.next=p\n",
    "        return dummy.next\n"
   ]
  },
  {
   "cell_type": "code",
   "execution_count": 29,
   "metadata": {
    "collapsed": true
   },
   "outputs": [],
   "source": [
    "class Solution(object):\n",
    "    def reverseBetween(self,head,m,n):\n",
    "        if m==n:\n",
    "            return head\n",
    "        dummy=ListNode(0)\n",
    "        dummy.next=head\n",
    "        cnt,cur=0,dummy\n",
    "        while cnt<m-1:\n",
    "            cnt,cur=cnt+1,cur.next\n",
    "        tail=p=cur.next\n",
    "        while cnt<n:\n",
    "            p.next,cur.next,p,cnt=cur.next,p,p.next,cnt+1\n",
    "        tail.next=p\n",
    "        return dummy.next"
   ]
  },
  {
   "cell_type": "code",
   "execution_count": 30,
   "metadata": {
    "collapsed": true
   },
   "outputs": [],
   "source": [
    "s=Solution()"
   ]
  },
  {
   "cell_type": "code",
   "execution_count": 31,
   "metadata": {
    "collapsed": false
   },
   "outputs": [
    {
     "data": {
      "text/plain": [
       "1->3->2->4->None"
      ]
     },
     "execution_count": 31,
     "metadata": {},
     "output_type": "execute_result"
    }
   ],
   "source": [
    "head=ListNode(1)\n",
    "head.next=ListNode(2)\n",
    "head.next.next=ListNode(3)\n",
    "head.next.next.next=ListNode(4)\n",
    "s.reverseBetween(head,2,3)"
   ]
  },
  {
   "cell_type": "code",
   "execution_count": null,
   "metadata": {
    "collapsed": true
   },
   "outputs": [],
   "source": []
  }
 ],
 "metadata": {
  "kernelspec": {
   "display_name": "Python [py2]",
   "language": "python",
   "name": "Python [py2]"
  },
  "language_info": {
   "codemirror_mode": {
    "name": "ipython",
    "version": 2
   },
   "file_extension": ".py",
   "mimetype": "text/x-python",
   "name": "python",
   "nbconvert_exporter": "python",
   "pygments_lexer": "ipython2",
   "version": "2.7.12"
  }
 },
 "nbformat": 4,
 "nbformat_minor": 0
}
