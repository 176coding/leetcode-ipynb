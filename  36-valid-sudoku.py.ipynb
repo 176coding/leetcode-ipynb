{
 "cells": [
  {
   "cell_type": "code",
   "execution_count": null,
   "metadata": {
    "collapsed": true
   },
   "outputs": [],
   "source": [
    "# encoding:utf-8\n",
    "import sys\n",
    "\n",
    "# Title: Valid Sudoku\n",
    "# Url: https://leetcode.com/problems/valid-sudoku/\n",
    "# Difficulty: Easy\n",
    "\n",
    "# Problem Content:\n",
    "\"\"\"\n",
    "Determine if a Sudoku is valid, according to: Sudoku Puzzles - The Rules.\n",
    "The Sudoku board could be partially filled, where empty cells are filled with the character '.'.\n",
    "A partially filled sudoku which is valid.\n",
    "Note:\n",
    "A valid Sudoku board (partially filled) is not necessarily solvable. Only the filled cells need to be validated.\n",
    "Subscribe to see which companies asked this question\n",
    "Show Tags\n",
    "Hash Table\n",
    "Show Similar Problems\n",
    " (H) Sudoku Solver\n",
    "\"\"\""
   ]
  },
  {
   "cell_type": "code",
   "execution_count": 19,
   "metadata": {
    "collapsed": true
   },
   "outputs": [],
   "source": [
    "class Solution(object):\n",
    "    def isValid(self,nums):\n",
    "        nums=filter(lambda x: x!='.', nums)\n",
    "        return len(nums)==len(set(nums))\n",
    "    def isValidSudoku(self, board):\n",
    "        \"\"\"\n",
    "        :type board: List[List[str]]\n",
    "        :rtype: bool\n",
    "        \"\"\"\n",
    "        if not board:\n",
    "            return False\n",
    "        for i in range(9):\n",
    "            row=[board[i][j] for j in range(9)]\n",
    "            col=[board[j][i] for j in range(9)]\n",
    "            if not self.isValid(row) or not self.isValid(col):\n",
    "                return False\n",
    "        for i in range(3):\n",
    "            for j in range(3):\n",
    "                b=[board[m][n] for m in range(3*i,3*i+3) for n in range(3*j,3*j+3)]\n",
    "                if not self.isValid(b):\n",
    "                    return False\n",
    "        return True"
   ]
  },
  {
   "cell_type": "code",
   "execution_count": 20,
   "metadata": {
    "collapsed": true
   },
   "outputs": [],
   "source": [
    "s=Solution()"
   ]
  },
  {
   "cell_type": "code",
   "execution_count": 21,
   "metadata": {
    "collapsed": false
   },
   "outputs": [
    {
     "data": {
      "text/plain": [
       "True"
      ]
     },
     "execution_count": 21,
     "metadata": {},
     "output_type": "execute_result"
    }
   ],
   "source": [
    "a=[\n",
    "    \".87654321\",\n",
    "    \"2........\",\n",
    "    \"3........\",\n",
    "    \"4........\",\n",
    "    \"5........\",\n",
    "    \"6........\",\n",
    "    \"7........\",\n",
    "    \"8........\",\n",
    "    \"9........\"]\n",
    "s.isValidSudoku(a)"
   ]
  },
  {
   "cell_type": "code",
   "execution_count": null,
   "metadata": {
    "collapsed": true
   },
   "outputs": [],
   "source": []
  }
 ],
 "metadata": {
  "kernelspec": {
   "display_name": "Python [py2]",
   "language": "python",
   "name": "Python [py2]"
  },
  "language_info": {
   "codemirror_mode": {
    "name": "ipython",
    "version": 2
   },
   "file_extension": ".py",
   "mimetype": "text/x-python",
   "name": "python",
   "nbconvert_exporter": "python",
   "pygments_lexer": "ipython2",
   "version": "2.7.12"
  }
 },
 "nbformat": 4,
 "nbformat_minor": 0
}
