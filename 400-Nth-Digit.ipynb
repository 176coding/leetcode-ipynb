{
 "cells": [
  {
   "cell_type": "code",
   "execution_count": null,
   "metadata": {
    "collapsed": true
   },
   "outputs": [],
   "source": [
    "Find the nth digit of the infinite integer sequence 1, 2, 3, 4, 5, 6, 7, 8, 9, 10, 11, ...\n",
    "\n",
    "Note:\n",
    "n is positive and will fit within the range of a 32-bit signed integer (n < 231).\n",
    "\n",
    "Example 1:\n",
    "Input:\n",
    "3\n",
    "\n",
    "Output:\n",
    "3\n",
    "Example 2:\n",
    "\n",
    "Input:\n",
    "11\n",
    "\n",
    "Output:\n",
    "0\n",
    "\n",
    "Explanation:\n",
    "The 11th digit of the sequence 1, 2, 3, 4, 5, 6, 7, 8, 9, 10, 11, ... is a 0, which is part of the number 10."
   ]
  },
  {
   "cell_type": "code",
   "execution_count": 51,
   "metadata": {
    "collapsed": true
   },
   "outputs": [],
   "source": [
    "#mle\n",
    "class Solution(object):\n",
    "    def findNthDigit(self, n):\n",
    "        \"\"\"\n",
    "        :type n: int\n",
    "        :rtype: int\n",
    "        \"\"\"\n",
    "        cnt=n-1\n",
    "        for i in range(1,n+1):\n",
    "            s=str(i)\n",
    "            ln=len(s)\n",
    "            if cnt>=ln:\n",
    "                cnt-=ln\n",
    "            else:\n",
    "                return int(s[cnt])"
   ]
  },
  {
   "cell_type": "code",
   "execution_count": 61,
   "metadata": {
    "collapsed": false
   },
   "outputs": [],
   "source": [
    "# 这里是找第n个数字(这里的数和数字有区别，数字可以理解为将所有数拼合成一个字符串后的第n为对应的数字（0-9)）\n",
    "# 这里首先分析一下位数和规律\n",
    "# 1位数：1-9，一共9个,共计9个数字\n",
    "# 2位数：10-99,一共90个，共计180个数字\n",
    "# 3位数：100-999，一共900个，共计270个数字\n",
    "# 4位数，1000-9999，一共9000个，共计36000个数字\n",
    "# 以此类推，\n",
    "# 这样我们就可以首先定位到是哪个数，再找到其对应的数字\n",
    "\n",
    "class Solution(object):\n",
    "    def findNthDigit(self,n):\n",
    "        digit_type,digit_num=1,9\n",
    "        while n>digit_type*digit_num:\n",
    "            n-=digit_type*digit_num\n",
    "            digit_type+=1\n",
    "            digit_num*=10\n",
    "        #获得第几个数以及第几位\n",
    "        index_in_subrange=(n-1)/digit_type\n",
    "        index_in_digit=(n-1)%digit_type\n",
    "        digit=pow(10,digit_type-1)+index_in_subrange\n",
    "        return int(str(digit)[index_in_digit])"
   ]
  },
  {
   "cell_type": "code",
   "execution_count": 62,
   "metadata": {
    "collapsed": true
   },
   "outputs": [],
   "source": [
    "s=Solution()"
   ]
  },
  {
   "cell_type": "code",
   "execution_count": 69,
   "metadata": {
    "collapsed": false
   },
   "outputs": [
    {
     "data": {
      "text/plain": [
       "2"
      ]
     },
     "execution_count": 69,
     "metadata": {},
     "output_type": "execute_result"
    }
   ],
   "source": [
    "s.findNthDigit(15)"
   ]
  },
  {
   "cell_type": "code",
   "execution_count": 31,
   "metadata": {
    "collapsed": false
   },
   "outputs": [
    {
     "data": {
      "text/plain": [
       "9"
      ]
     },
     "execution_count": 31,
     "metadata": {},
     "output_type": "execute_result"
    }
   ],
   "source": [
    "s.findNthDigit(9)"
   ]
  },
  {
   "cell_type": "code",
   "execution_count": 32,
   "metadata": {
    "collapsed": false
   },
   "outputs": [
    {
     "data": {
      "text/plain": [
       "1"
      ]
     },
     "execution_count": 32,
     "metadata": {},
     "output_type": "execute_result"
    }
   ],
   "source": [
    "s.findNthDigit(1)"
   ]
  },
  {
   "cell_type": "code",
   "execution_count": null,
   "metadata": {
    "collapsed": true
   },
   "outputs": [],
   "source": []
  }
 ],
 "metadata": {
  "kernelspec": {
   "display_name": "Python [py2]",
   "language": "python",
   "name": "Python [py2]"
  },
  "language_info": {
   "codemirror_mode": {
    "name": "ipython",
    "version": 2
   },
   "file_extension": ".py",
   "mimetype": "text/x-python",
   "name": "python",
   "nbconvert_exporter": "python",
   "pygments_lexer": "ipython2",
   "version": "2.7.12"
  }
 },
 "nbformat": 4,
 "nbformat_minor": 0
}
