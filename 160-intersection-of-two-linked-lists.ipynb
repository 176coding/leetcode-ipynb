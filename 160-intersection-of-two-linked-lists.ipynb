{
 "cells": [
  {
   "cell_type": "code",
   "execution_count": null,
   "metadata": {
    "collapsed": true
   },
   "outputs": [],
   "source": [
    "# encoding:utf-8\n",
    "import sys\n",
    "\n",
    "# Title: Intersection of Two Linked Lists\n",
    "# Url: https://leetcode.com/problems/intersection-of-two-linked-lists/\n",
    "# Difficulty: Easy\n",
    "\n",
    "# Problem Content:\n",
    "\"\"\"\n",
    "Write a program to find the node at which the intersection of two singly linked lists begins.\n",
    "\"\"\""
   ]
  },
  {
   "cell_type": "code",
   "execution_count": 6,
   "metadata": {
    "collapsed": true
   },
   "outputs": [],
   "source": [
    "# Definition for singly-linked list.\n",
    "class ListNode(object):\n",
    "    def __init__(self, x):\n",
    "        self.val = x\n",
    "        self.next = None\n",
    "    def __repr__(self):\n",
    "        if not self:\n",
    "            return None\n",
    "        return '{}->{}'.format(self.val,repr(self.next))\n",
    "class Solution(object):\n",
    "    def getIntersectionNode(self, headA, headB):\n",
    "        \"\"\"\n",
    "        :type head1, head1: ListNode\n",
    "        :rtype: ListNode\n",
    "        \"\"\"\n",
    "        p,q=headA,headB # p always the longer one\n",
    "        lenA,lenB=self.getLength(headA),self.getLength(headB)\n",
    "        if lenA<lenB:\n",
    "            p,q=q,p\n",
    "        diff=abs(lenA-lenB)\n",
    "        for i in range(diff):\n",
    "            p=p.next\n",
    "        while p:\n",
    "            if p==q:\n",
    "                return p\n",
    "            p,q=p.next,q.next\n",
    "        return None\n",
    "    def getLength(self,head):\n",
    "        length=0\n",
    "        while head:\n",
    "            length+=1\n",
    "            head=head.next\n",
    "        return length\n",
    "    "
   ]
  },
  {
   "cell_type": "code",
   "execution_count": 7,
   "metadata": {
    "collapsed": true
   },
   "outputs": [],
   "source": [
    "s=Solution()"
   ]
  },
  {
   "cell_type": "code",
   "execution_count": 8,
   "metadata": {
    "collapsed": false
   },
   "outputs": [
    {
     "data": {
      "text/plain": [
       "1->2->3->None"
      ]
     },
     "execution_count": 8,
     "metadata": {},
     "output_type": "execute_result"
    }
   ],
   "source": [
    "a,a.next,a.next.next=ListNode(1),ListNode(2),ListNode(3)\n",
    "s.getLength(a)\n",
    "a"
   ]
  },
  {
   "cell_type": "code",
   "execution_count": null,
   "metadata": {
    "collapsed": true
   },
   "outputs": [],
   "source": []
  }
 ],
 "metadata": {
  "anaconda-cloud": {},
  "kernelspec": {
   "display_name": "Python [py2]",
   "language": "python",
   "name": "Python [py2]"
  },
  "language_info": {
   "codemirror_mode": {
    "name": "ipython",
    "version": 2
   },
   "file_extension": ".py",
   "mimetype": "text/x-python",
   "name": "python",
   "nbconvert_exporter": "python",
   "pygments_lexer": "ipython2",
   "version": "2.7.12"
  }
 },
 "nbformat": 4,
 "nbformat_minor": 0
}
