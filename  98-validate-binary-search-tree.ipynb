{
 "cells": [
  {
   "cell_type": "code",
   "execution_count": null,
   "metadata": {
    "collapsed": true
   },
   "outputs": [],
   "source": [
    "# encoding:utf-8\n",
    "import sys\n",
    "\n",
    "# Title: Validate Binary Search Tree\n",
    "# Url: https://leetcode.com/problems/validate-binary-search-tree/\n",
    "# Difficulty: Medium\n",
    "\n",
    "# Problem Content:\n",
    "\"\"\"\n",
    "Given a binary tree, determine if it is a valid binary search tree (BST).\n",
    "Assume a BST is defined as follows:\n",
    "The left subtree of a node contains only nodes with keys less than the node's key.\n",
    "The right subtree of a node contains only nodes with keys greater than the node's key.\n",
    "Both the left and right subtrees must also be binary search trees.\n",
    "Example 1:\n",
    "    2\n",
    "   / \\\n",
    "  1   3\n",
    "Binary tree [2,1,3], return true.\n",
    "Example 2:\n",
    "    1\n",
    "   / \\\n",
    "  2   3\n",
    "Binary tree [1,2,3], return false.\n",
    "Subscribe to see which companies asked this question\n",
    "Show Tags\n",
    "Tree\n",
    "Depth-first Search\n",
    "Show Similar Problems\n",
    " (M) Binary Tree Inorder Traversal\n",
    "\"\"\""
   ]
  },
  {
   "cell_type": "code",
   "execution_count": 1,
   "metadata": {
    "collapsed": true
   },
   "outputs": [],
   "source": [
    "# Definition for a binary tree node.\n",
    "class TreeNode(object):\n",
    "    def __init__(self, x):\n",
    "        self.val = x\n",
    "        self.left = None\n",
    "        self.right = None"
   ]
  },
  {
   "cell_type": "code",
   "execution_count": 38,
   "metadata": {
    "collapsed": true
   },
   "outputs": [],
   "source": [
    "class Solution(object):\n",
    "    def isValidBST(self, root):\n",
    "        \"\"\"\n",
    "        :type root: TreeNode\n",
    "        :rtype: bool\n",
    "        \"\"\"\n",
    "        if not root:\n",
    "            return True\n",
    "        data=[]\n",
    "        def inOrder(root):\n",
    "            if root:\n",
    "                inOrder(root.left)\n",
    "                data.append(root.val)\n",
    "                inOrder(root.right)\n",
    "        inOrder(root)\n",
    "        if len(data)==1:\n",
    "            return True\n",
    "        v1,v2=data[0],data[1]\n",
    "        if v1>=v2:\n",
    "            return False\n",
    "        for i in range(2,len(data)):\n",
    "            v1,v2=v2,data[i]\n",
    "            if v1>=v2:\n",
    "                return False\n",
    "        return True\n"
   ]
  },
  {
   "cell_type": "code",
   "execution_count": 58,
   "metadata": {
    "collapsed": true
   },
   "outputs": [],
   "source": [
    "class Solution(object):\n",
    "    def isValidBST(self,root):\n",
    "        data=[]\n",
    "        def inOrder(root):\n",
    "            if root:\n",
    "                inOrder(root.left)\n",
    "                data.append(root.val)\n",
    "                inOrder(root.right)\n",
    "        inOrder(root)\n",
    "        for i in range(1,len(data)):\n",
    "            if data[i-1]>=data[i]:\n",
    "                return False\n",
    "        return True"
   ]
  },
  {
   "cell_type": "code",
   "execution_count": 79,
   "metadata": {
    "collapsed": true
   },
   "outputs": [],
   "source": [
    "class Solution(object):\n",
    "    def isValidBST(self,root):\n",
    "        def helper(root,min_val,max_val):\n",
    "            if not root:\n",
    "                return True\n",
    "            if root.val<=min_val or root.val>=max_val:\n",
    "                return False\n",
    "            return helper(root.left,min_val,root.val) and helper(root.right,root.val,max_val)\n",
    "        return helper(root,float('-inf'),float('inf'))"
   ]
  },
  {
   "cell_type": "code",
   "execution_count": 85,
   "metadata": {
    "collapsed": false
   },
   "outputs": [],
   "source": [
    "class Solution(object):\n",
    "    def isValidBST(self,root):\n",
    "        pre,cur,stack=None,root,[]\n",
    "        while stack or cur:\n",
    "            if cur:\n",
    "                stack.append(cur)\n",
    "                cur=cur.left\n",
    "            else:\n",
    "                cur=stack.pop()\n",
    "                if pre and pre.val>=cur.val:\n",
    "                    return False\n",
    "                pre,cur=cur,cur.right\n",
    "        return True\n",
    "        "
   ]
  },
  {
   "cell_type": "code",
   "execution_count": 86,
   "metadata": {
    "collapsed": true
   },
   "outputs": [],
   "source": [
    "s=Solution()"
   ]
  },
  {
   "cell_type": "code",
   "execution_count": 87,
   "metadata": {
    "collapsed": false
   },
   "outputs": [
    {
     "data": {
      "text/plain": [
       "True"
      ]
     },
     "execution_count": 87,
     "metadata": {},
     "output_type": "execute_result"
    }
   ],
   "source": [
    "s.isValidBST(None)"
   ]
  },
  {
   "cell_type": "code",
   "execution_count": 88,
   "metadata": {
    "collapsed": false
   },
   "outputs": [
    {
     "data": {
      "text/plain": [
       "True"
      ]
     },
     "execution_count": 88,
     "metadata": {},
     "output_type": "execute_result"
    }
   ],
   "source": [
    "root=TreeNode(1)\n",
    "s.isValidBST(root)"
   ]
  },
  {
   "cell_type": "code",
   "execution_count": 89,
   "metadata": {
    "collapsed": false
   },
   "outputs": [
    {
     "data": {
      "text/plain": [
       "True"
      ]
     },
     "execution_count": 89,
     "metadata": {},
     "output_type": "execute_result"
    }
   ],
   "source": [
    "root=TreeNode(2)\n",
    "root.left=TreeNode(1)\n",
    "root.right=TreeNode(3)\n",
    "s.isValidBST(root)"
   ]
  },
  {
   "cell_type": "code",
   "execution_count": 90,
   "metadata": {
    "collapsed": false
   },
   "outputs": [
    {
     "data": {
      "text/plain": [
       "False"
      ]
     },
     "execution_count": 90,
     "metadata": {},
     "output_type": "execute_result"
    }
   ],
   "source": [
    "root=TreeNode(2)\n",
    "root.left=TreeNode(1)\n",
    "root.right=TreeNode(3)\n",
    "root.right.left=TreeNode(4)\n",
    "s.isValidBST(root)"
   ]
  },
  {
   "cell_type": "code",
   "execution_count": 91,
   "metadata": {
    "collapsed": false
   },
   "outputs": [
    {
     "data": {
      "text/plain": [
       "False"
      ]
     },
     "execution_count": 91,
     "metadata": {},
     "output_type": "execute_result"
    }
   ],
   "source": [
    "root=TreeNode(1)\n",
    "root.left=TreeNode(1)\n",
    "s.isValidBST(root)"
   ]
  },
  {
   "cell_type": "code",
   "execution_count": 92,
   "metadata": {
    "collapsed": false
   },
   "outputs": [
    {
     "data": {
      "text/plain": [
       "False"
      ]
     },
     "execution_count": 92,
     "metadata": {},
     "output_type": "execute_result"
    }
   ],
   "source": [
    "root=TreeNode(10)\n",
    "root.left=TreeNode(5)\n",
    "root.right=TreeNode(15)\n",
    "root.right.left=TreeNode(6)\n",
    "root.right.right=TreeNode(20)\n",
    "s.isValidBST(root)"
   ]
  },
  {
   "cell_type": "code",
   "execution_count": null,
   "metadata": {
    "collapsed": true
   },
   "outputs": [],
   "source": []
  }
 ],
 "metadata": {
  "kernelspec": {
   "display_name": "Python [default]",
   "language": "python",
   "name": "python3"
  },
  "language_info": {
   "codemirror_mode": {
    "name": "ipython",
    "version": 3
   },
   "file_extension": ".py",
   "mimetype": "text/x-python",
   "name": "python",
   "nbconvert_exporter": "python",
   "pygments_lexer": "ipython3",
   "version": "3.5.2"
  }
 },
 "nbformat": 4,
 "nbformat_minor": 1
}
