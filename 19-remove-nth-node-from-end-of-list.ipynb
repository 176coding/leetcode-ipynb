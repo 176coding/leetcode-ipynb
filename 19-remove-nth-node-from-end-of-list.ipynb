{
 "cells": [
  {
   "cell_type": "code",
   "execution_count": null,
   "metadata": {
    "collapsed": true
   },
   "outputs": [],
   "source": [
    "# encoding:utf-8\n",
    "import sys\n",
    "\n",
    "# Title: Remove Nth Node From End of List\n",
    "# Url: https://leetcode.com/problems/remove-nth-node-from-end-of-list/\n",
    "# Difficulty: Easy\n",
    "\n",
    "# Problem Content:\n",
    "\"\"\"\n",
    "Given a linked list, remove the nth node from the end of list and return its head.\n",
    "For example,\n",
    "   Given linked list: 1->2->3->4->5, and n = 2.\n",
    "   After removing the second node from the end, the linked list becomes 1->2->3->5.\n",
    "Note:\n",
    "Given n will always be valid.\n",
    "Try to do this in one pass.\n",
    "Subscribe to see which companies asked this question\n",
    "Show Tags\n",
    "Linked List\n",
    "Two Pointers\n",
    "\"\"\""
   ]
  },
  {
   "cell_type": "code",
   "execution_count": 14,
   "metadata": {
    "collapsed": true
   },
   "outputs": [],
   "source": [
    "# Definition for singly-linked list.\n",
    "class ListNode(object):\n",
    "    def __init__(self, x):\n",
    "        self.val = x\n",
    "        self.next = None\n",
    "    def __repr__(self):\n",
    "        if not self:\n",
    "            return None\n",
    "        else:\n",
    "            return '{}->{}'.format(self.val,repr(self.next))"
   ]
  },
  {
   "cell_type": "code",
   "execution_count": 15,
   "metadata": {
    "collapsed": true
   },
   "outputs": [],
   "source": [
    "class Solution(object):\n",
    "    def removeNthFromEnd(self, head, n):\n",
    "        \"\"\"\n",
    "        :type head: ListNode\n",
    "        :type n: int\n",
    "        :rtype: ListNode\n",
    "        \"\"\"\n",
    "        dummy=ListNode(0)\n",
    "        dummy.next=head\n",
    "        p=q=dummy\n",
    "        for i in range(n+1):\n",
    "            q=q.next\n",
    "        while q:\n",
    "            p,q=p.next,q.next\n",
    "        t=p.next\n",
    "        p.next=t.next\n",
    "        del t\n",
    "        return dummy.next\n"
   ]
  },
  {
   "cell_type": "code",
   "execution_count": 16,
   "metadata": {
    "collapsed": true
   },
   "outputs": [],
   "source": [
    "s=Solution()"
   ]
  },
  {
   "cell_type": "code",
   "execution_count": 20,
   "metadata": {
    "collapsed": false
   },
   "outputs": [
    {
     "name": "stdout",
     "output_type": "stream",
     "text": [
      "1->2->3->None\n",
      "1->2->None\n"
     ]
    }
   ],
   "source": [
    "a,a.next,a.next.next=ListNode(1),ListNode(2),ListNode(3)\n",
    "print a\n",
    "r=s.removeNthFromEnd(a,1)\n",
    "print r"
   ]
  },
  {
   "cell_type": "code",
   "execution_count": 21,
   "metadata": {
    "collapsed": false
   },
   "outputs": [
    {
     "data": {
      "text/plain": [
       "1->3->None"
      ]
     },
     "execution_count": 21,
     "metadata": {},
     "output_type": "execute_result"
    }
   ],
   "source": [
    "a,a.next,a.next.next=ListNode(1),ListNode(2),ListNode(3)\n",
    "r=s.removeNthFromEnd(a,2)\n",
    "r"
   ]
  },
  {
   "cell_type": "code",
   "execution_count": 22,
   "metadata": {
    "collapsed": false
   },
   "outputs": [
    {
     "data": {
      "text/plain": [
       "2->3->None"
      ]
     },
     "execution_count": 22,
     "metadata": {},
     "output_type": "execute_result"
    }
   ],
   "source": [
    "a,a.next,a.next.next=ListNode(1),ListNode(2),ListNode(3)\n",
    "r=s.removeNthFromEnd(a,3)\n",
    "r"
   ]
  },
  {
   "cell_type": "code",
   "execution_count": null,
   "metadata": {
    "collapsed": true
   },
   "outputs": [],
   "source": []
  }
 ],
 "metadata": {
  "kernelspec": {
   "display_name": "Python [py2]",
   "language": "python",
   "name": "Python [py2]"
  },
  "language_info": {
   "codemirror_mode": {
    "name": "ipython",
    "version": 2
   },
   "file_extension": ".py",
   "mimetype": "text/x-python",
   "name": "python",
   "nbconvert_exporter": "python",
   "pygments_lexer": "ipython2",
   "version": "2.7.12"
  }
 },
 "nbformat": 4,
 "nbformat_minor": 0
}
