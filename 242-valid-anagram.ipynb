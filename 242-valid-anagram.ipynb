{
 "cells": [
  {
   "cell_type": "code",
   "execution_count": null,
   "metadata": {
    "collapsed": true
   },
   "outputs": [],
   "source": [
    "# encoding:utf-8\n",
    "import sys\n",
    "\n",
    "# Title: Valid Anagram\n",
    "# Url: https://leetcode.com/problems/valid-anagram/\n",
    "# Difficulty: Easy\n",
    "\n",
    "# Problem Content:\n",
    "\"\"\"\n",
    "Given two strings s and t, write a function to determine if t is an anagram of s.\n",
    "For example,\n",
    "s = \"anagram\", t = \"nagaram\", return true.\n",
    "s = \"rat\", t = \"car\", return false.\n",
    "Note:\n",
    "You may assume the string contains only lowercase alphabets.\n",
    "Follow up:\n",
    "What if the inputs contain unicode characters? How would you adapt your solution to such case?\n",
    "Subscribe to see which companies asked this question\n",
    "Show Tags\n",
    "Hash Table\n",
    "Sort\n",
    "Show Similar Problems\n",
    " (M) Group Anagrams\n",
    " (E) Palindrome Permutation\n",
    "\"\"\""
   ]
  },
  {
   "cell_type": "code",
   "execution_count": 3,
   "metadata": {
    "collapsed": true
   },
   "outputs": [],
   "source": [
    "from collections import  Counter\n",
    "class Solution(object):\n",
    "    def isAnagram(self, s, t):\n",
    "        \"\"\"\n",
    "        :type s: str\n",
    "        :type t: str\n",
    "        :rtype: bool\n",
    "        \"\"\"\n",
    "        if len(s)!=len(t):\n",
    "            return False\n",
    "        dc=Counter(s)\n",
    "        for i in t:\n",
    "            if i not in  dc:\n",
    "                return False\n",
    "            elif dc[i]==0:\n",
    "                return False\n",
    "            else:\n",
    "                dc[i]-=1\n",
    "        return True\n",
    "        \n",
    "        "
   ]
  }
 ],
 "metadata": {
  "kernelspec": {
   "display_name": "Python [py2]",
   "language": "python",
   "name": "Python [py2]"
  },
  "language_info": {
   "codemirror_mode": {
    "name": "ipython",
    "version": 2
   },
   "file_extension": ".py",
   "mimetype": "text/x-python",
   "name": "python",
   "nbconvert_exporter": "python",
   "pygments_lexer": "ipython2",
   "version": "2.7.12"
  }
 },
 "nbformat": 4,
 "nbformat_minor": 0
}
