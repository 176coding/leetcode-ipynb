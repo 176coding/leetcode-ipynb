{
 "cells": [
  {
   "cell_type": "code",
   "execution_count": null,
   "metadata": {
    "collapsed": true
   },
   "outputs": [],
   "source": [
    "# encoding:utf-8\n",
    "import sys\n",
    "\n",
    "# Title: Next Permutation\n",
    "# Url: https://leetcode.com/problems/next-permutation/\n",
    "# Difficulty: Medium\n",
    "\n",
    "# Problem Content:\n",
    "\"\"\"\n",
    "Implement next permutation, which rearranges numbers into the lexicographically next greater permutation of numbers.\n",
    "If such arrangement is not possible, it must rearrange it as the lowest possible order (ie, sorted in ascending order).\n",
    "The replacement must be in-place, do not allocate extra memory.\n",
    "Here are some examples. Inputs are in the left-hand column and its corresponding outputs are in the right-hand column.\n",
    "1,2,3 → 1,3,2\n",
    "3,2,1 → 1,2,3\n",
    "1,1,5 → 1,5,1\n",
    "Subscribe to see which companies asked this question\n",
    "Show Tags\n",
    "Array\n",
    "Show Similar Problems\n",
    " (M) Permutations\n",
    " (M) Permutations II\n",
    " (M) Permutation Sequence\n",
    " (M) Palindrome Permutation II\n",
    "\"\"\""
   ]
  },
  {
   "cell_type": "code",
   "execution_count": 75,
   "metadata": {
    "collapsed": true
   },
   "outputs": [],
   "source": [
    "class Solution(object):\n",
    "    def reverse(self,nums,i,j):\n",
    "        while i<j:\n",
    "            nums[i],nums[j]=nums[j],nums[i]\n",
    "            i,j=i+1,j-1\n",
    "    def nextPermutation(self, nums):\n",
    "        \"\"\"\n",
    "        :type nums: List[int]\n",
    "        :rtype: void Do not return anything, modify nums in-place instead.\n",
    "        \"\"\"\n",
    "        if not nums:\n",
    "            return\n",
    "        n=len(nums)\n",
    "        p=-1\n",
    "        for i in range(n-1,0,-1):\n",
    "            if nums[i-1]<nums[i]:\n",
    "                p=i-1\n",
    "                break\n",
    "        if p==-1:\n",
    "            nums.reverse()\n",
    "            return\n",
    "        q=0\n",
    "        for i in range(p+1,n):\n",
    "            if nums[i]>nums[p]:\n",
    "                q=i\n",
    "        nums[p],nums[q]=nums[q],nums[p]\n",
    "        self.reverse(nums,p+1,n-1)"
   ]
  },
  {
   "cell_type": "code",
   "execution_count": null,
   "metadata": {
    "collapsed": true
   },
   "outputs": [],
   "source": []
  },
  {
   "cell_type": "code",
   "execution_count": 76,
   "metadata": {
    "collapsed": true
   },
   "outputs": [],
   "source": [
    "s=Solution()"
   ]
  },
  {
   "cell_type": "code",
   "execution_count": 77,
   "metadata": {
    "collapsed": false
   },
   "outputs": [
    {
     "data": {
      "text/plain": [
       "[1]"
      ]
     },
     "execution_count": 77,
     "metadata": {},
     "output_type": "execute_result"
    }
   ],
   "source": [
    "a=[1]\n",
    "s.nextPermutation(a)\n",
    "a"
   ]
  },
  {
   "cell_type": "code",
   "execution_count": 78,
   "metadata": {
    "collapsed": false
   },
   "outputs": [
    {
     "data": {
      "text/plain": [
       "[2, 1]"
      ]
     },
     "execution_count": 78,
     "metadata": {},
     "output_type": "execute_result"
    }
   ],
   "source": [
    "a=[1,2]\n",
    "s.nextPermutation(a)\n",
    "a"
   ]
  },
  {
   "cell_type": "code",
   "execution_count": 79,
   "metadata": {
    "collapsed": false
   },
   "outputs": [
    {
     "data": {
      "text/plain": [
       "[1, 3, 2]"
      ]
     },
     "execution_count": 79,
     "metadata": {},
     "output_type": "execute_result"
    }
   ],
   "source": [
    "a=[1,2,3]\n",
    "s.nextPermutation(a)\n",
    "a"
   ]
  },
  {
   "cell_type": "code",
   "execution_count": 80,
   "metadata": {
    "collapsed": false
   },
   "outputs": [
    {
     "data": {
      "text/plain": [
       "[1, 2, 3, 4]"
      ]
     },
     "execution_count": 80,
     "metadata": {},
     "output_type": "execute_result"
    }
   ],
   "source": [
    "a=[4,3,2,1]\n",
    "s.nextPermutation(a)\n",
    "a"
   ]
  },
  {
   "cell_type": "code",
   "execution_count": 81,
   "metadata": {
    "collapsed": false
   },
   "outputs": [
    {
     "data": {
      "text/plain": [
       "[4, 1, 2, 3]"
      ]
     },
     "execution_count": 81,
     "metadata": {},
     "output_type": "execute_result"
    }
   ],
   "source": [
    "a=[3,4,2,1]\n",
    "s.nextPermutation(a)\n",
    "a"
   ]
  },
  {
   "cell_type": "code",
   "execution_count": 82,
   "metadata": {
    "collapsed": false
   },
   "outputs": [
    {
     "data": {
      "text/plain": [
       "[2, 4, 1, 3, 5, 6]"
      ]
     },
     "execution_count": 82,
     "metadata": {},
     "output_type": "execute_result"
    }
   ],
   "source": [
    "a=[2,3,6,5,4,1]\n",
    "s.nextPermutation(a)\n",
    "a"
   ]
  },
  {
   "cell_type": "code",
   "execution_count": null,
   "metadata": {
    "collapsed": true
   },
   "outputs": [],
   "source": []
  }
 ],
 "metadata": {
  "anaconda-cloud": {},
  "kernelspec": {
   "display_name": "Python [py2]",
   "language": "python",
   "name": "Python [py2]"
  },
  "language_info": {
   "codemirror_mode": {
    "name": "ipython",
    "version": 2
   },
   "file_extension": ".py",
   "mimetype": "text/x-python",
   "name": "python",
   "nbconvert_exporter": "python",
   "pygments_lexer": "ipython2",
   "version": "2.7.12"
  }
 },
 "nbformat": 4,
 "nbformat_minor": 0
}
