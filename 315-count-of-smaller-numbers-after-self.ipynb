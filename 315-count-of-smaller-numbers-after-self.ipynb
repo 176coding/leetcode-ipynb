{
 "cells": [
  {
   "cell_type": "code",
   "execution_count": null,
   "metadata": {
    "collapsed": true
   },
   "outputs": [],
   "source": [
    "# encoding:utf-8\n",
    "import sys\n",
    "\n",
    "# Title: Count of Smaller Numbers After Self\n",
    "# Url: https://leetcode.com/problems/count-of-smaller-numbers-after-self/\n",
    "# Difficulty: Hard\n",
    "\n",
    "# Problem Content:\n",
    "\"\"\"\n",
    "You are given an integer array nums and you have to return a new counts array.\n",
    "The counts array has the property where counts[i] is \n",
    "the number of smaller elements to the right of nums[i].\n",
    "Example:\n",
    "Given nums = [5, 2, 6, 1]\n",
    "To the right of 5 there are 2 smaller elements (2 and 1).\n",
    "To the right of 2 there is only 1 smaller element (1).\n",
    "To the right of 6 there is 1 smaller element (1).\n",
    "To the right of 1 there is 0 smaller element.\n",
    "Return the array [2, 1, 1, 0].\n",
    "Subscribe to see which companies asked this question\n",
    "Show Tags\n",
    "Divide and Conquer\n",
    "Binary Indexed Tree\n",
    "Segment Tree\n",
    "Binary Search Tree\n",
    "Show Similar Problems\n",
    " (H) Count of Range Sum\n",
    "\"\"\""
   ]
  },
  {
   "cell_type": "code",
   "execution_count": 4,
   "metadata": {
    "collapsed": true
   },
   "outputs": [],
   "source": [
    "#tle\n",
    "class Solution(object):\n",
    "    def countSmaller(self, nums):\n",
    "        \"\"\"\n",
    "        :type nums: List[int]\n",
    "        :rtype: List[int]\n",
    "        \"\"\"\n",
    "        n=len(nums)\n",
    "        res=[0]*n\n",
    "        for i in range(n):\n",
    "            for j in range(i+1,n):\n",
    "                if nums[j]<nums[i]:\n",
    "                    res[i]+=1\n",
    "        return res"
   ]
  },
  {
   "cell_type": "code",
   "execution_count": 113,
   "metadata": {
    "collapsed": false
   },
   "outputs": [],
   "source": [
    "# 1. merge sort from large number to small number\n",
    "# 2. save the original position of element of nums\n",
    "# 3. the original nums not change\n",
    "class Solution(object):\n",
    "    def merge(self,nums,left,right,res):\n",
    "        if left>=right:\n",
    "            return\n",
    "        mid=(left+right)>>1\n",
    "        self.merge(nums,left,mid,res)\n",
    "        self.merge(nums,mid+1,right,res)\n",
    "        tmp,i,j=[],left,mid+1\n",
    "        while i<=mid or j<=right:\n",
    "            if i>mid:\n",
    "                tmp.append(nums[j])\n",
    "                j+=1\n",
    "            elif j>right:\n",
    "                tmp.append(nums[i])\n",
    "                i+=1\n",
    "            elif nums[i][0]>nums[j][0]:\n",
    "                res[nums[i][1]]+=right-j+1\n",
    "                tmp.append(nums[i])\n",
    "                i+=1\n",
    "            else:\n",
    "                tmp.append(nums[j])\n",
    "                j+=1\n",
    "        for i in range(left,right+1):\n",
    "            nums[i]=tmp[i-left]\n",
    "        \n",
    "    def countSmaller(self,nums):\n",
    "        n=len(nums)\n",
    "        res=[0]*n\n",
    "        data=[(nums[i],i) for i in range(n)]\n",
    "        self.merge(data,0,n-1,res)\n",
    "        return res"
   ]
  },
  {
   "cell_type": "code",
   "execution_count": 128,
   "metadata": {
    "collapsed": false
   },
   "outputs": [],
   "source": [
    "# BST\n",
    "class TreeNode(object):\n",
    "    def __init__(self,val):\n",
    "        self.val=val\n",
    "        self.left=None\n",
    "        self.right=None\n",
    "        self.smallCnt=0\n",
    "        self.equalCnt=1\n",
    "class BinarySearchTree(object):\n",
    "    def __init__(self):\n",
    "        self.root=None\n",
    "    def insert(self,val,root):\n",
    "        if not root:\n",
    "            self.root=TreeNode(val)\n",
    "            return 0\n",
    "        if val==root.val:\n",
    "            root.equalCnt+=1\n",
    "            return root.smallCnt\n",
    "        elif val<root.val:\n",
    "            root.smallCnt+=1\n",
    "            if not root.left:\n",
    "                root.left=TreeNode(val)\n",
    "                return 0\n",
    "            return self.insert(val,root.left)\n",
    "        else:\n",
    "            if not root.right:\n",
    "                root.right=TreeNode(val)\n",
    "                return root.smallCnt+root.equalCnt\n",
    "        return root.smallCnt+root.equalCnt+self.insert(val,root.right) \n",
    "class Solution(object):\n",
    "    def countSmaller(self,nums):\n",
    "        n=len(nums)\n",
    "        ans=[0]*n\n",
    "        bst=BinarySearchTree()\n",
    "        for i in range(n-1,-1,-1):\n",
    "            ans[i]=bst.insert(nums[i],bst.root)\n",
    "        return ans"
   ]
  },
  {
   "cell_type": "code",
   "execution_count": null,
   "metadata": {
    "collapsed": true
   },
   "outputs": [],
   "source": []
  },
  {
   "cell_type": "code",
   "execution_count": 129,
   "metadata": {
    "collapsed": true
   },
   "outputs": [],
   "source": [
    "s=Solution()"
   ]
  },
  {
   "cell_type": "code",
   "execution_count": 130,
   "metadata": {
    "collapsed": false
   },
   "outputs": [
    {
     "data": {
      "text/plain": [
       "[2, 1, 1, 0]"
      ]
     },
     "execution_count": 130,
     "metadata": {},
     "output_type": "execute_result"
    }
   ],
   "source": [
    "s.countSmaller([5,2,6,1])"
   ]
  },
  {
   "cell_type": "code",
   "execution_count": 131,
   "metadata": {
    "collapsed": false
   },
   "outputs": [
    {
     "data": {
      "text/plain": [
       "[0, 1, 0]"
      ]
     },
     "execution_count": 131,
     "metadata": {},
     "output_type": "execute_result"
    }
   ],
   "source": [
    "s.countSmaller([0,2,1])"
   ]
  },
  {
   "cell_type": "code",
   "execution_count": 132,
   "metadata": {
    "collapsed": false
   },
   "outputs": [
    {
     "data": {
      "text/plain": [
       "[10,\n",
       " 27,\n",
       " 10,\n",
       " 35,\n",
       " 12,\n",
       " 22,\n",
       " 28,\n",
       " 8,\n",
       " 19,\n",
       " 2,\n",
       " 12,\n",
       " 2,\n",
       " 9,\n",
       " 6,\n",
       " 12,\n",
       " 5,\n",
       " 17,\n",
       " 9,\n",
       " 19,\n",
       " 12,\n",
       " 14,\n",
       " 6,\n",
       " 12,\n",
       " 5,\n",
       " 12,\n",
       " 3,\n",
       " 0,\n",
       " 10,\n",
       " 0,\n",
       " 7,\n",
       " 8,\n",
       " 4,\n",
       " 0,\n",
       " 0,\n",
       " 4,\n",
       " 3,\n",
       " 2,\n",
       " 0,\n",
       " 1,\n",
       " 0]"
      ]
     },
     "execution_count": 132,
     "metadata": {},
     "output_type": "execute_result"
    }
   ],
   "source": [
    "s.countSmaller([26,78,27,100,33,67,90,23,66,5,38,7,35,23,52,22,83,51,98,69,81,32,78,28,94,13,2,97,3,76,99,51,9,21,84,66,65,36,100,41])"
   ]
  },
  {
   "cell_type": "code",
   "execution_count": null,
   "metadata": {
    "collapsed": true
   },
   "outputs": [],
   "source": []
  }
 ],
 "metadata": {
  "anaconda-cloud": {},
  "kernelspec": {
   "display_name": "Python [py2]",
   "language": "python",
   "name": "Python [py2]"
  },
  "language_info": {
   "codemirror_mode": {
    "name": "ipython",
    "version": 2
   },
   "file_extension": ".py",
   "mimetype": "text/x-python",
   "name": "python",
   "nbconvert_exporter": "python",
   "pygments_lexer": "ipython2",
   "version": "2.7.12"
  }
 },
 "nbformat": 4,
 "nbformat_minor": 0
}
