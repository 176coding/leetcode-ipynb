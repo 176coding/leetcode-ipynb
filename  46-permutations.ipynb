{
 "cells": [
  {
   "cell_type": "code",
   "execution_count": null,
   "metadata": {
    "collapsed": true
   },
   "outputs": [],
   "source": [
    "# encoding:utf-8\n",
    "import sys\n",
    "\n",
    "# Title: Permutations\n",
    "# Url: https://leetcode.com/problems/permutations/\n",
    "# Difficulty: Medium\n",
    "\n",
    "# Problem Content:\n",
    "\"\"\"\n",
    "Given a collection of distinct numbers, return all possible permutations.\n",
    "For example,\n",
    "[1,2,3] have the following permutations:\n",
    "[\n",
    "  [1,2,3],\n",
    "  [1,3,2],\n",
    "  [2,1,3],\n",
    "  [2,3,1],\n",
    "  [3,1,2],\n",
    "  [3,2,1]\n",
    "]\n",
    "Subscribe to see which companies asked this question\n",
    "Show Tags\n",
    "Backtracking\n",
    "Show Similar Problems\n",
    " (M) Next Permutation\n",
    " (M) Permutations II\n",
    " (M) Permutation Sequence\n",
    " (M) Combinations\n",
    "\"\"\""
   ]
  },
  {
   "cell_type": "code",
   "execution_count": 7,
   "metadata": {
    "collapsed": true
   },
   "outputs": [],
   "source": [
    "class Solution(object):\n",
    "    def dfs(self,res,cur,nums,is_visited):\n",
    "        if len(cur)==len(nums):\n",
    "            res.append(cur[:])\n",
    "            return\n",
    "        for i in range(len(nums)):\n",
    "            if not is_visited[i]:\n",
    "                is_visited[i]=True\n",
    "                cur.append(nums[i])\n",
    "                self.dfs(res,cur,nums,is_visited)\n",
    "                cur.pop()\n",
    "                is_visited[i]=False\n",
    "    def permute(self, nums):\n",
    "        \"\"\"\n",
    "        :type nums: List[int]\n",
    "        :rtype: List[List[int]]\n",
    "        \"\"\"\n",
    "        if not nums:\n",
    "            return []\n",
    "        res,cur,is_visited=[],[],[False]*len(nums)\n",
    "        self.dfs(res,cur,nums,is_visited)\n",
    "        return res\n",
    "        "
   ]
  },
  {
   "cell_type": "code",
   "execution_count": 8,
   "metadata": {
    "collapsed": true
   },
   "outputs": [],
   "source": [
    "s=Solution()"
   ]
  },
  {
   "cell_type": "code",
   "execution_count": 9,
   "metadata": {
    "collapsed": false
   },
   "outputs": [
    {
     "data": {
      "text/plain": [
       "[['1', '2', '3'],\n",
       " ['1', '3', '2'],\n",
       " ['2', '1', '3'],\n",
       " ['2', '3', '1'],\n",
       " ['3', '1', '2'],\n",
       " ['3', '2', '1']]"
      ]
     },
     "execution_count": 9,
     "metadata": {},
     "output_type": "execute_result"
    }
   ],
   "source": [
    "s.permute(['1','2','3'])"
   ]
  },
  {
   "cell_type": "code",
   "execution_count": null,
   "metadata": {
    "collapsed": true
   },
   "outputs": [],
   "source": []
  }
 ],
 "metadata": {
  "kernelspec": {
   "display_name": "Python [py2]",
   "language": "python",
   "name": "Python [py2]"
  },
  "language_info": {
   "codemirror_mode": {
    "name": "ipython",
    "version": 2
   },
   "file_extension": ".py",
   "mimetype": "text/x-python",
   "name": "python",
   "nbconvert_exporter": "python",
   "pygments_lexer": "ipython2",
   "version": "2.7.12"
  }
 },
 "nbformat": 4,
 "nbformat_minor": 0
}
