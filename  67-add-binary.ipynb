{
 "cells": [
  {
   "cell_type": "code",
   "execution_count": null,
   "metadata": {
    "collapsed": true
   },
   "outputs": [],
   "source": [
    "# encoding:utf-8\n",
    "import sys\n",
    "\n",
    "# Title: Add Binary\n",
    "# Url: https://leetcode.com/problems/add-binary/\n",
    "# Difficulty: Easy\n",
    "\n",
    "# Problem Content:\n",
    "\"\"\"\n",
    "Given two binary strings, return their sum (also a binary string).\n",
    "For example,\n",
    "a = \"11\"\n",
    "b = \"1\"\n",
    "Return \"100\".\n",
    "Subscribe to see which companies asked this question\n",
    "Show Tags\n",
    "Math\n",
    "String\n",
    "Show Similar Problems\n",
    " (M) Add Two Numbers\n",
    " (M) Multiply Strings\n",
    " (E) Plus One\n",
    "\"\"\""
   ]
  },
  {
   "cell_type": "code",
   "execution_count": 7,
   "metadata": {
    "collapsed": true
   },
   "outputs": [],
   "source": [
    "class Solution(object):\n",
    "    def addBinary(self, a, b):\n",
    "        \"\"\"\n",
    "        :type a: str\n",
    "        :type b: str\n",
    "        :rtype: str\n",
    "        \"\"\"\n",
    "        if not a or not b:\n",
    "            return None\n",
    "        la,lb,c,r=len(a)-1,len(b)-1,0,''\n",
    "        while la>=0 and lb>=0:\n",
    "            s=c+int(a[la])+int(b[lb])\n",
    "            c,s,la,lb=s/2,s%2,la-1,lb-1\n",
    "            r=str(s)+r\n",
    "        while la>=0:\n",
    "            s=c+int(a[la])\n",
    "            c,s,la=s/2,s%2,la-1\n",
    "            r=str(s)+r   \n",
    "        while lb>=0:\n",
    "            s=c+int(b[lb])\n",
    "            c,s,lb=s/2,s%2,lb-1\n",
    "            r=str(s)+r\n",
    "        if c:\n",
    "            r='1'+r\n",
    "        return r\n"
   ]
  },
  {
   "cell_type": "code",
   "execution_count": 15,
   "metadata": {
    "collapsed": true
   },
   "outputs": [],
   "source": [
    "class Solution(object):\n",
    "    def addBinary(self,a,b):\n",
    "        la,lb,c,s,res=len(a),len(b),0,0,''\n",
    "        for i in range(max(la,lb)):\n",
    "            s=c\n",
    "            if i<la:\n",
    "                s+=int(a[-(i+1)])\n",
    "            if i<lb:\n",
    "                s+=int(b[-(i+1)])\n",
    "            s,c=s%2,s/2\n",
    "            res=str(s)+res\n",
    "        if c:\n",
    "            res='1'+res\n",
    "        return res\n",
    "            "
   ]
  },
  {
   "cell_type": "code",
   "execution_count": 16,
   "metadata": {
    "collapsed": true
   },
   "outputs": [],
   "source": [
    "s=Solution()"
   ]
  },
  {
   "cell_type": "code",
   "execution_count": 17,
   "metadata": {
    "collapsed": false
   },
   "outputs": [
    {
     "data": {
      "text/plain": [
       "'10101'"
      ]
     },
     "execution_count": 17,
     "metadata": {},
     "output_type": "execute_result"
    }
   ],
   "source": [
    "s.addBinary('1011','1010')"
   ]
  },
  {
   "cell_type": "code",
   "execution_count": 18,
   "metadata": {
    "collapsed": false
   },
   "outputs": [
    {
     "data": {
      "text/plain": [
       "'0'"
      ]
     },
     "execution_count": 18,
     "metadata": {},
     "output_type": "execute_result"
    }
   ],
   "source": [
    "s.addBinary('0','0')"
   ]
  },
  {
   "cell_type": "code",
   "execution_count": 19,
   "metadata": {
    "collapsed": false
   },
   "outputs": [
    {
     "data": {
      "text/plain": [
       "'110'"
      ]
     },
     "execution_count": 19,
     "metadata": {},
     "output_type": "execute_result"
    }
   ],
   "source": [
    "s.addBinary('11','11')"
   ]
  },
  {
   "cell_type": "code",
   "execution_count": null,
   "metadata": {
    "collapsed": true
   },
   "outputs": [],
   "source": []
  }
 ],
 "metadata": {
  "anaconda-cloud": {},
  "kernelspec": {
   "display_name": "Python [py2]",
   "language": "python",
   "name": "Python [py2]"
  },
  "language_info": {
   "codemirror_mode": {
    "name": "ipython",
    "version": 2
   },
   "file_extension": ".py",
   "mimetype": "text/x-python",
   "name": "python",
   "nbconvert_exporter": "python",
   "pygments_lexer": "ipython2",
   "version": "2.7.12"
  }
 },
 "nbformat": 4,
 "nbformat_minor": 1
}
