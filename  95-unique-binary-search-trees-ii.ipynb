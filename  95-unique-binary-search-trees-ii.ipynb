{
 "cells": [
  {
   "cell_type": "code",
   "execution_count": null,
   "metadata": {
    "collapsed": true
   },
   "outputs": [],
   "source": [
    "# encoding:utf-8\n",
    "import sys\n",
    "\n",
    "# Title: Unique Binary Search Trees II\n",
    "# Url: https://leetcode.com/problems/unique-binary-search-trees-ii/\n",
    "# Difficulty: Medium\n",
    "\n",
    "# Problem Content:\n",
    "\"\"\"\n",
    "Given an integer n, generate all structurally unique BST's (binary search trees) that store values 1...n.\n",
    "For example,\n",
    "Given n = 3, your program should return all 5 unique BST's shown below.\n",
    "   1         3     3      2      1\n",
    "    \\       /     /      / \\      \\\n",
    "     3     2     1      1   3      2\n",
    "    /     /       \\                 \\\n",
    "   2     1         2                 3\n",
    "Subscribe to see which companies asked this question\n",
    "Show Tags\n",
    "Tree\n",
    "Dynamic Programming\n",
    "Show Similar Problems\n",
    " (M) Unique Binary Search Trees\n",
    " (M) Different Ways to Add Parentheses\n",
    "\"\"\""
   ]
  },
  {
   "cell_type": "code",
   "execution_count": 2,
   "metadata": {
    "collapsed": true
   },
   "outputs": [],
   "source": [
    "# Definition for a binary tree node.\n",
    "class TreeNode(object):\n",
    "    def __init__(self, x):\n",
    "        self.val = x\n",
    "        self.left = None\n",
    "        self.right = None"
   ]
  },
  {
   "cell_type": "code",
   "execution_count": 3,
   "metadata": {
    "collapsed": true
   },
   "outputs": [],
   "source": [
    "class Solution(object):\n",
    "    def generateTrees(self, n):\n",
    "        \"\"\"\n",
    "        :type n: int\n",
    "        :rtype: List[TreeNode]\n",
    "        \"\"\"\n",
    "        def postOrder(left,right):\n",
    "            res=[]\n",
    "            if left>right:\n",
    "                res.append(None)\n",
    "                return res\n",
    "            for i in range(left,right+1):\n",
    "                left_res=postOrder(left,i-1)\n",
    "                right_res=postOrder(i+1,right)\n",
    "                for j in left_res:\n",
    "                    for k in right_res:\n",
    "                        root=TreeNode(i)\n",
    "                        root.left=j\n",
    "                        root.right=k\n",
    "                        res.append(root)\n",
    "            return res\n",
    "        return postOrder(1,n)"
   ]
  },
  {
   "cell_type": "code",
   "execution_count": 7,
   "metadata": {
    "collapsed": true
   },
   "outputs": [],
   "source": [
    "class Solution(object):\n",
    "    def postOrder(self,left,right):\n",
    "        res=[]\n",
    "        if left>right:\n",
    "            res.append(None)\n",
    "        for i in range(left,right+1):\n",
    "            left_res=self.postOrder(left,i-1)\n",
    "            right_res=self.postOrder(i+1,right)\n",
    "            for j in left_res:\n",
    "                for k in right_res:\n",
    "                    root=TreeNode(i)\n",
    "                    root.left,root.right=j,k\n",
    "                    res.append(root)\n",
    "        return res\n",
    "    def generateTrees(self,n):\n",
    "        return self.postOrder(1,n)"
   ]
  },
  {
   "cell_type": "code",
   "execution_count": 8,
   "metadata": {
    "collapsed": true
   },
   "outputs": [],
   "source": [
    "s=Solution()"
   ]
  },
  {
   "cell_type": "code",
   "execution_count": 9,
   "metadata": {
    "collapsed": false
   },
   "outputs": [
    {
     "data": {
      "text/plain": [
       "[<__main__.TreeNode at 0x3ee4470>,\n",
       " <__main__.TreeNode at 0x3ee4588>,\n",
       " <__main__.TreeNode at 0x3ee45c0>,\n",
       " <__main__.TreeNode at 0x3ee4668>,\n",
       " <__main__.TreeNode at 0x3ee4780>]"
      ]
     },
     "execution_count": 9,
     "metadata": {},
     "output_type": "execute_result"
    }
   ],
   "source": [
    "s.generateTrees(3)"
   ]
  },
  {
   "cell_type": "code",
   "execution_count": 10,
   "metadata": {
    "collapsed": false
   },
   "outputs": [
    {
     "data": {
      "text/plain": [
       "[None]"
      ]
     },
     "execution_count": 10,
     "metadata": {},
     "output_type": "execute_result"
    }
   ],
   "source": [
    "s.generateTrees(0)"
   ]
  },
  {
   "cell_type": "code",
   "execution_count": null,
   "metadata": {
    "collapsed": true
   },
   "outputs": [],
   "source": []
  }
 ],
 "metadata": {
  "anaconda-cloud": {},
  "kernelspec": {
   "display_name": "Python [py2]",
   "language": "python",
   "name": "Python [py2]"
  },
  "language_info": {
   "codemirror_mode": {
    "name": "ipython",
    "version": 2
   },
   "file_extension": ".py",
   "mimetype": "text/x-python",
   "name": "python",
   "nbconvert_exporter": "python",
   "pygments_lexer": "ipython2",
   "version": "2.7.12"
  }
 },
 "nbformat": 4,
 "nbformat_minor": 0
}
