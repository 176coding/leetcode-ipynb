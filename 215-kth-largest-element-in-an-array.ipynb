{
 "cells": [
  {
   "cell_type": "code",
   "execution_count": 12,
   "metadata": {
    "collapsed": false
   },
   "outputs": [
    {
     "name": "stdout",
     "output_type": "stream",
     "text": [
      "\f",
      "\n"
     ]
    }
   ],
   "source": [
    "# Title: Kth Largest Element in an Array\n",
    "# Url: https://leetcode.com/problems/kth-largest-element-in-an-array/\n",
    "# Difficulty: Medium\n",
    "\n",
    "# Problem Content:\n",
    "\"\"\"\n",
    "Find the kth largest element in an unsorted array. Note that it is the kth largest element in the sorted order, not the kth distinct element.\n",
    "For example,\n",
    "Given [3,2,1,5,6,4] and k = 2, return 5.\n",
    "Note: \n",
    "You may assume k is always valid, 1 ≤ k ≤ array's length.\n",
    "Credits:Special thanks to @mithmatt for adding this problem and creating all test cases.\n",
    "Subscribe to see which companies asked this question\n",
    "Show Tags\n",
    "Heap\n",
    "Divide and Conquer\n",
    "Show Similar Problems\n",
    " (M) Wiggle Sort II\n",
    " (M) Top K Frequent Elements\n",
    "\"\"\"\n",
    "%cls"
   ]
  },
  {
   "cell_type": "code",
   "execution_count": 11,
   "metadata": {
    "collapsed": true
   },
   "outputs": [],
   "source": [
    "import heapq\n",
    "class Solution(object):\n",
    "    def findKthLargest(self, nums, k):\n",
    "        \"\"\"\n",
    "        :type nums: List[int]\n",
    "        :type k: int\n",
    "        :rtype: int\n",
    "        \"\"\"\n",
    "        return heapq.nlargest(k,nums)[k-1]"
   ]
  },
  {
   "cell_type": "code",
   "execution_count": 49,
   "metadata": {
    "collapsed": true
   },
   "outputs": [],
   "source": [
    "class Solution(object):\n",
    "    def findKthLargest(self, nums, k):\n",
    "        pivot=nums[0]\n",
    "        big=[i for i in nums if i>pivot]\n",
    "        equal=[i for i in nums if i==pivot]\n",
    "        small=[i for i in nums if i<pivot]\n",
    "        if k<=len(big):\n",
    "            return self.findKthLargest(big,k)\n",
    "        elif k-len(big)<=len(equal):\n",
    "            return equal[0]\n",
    "        else:#k-len(big)-len(equal)<=len(small)\n",
    "            return self.findKthLargest(small,k-len(big)-len(equal))"
   ]
  },
  {
   "cell_type": "code",
   "execution_count": 53,
   "metadata": {
    "collapsed": true
   },
   "outputs": [],
   "source": [
    "class Solution(object):\n",
    "    def findKthLargest(self, nums, k):\n",
    "        left,right=0,len(nums)-1\n",
    "        while True:\n",
    "            pos=self.partition(nums,left,right)\n",
    "            if pos==k-1:\n",
    "                return nums[pos]\n",
    "            elif pos>k-1:\n",
    "                right=pos-1\n",
    "            else:\n",
    "                left=pos+1\n",
    "                \n",
    "    def partition(self,nums,left,right):\n",
    "        pivot=nums[left]\n",
    "        i,j=left,right\n",
    "        while i<j:\n",
    "            while i<j and nums[j]<=pivot:\n",
    "                j-=1\n",
    "            while i<j and nums[i]>=pivot:\n",
    "                i+=1\n",
    "            if i<j:\n",
    "                nums[i],nums[j]=nums[j],nums[i]\n",
    "        nums[left],nums[i]=nums[i],nums[left]\n",
    "        return i"
   ]
  },
  {
   "cell_type": "code",
   "execution_count": 54,
   "metadata": {
    "collapsed": false
   },
   "outputs": [
    {
     "data": {
      "text/plain": [
       "5"
      ]
     },
     "execution_count": 54,
     "metadata": {},
     "output_type": "execute_result"
    }
   ],
   "source": [
    "s = Solution()\n",
    "s.findKthLargest([3,2,1,5,6,4],2)"
   ]
  },
  {
   "cell_type": "code",
   "execution_count": null,
   "metadata": {
    "collapsed": true
   },
   "outputs": [],
   "source": []
  }
 ],
 "metadata": {
  "anaconda-cloud": {},
  "kernelspec": {
   "display_name": "Python [py27]",
   "language": "python",
   "name": "Python [py27]"
  },
  "language_info": {
   "codemirror_mode": {
    "name": "ipython",
    "version": 2
   },
   "file_extension": ".py",
   "mimetype": "text/x-python",
   "name": "python",
   "nbconvert_exporter": "python",
   "pygments_lexer": "ipython2",
   "version": "2.7.12"
  }
 },
 "nbformat": 4,
 "nbformat_minor": 1
}
