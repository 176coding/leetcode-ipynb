{
 "cells": [
  {
   "cell_type": "code",
   "execution_count": null,
   "metadata": {
    "collapsed": true
   },
   "outputs": [],
   "source": [
    "# encoding:utf-8\n",
    "import sys\n",
    "\n",
    "# Title: Sort Colors\n",
    "# Url: https://leetcode.com/problems/sort-colors/\n",
    "# Difficulty: Medium\n",
    "\n",
    "# Problem Content:\n",
    "\"\"\"\n",
    "Given an array with n objects colored red, white or blue, sort them so that objects of the same color are adjacent, with the colors in the order red, white and blue.\n",
    "Here, we will use the integers 0, 1, and 2 to represent the color red, white, and blue respectively.\n",
    "Note:\n",
    "You are not suppose to use the library's sort function for this problem.\n",
    "click to show follow up.\n",
    "Follow up:\n",
    "A rather straight forward solution is a two-pass algorithm using counting sort.\n",
    "First, iterate the array counting number of 0's, 1's, and 2's, then overwrite array with total number of 0's, then 1's and followed by 2's.\n",
    "Could you come up with an one-pass algorithm using only constant space?\n",
    "Subscribe to see which companies asked this question\n",
    "Show Tags\n",
    "Array\n",
    "Two Pointers\n",
    "Sort\n",
    "Show Similar Problems\n",
    " (M) Sort List\n",
    " (M) Wiggle Sort\n",
    " (M) Wiggle Sort II\n",
    "\"\"\""
   ]
  },
  {
   "cell_type": "code",
   "execution_count": 11,
   "metadata": {
    "collapsed": true
   },
   "outputs": [],
   "source": [
    "from collections import Counter\n",
    "class Solution(object):\n",
    "    def sortColors(self, nums):\n",
    "        \"\"\"\n",
    "        :type nums: List[int]\n",
    "        :rtype: void Do not return anything, modify nums in-place instead.\n",
    "        \"\"\"\n",
    "        dc=Counter(nums)\n",
    "        idx=0\n",
    "        for i in [0,1,2]:\n",
    "            for j in range(dc[i]):\n",
    "                nums[idx],idx=i,idx+1\n",
    "        \n"
   ]
  },
  {
   "cell_type": "code",
   "execution_count": 17,
   "metadata": {
    "collapsed": true
   },
   "outputs": [],
   "source": [
    "class Solution(object):\n",
    "    def sortColors(self,nums):\n",
    "        i,j,n=0,0,len(nums)-1\n",
    "        while j<=n:\n",
    "            if nums[j]==0:\n",
    "                nums[i],nums[j]=nums[j],nums[i]\n",
    "                i,j=i+1,j+1\n",
    "            elif nums[j]==1:\n",
    "                j+=1\n",
    "            else:\n",
    "                nums[j],nums[n]=nums[n],nums[j]\n",
    "                n-=1"
   ]
  },
  {
   "cell_type": "code",
   "execution_count": 14,
   "metadata": {
    "collapsed": true
   },
   "outputs": [],
   "source": [
    "class Solution(object):\n",
    "    def sortColors(self,nums):\n",
    "        i=j=0\n",
    "        for k in range(len(nums)):\n",
    "            v=nums[k]\n",
    "            nums[k]=2\n",
    "            if v<2:\n",
    "                nums[j],j=1,j+1\n",
    "            if v==0:\n",
    "                nums[i],i=0,i+1\n",
    "                "
   ]
  },
  {
   "cell_type": "code",
   "execution_count": 18,
   "metadata": {
    "collapsed": true
   },
   "outputs": [],
   "source": [
    "s=Solution()"
   ]
  },
  {
   "cell_type": "code",
   "execution_count": 19,
   "metadata": {
    "collapsed": false
   },
   "outputs": [
    {
     "data": {
      "text/plain": [
       "[0, 0, 1, 1, 1, 2, 2, 2]"
      ]
     },
     "execution_count": 19,
     "metadata": {},
     "output_type": "execute_result"
    }
   ],
   "source": [
    "a=[2,1,1,2,1,2,0,0]\n",
    "s.sortColors(a)\n",
    "a"
   ]
  },
  {
   "cell_type": "code",
   "execution_count": null,
   "metadata": {
    "collapsed": true
   },
   "outputs": [],
   "source": []
  }
 ],
 "metadata": {
  "kernelspec": {
   "display_name": "Python [py2]",
   "language": "python",
   "name": "Python [py2]"
  },
  "language_info": {
   "codemirror_mode": {
    "name": "ipython",
    "version": 2
   },
   "file_extension": ".py",
   "mimetype": "text/x-python",
   "name": "python",
   "nbconvert_exporter": "python",
   "pygments_lexer": "ipython2",
   "version": "2.7.12"
  }
 },
 "nbformat": 4,
 "nbformat_minor": 0
}
